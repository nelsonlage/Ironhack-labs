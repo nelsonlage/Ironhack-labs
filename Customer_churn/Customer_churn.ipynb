{
 "cells": [
  {
   "cell_type": "markdown",
   "id": "88e5f802",
   "metadata": {},
   "source": [
    "## Import libraries"
   ]
  },
  {
   "cell_type": "code",
   "execution_count": 1,
   "id": "0209725f",
   "metadata": {},
   "outputs": [],
   "source": [
    "import numpy as np\n",
    "import pandas as pd\n",
    "import seaborn as sns\n",
    "import matplotlib.pyplot as plt\n",
    "%matplotlib inline\n",
    "\n",
    "from sklearn.preprocessing import StandardScaler\n",
    "from sklearn.model_selection import train_test_split, KFold, cross_val_score\n",
    "from sklearn.linear_model import LogisticRegression\n",
    "from sklearn.tree import DecisionTreeClassifier\n",
    "from sklearn.ensemble import RandomForestClassifier\n",
    "from sklearn.metrics import confusion_matrix, classification_report, ConfusionMatrixDisplay"
   ]
  },
  {
   "cell_type": "code",
   "execution_count": 2,
   "id": "4bf34874",
   "metadata": {},
   "outputs": [],
   "source": [
    "#%load_ext pycodestyle_magic\n",
    "#%pycodestyle_on"
   ]
  },
  {
   "cell_type": "markdown",
   "id": "b42dd587",
   "metadata": {},
   "source": [
    "## Read the data"
   ]
  },
  {
   "cell_type": "code",
   "execution_count": 3,
   "id": "6dc9b1c7",
   "metadata": {},
   "outputs": [
    {
     "data": {
      "text/html": [
       "<div>\n",
       "<style scoped>\n",
       "    .dataframe tbody tr th:only-of-type {\n",
       "        vertical-align: middle;\n",
       "    }\n",
       "\n",
       "    .dataframe tbody tr th {\n",
       "        vertical-align: top;\n",
       "    }\n",
       "\n",
       "    .dataframe thead th {\n",
       "        text-align: right;\n",
       "    }\n",
       "</style>\n",
       "<table border=\"1\" class=\"dataframe\">\n",
       "  <thead>\n",
       "    <tr style=\"text-align: right;\">\n",
       "      <th></th>\n",
       "      <th>gender</th>\n",
       "      <th>SeniorCitizen</th>\n",
       "      <th>Partner</th>\n",
       "      <th>Dependents</th>\n",
       "      <th>tenure</th>\n",
       "      <th>PhoneService</th>\n",
       "      <th>OnlineSecurity</th>\n",
       "      <th>OnlineBackup</th>\n",
       "      <th>DeviceProtection</th>\n",
       "      <th>TechSupport</th>\n",
       "      <th>StreamingTV</th>\n",
       "      <th>StreamingMovies</th>\n",
       "      <th>Contract</th>\n",
       "      <th>MonthlyCharges</th>\n",
       "      <th>TotalCharges</th>\n",
       "      <th>Churn</th>\n",
       "    </tr>\n",
       "  </thead>\n",
       "  <tbody>\n",
       "    <tr>\n",
       "      <th>0</th>\n",
       "      <td>Female</td>\n",
       "      <td>0</td>\n",
       "      <td>Yes</td>\n",
       "      <td>No</td>\n",
       "      <td>1</td>\n",
       "      <td>No</td>\n",
       "      <td>No</td>\n",
       "      <td>Yes</td>\n",
       "      <td>No</td>\n",
       "      <td>No</td>\n",
       "      <td>No</td>\n",
       "      <td>No</td>\n",
       "      <td>Month-to-month</td>\n",
       "      <td>29.85</td>\n",
       "      <td>29.85</td>\n",
       "      <td>No</td>\n",
       "    </tr>\n",
       "    <tr>\n",
       "      <th>1</th>\n",
       "      <td>Male</td>\n",
       "      <td>0</td>\n",
       "      <td>No</td>\n",
       "      <td>No</td>\n",
       "      <td>34</td>\n",
       "      <td>Yes</td>\n",
       "      <td>Yes</td>\n",
       "      <td>No</td>\n",
       "      <td>Yes</td>\n",
       "      <td>No</td>\n",
       "      <td>No</td>\n",
       "      <td>No</td>\n",
       "      <td>One year</td>\n",
       "      <td>56.95</td>\n",
       "      <td>1889.5</td>\n",
       "      <td>No</td>\n",
       "    </tr>\n",
       "    <tr>\n",
       "      <th>2</th>\n",
       "      <td>Male</td>\n",
       "      <td>0</td>\n",
       "      <td>No</td>\n",
       "      <td>No</td>\n",
       "      <td>2</td>\n",
       "      <td>Yes</td>\n",
       "      <td>Yes</td>\n",
       "      <td>Yes</td>\n",
       "      <td>No</td>\n",
       "      <td>No</td>\n",
       "      <td>No</td>\n",
       "      <td>No</td>\n",
       "      <td>Month-to-month</td>\n",
       "      <td>53.85</td>\n",
       "      <td>108.15</td>\n",
       "      <td>Yes</td>\n",
       "    </tr>\n",
       "    <tr>\n",
       "      <th>3</th>\n",
       "      <td>Male</td>\n",
       "      <td>0</td>\n",
       "      <td>No</td>\n",
       "      <td>No</td>\n",
       "      <td>45</td>\n",
       "      <td>No</td>\n",
       "      <td>Yes</td>\n",
       "      <td>No</td>\n",
       "      <td>Yes</td>\n",
       "      <td>Yes</td>\n",
       "      <td>No</td>\n",
       "      <td>No</td>\n",
       "      <td>One year</td>\n",
       "      <td>42.30</td>\n",
       "      <td>1840.75</td>\n",
       "      <td>No</td>\n",
       "    </tr>\n",
       "    <tr>\n",
       "      <th>4</th>\n",
       "      <td>Female</td>\n",
       "      <td>0</td>\n",
       "      <td>No</td>\n",
       "      <td>No</td>\n",
       "      <td>2</td>\n",
       "      <td>Yes</td>\n",
       "      <td>No</td>\n",
       "      <td>No</td>\n",
       "      <td>No</td>\n",
       "      <td>No</td>\n",
       "      <td>No</td>\n",
       "      <td>No</td>\n",
       "      <td>Month-to-month</td>\n",
       "      <td>70.70</td>\n",
       "      <td>151.65</td>\n",
       "      <td>Yes</td>\n",
       "    </tr>\n",
       "  </tbody>\n",
       "</table>\n",
       "</div>"
      ],
      "text/plain": [
       "   gender  SeniorCitizen Partner Dependents  tenure PhoneService  \\\n",
       "0  Female              0     Yes         No       1           No   \n",
       "1    Male              0      No         No      34          Yes   \n",
       "2    Male              0      No         No       2          Yes   \n",
       "3    Male              0      No         No      45           No   \n",
       "4  Female              0      No         No       2          Yes   \n",
       "\n",
       "  OnlineSecurity OnlineBackup DeviceProtection TechSupport StreamingTV  \\\n",
       "0             No          Yes               No          No          No   \n",
       "1            Yes           No              Yes          No          No   \n",
       "2            Yes          Yes               No          No          No   \n",
       "3            Yes           No              Yes         Yes          No   \n",
       "4             No           No               No          No          No   \n",
       "\n",
       "  StreamingMovies        Contract  MonthlyCharges TotalCharges Churn  \n",
       "0              No  Month-to-month           29.85        29.85    No  \n",
       "1              No        One year           56.95       1889.5    No  \n",
       "2              No  Month-to-month           53.85       108.15   Yes  \n",
       "3              No        One year           42.30      1840.75    No  \n",
       "4              No  Month-to-month           70.70       151.65   Yes  "
      ]
     },
     "execution_count": 3,
     "metadata": {},
     "output_type": "execute_result"
    }
   ],
   "source": [
    "churn_data = pd.read_csv('DATA_Customer-Churn.csv')\n",
    "churn_data.head()"
   ]
  },
  {
   "cell_type": "markdown",
   "id": "23d161ba",
   "metadata": {},
   "source": [
    "## Short exploration"
   ]
  },
  {
   "cell_type": "code",
   "execution_count": 4,
   "id": "f0476678",
   "metadata": {},
   "outputs": [],
   "source": [
    "# Make all column names lowercase\n",
    "churn_data.columns = [col.lower() for col in churn_data.columns]"
   ]
  },
  {
   "cell_type": "code",
   "execution_count": 5,
   "id": "c7cb59c6",
   "metadata": {
    "scrolled": false
   },
   "outputs": [
    {
     "name": "stdout",
     "output_type": "stream",
     "text": [
      "<class 'pandas.core.frame.DataFrame'>\n",
      "RangeIndex: 7043 entries, 0 to 7042\n",
      "Data columns (total 16 columns):\n",
      " #   Column            Non-Null Count  Dtype  \n",
      "---  ------            --------------  -----  \n",
      " 0   gender            7043 non-null   object \n",
      " 1   seniorcitizen     7043 non-null   int64  \n",
      " 2   partner           7043 non-null   object \n",
      " 3   dependents        7043 non-null   object \n",
      " 4   tenure            7043 non-null   int64  \n",
      " 5   phoneservice      7043 non-null   object \n",
      " 6   onlinesecurity    7043 non-null   object \n",
      " 7   onlinebackup      7043 non-null   object \n",
      " 8   deviceprotection  7043 non-null   object \n",
      " 9   techsupport       7043 non-null   object \n",
      " 10  streamingtv       7043 non-null   object \n",
      " 11  streamingmovies   7043 non-null   object \n",
      " 12  contract          7043 non-null   object \n",
      " 13  monthlycharges    7043 non-null   float64\n",
      " 14  totalcharges      7043 non-null   object \n",
      " 15  churn             7043 non-null   object \n",
      "dtypes: float64(1), int64(2), object(13)\n",
      "memory usage: 880.5+ KB\n"
     ]
    }
   ],
   "source": [
    "# Check for missing values and data types\n",
    "churn_data.info()"
   ]
  },
  {
   "cell_type": "markdown",
   "id": "51e08418",
   "metadata": {},
   "source": [
    "It seems like there are no missing values. However, when we try to convert the type in `TotalCharges`, we get a `ValueError`\n",
    "\n",
    "```python\n",
    "pd.to_numeric(churn_data['totalcharges'])\n",
    "```\n",
    "```\n",
    "> ValueError: Unable to parse string \" \" \n",
    "```\n",
    "\n",
    "Apparently some values are just a single space character `\" \"` (which probably represents missing data). Let's deal with them:"
   ]
  },
  {
   "cell_type": "code",
   "execution_count": 6,
   "id": "03abed6b",
   "metadata": {},
   "outputs": [],
   "source": [
    "churn_data['totalcharges'] = pd.to_numeric(churn_data['totalcharges'], errors='coerce')  # invalid parsing will be set as NaN\n",
    "churn_data['totalcharges'].fillna(\n",
    "    churn_data['totalcharges'].mean(),\n",
    "    inplace=True)  # replace NaN by the mean"
   ]
  },
  {
   "cell_type": "code",
   "execution_count": 7,
   "id": "e25ad763",
   "metadata": {
    "scrolled": false
   },
   "outputs": [
    {
     "name": "stdout",
     "output_type": "stream",
     "text": [
      "churn_data['totalcharges']\n",
      "Dtype: float64\n",
      "Missing values: 0\n"
     ]
    }
   ],
   "source": [
    "# Check if the changes took place\n",
    "print('churn_data[\\'totalcharges\\']\\nDtype: {}\\nMissing values: {}'.format(\n",
    "    churn_data['totalcharges'].dtype,\n",
    "    churn_data['totalcharges'].isna().sum())\n",
    "     )"
   ]
  },
  {
   "cell_type": "code",
   "execution_count": 8,
   "id": "8306f44d",
   "metadata": {},
   "outputs": [
    {
     "data": {
      "image/png": "[encoded data removed]",
      "text/plain": [
       "<Figure size 432x288 with 1 Axes>"
      ]
     },
     "metadata": {
      "needs_background": "light"
     },
     "output_type": "display_data"
    }
   ],
   "source": [
    "# Check the target variable\n",
    "churn_data['churn'].value_counts(normalize=True, sort=True, ascending=True).plot.bar(rot=0, color=['LightCoral', 'LightSeaGreen'])\n",
    "\n",
    "yes_label = churn_data['churn'].value_counts(normalize=True).round(4)['Yes']\n",
    "no_label = churn_data['churn'].value_counts(normalize=True).round(4)['No']\n",
    "\n",
    "plt.title('Proportion of churned customers')\n",
    "plt.annotate(yes_label, xy=(0, 0.3), xytext=(-0.13, 0.2), color='white', weight='bold')\n",
    "plt.annotate(no_label, xy=(1, 0.7), xytext=(0.88, 0.67), color='white', weight='bold')\n",
    "plt.show()"
   ]
  },
  {
   "cell_type": "markdown",
   "id": "8c9e41b0",
   "metadata": {},
   "source": [
    "The data is inbalanced: there are 2.8 times more customers that haven't churned."
   ]
  },
  {
   "cell_type": "markdown",
   "id": "a332e6a5",
   "metadata": {},
   "source": [
    "## X/y split"
   ]
  },
  {
   "cell_type": "code",
   "execution_count": 9,
   "id": "80d9b589",
   "metadata": {},
   "outputs": [],
   "source": [
    "X = churn_data.select_dtypes('number')\n",
    "y = churn_data['churn']"
   ]
  },
  {
   "cell_type": "markdown",
   "id": "f073a247",
   "metadata": {},
   "source": [
    "## Train/test split and standardization"
   ]
  },
  {
   "cell_type": "code",
   "execution_count": 10,
   "id": "84a47955",
   "metadata": {},
   "outputs": [],
   "source": [
    "X_train, X_test, y_train, y_test = train_test_split(X, y, test_size=0.20, random_state=42)\n",
    "\n",
    "scaler = StandardScaler()\n",
    "scaler.fit(X_train)\n",
    "\n",
    "X_train_scaled = scaler.transform(X_train)\n",
    "X_test_scaled  = scaler.transform(X_test)"
   ]
  },
  {
   "cell_type": "code",
   "execution_count": 11,
   "id": "0ed52ee1",
   "metadata": {},
   "outputs": [],
   "source": [
    "model_accuracy = dict()"
   ]
  },
  {
   "cell_type": "markdown",
   "id": "e86a8c26",
   "metadata": {},
   "source": [
    "## Logistic regression"
   ]
  },
  {
   "cell_type": "code",
   "execution_count": 12,
   "id": "27fe6ab5",
   "metadata": {},
   "outputs": [
    {
     "name": "stdout",
     "output_type": "stream",
     "text": [
      "              precision    recall  f1-score   support\n",
      "\n",
      "          No     0.8317    0.9257    0.8762      1036\n",
      "         Yes     0.6992    0.4799    0.5692       373\n",
      "\n",
      "    accuracy                         0.8077      1409\n",
      "   macro avg     0.7655    0.7028    0.7227      1409\n",
      "weighted avg     0.7967    0.8077    0.7949      1409\n",
      "\n"
     ]
    }
   ],
   "source": [
    "log_reg = LogisticRegression().fit(X_train_scaled, y_train)\n",
    "y_hat = log_reg.predict(X_test_scaled)\n",
    "\n",
    "print(classification_report(y_test, y_hat, digits=4))"
   ]
  },
  {
   "cell_type": "code",
   "execution_count": 13,
   "id": "ce20d5b4",
   "metadata": {},
   "outputs": [
    {
     "data": {
      "image/png": "[encoded data removed]",
      "text/plain": [
       "<Figure size 432x288 with 2 Axes>"
      ]
     },
     "metadata": {
      "needs_background": "light"
     },
     "output_type": "display_data"
    }
   ],
   "source": [
    "cm = confusion_matrix(y_test, y_hat)\n",
    "disp = ConfusionMatrixDisplay(cm, display_labels=log_reg.classes_)\n",
    "disp.plot()\n",
    "plt.show()"
   ]
  },
  {
   "cell_type": "code",
   "execution_count": 14,
   "id": "6486e0ba",
   "metadata": {},
   "outputs": [],
   "source": [
    "model_accuracy['Logistic Regression'] = classification_report(y_test, y_hat, output_dict=True)['accuracy']"
   ]
  },
  {
   "cell_type": "markdown",
   "id": "010257f5",
   "metadata": {},
   "source": [
    "The overall accuracy is 0.8077. The model is better at predicting the label 'No' (recall = 0.9257), probably because of the inbalencement of the data (there are way more 'No' than 'Yes' labels)."
   ]
  },
  {
   "cell_type": "markdown",
   "id": "8e1c0be8",
   "metadata": {},
   "source": [
    "## Decision Tree"
   ]
  },
  {
   "cell_type": "code",
   "execution_count": 15,
   "id": "5fec3576",
   "metadata": {},
   "outputs": [
    {
     "name": "stdout",
     "output_type": "stream",
     "text": [
      "              precision    recall  f1-score   support\n",
      "\n",
      "          No     0.8098    0.8185    0.8142      1025\n",
      "         Yes     0.5013    0.4870    0.4941       384\n",
      "\n",
      "    accuracy                         0.7282      1409\n",
      "   macro avg     0.6556    0.6528    0.6541      1409\n",
      "weighted avg     0.7258    0.7282    0.7269      1409\n",
      "\n"
     ]
    }
   ],
   "source": [
    "dec_tree = DecisionTreeClassifier(random_state=42)\n",
    "dec_tree.fit(X_train_scaled, y_train)\n",
    "\n",
    "y_hat = dec_tree.predict(X_test_scaled)\n",
    "\n",
    "print(classification_report(y_hat, y_test,  digits=4))"
   ]
  },
  {
   "cell_type": "code",
   "execution_count": 16,
   "id": "349f36b5",
   "metadata": {},
   "outputs": [
    {
     "data": {
      "image/png": "[encoded data removed]",
      "text/plain": [
       "<Figure size 432x288 with 2 Axes>"
      ]
     },
     "metadata": {
      "needs_background": "light"
     },
     "output_type": "display_data"
    }
   ],
   "source": [
    "cm = confusion_matrix(y_hat, y_test)\n",
    "disp = ConfusionMatrixDisplay(cm, display_labels=dec_tree.classes_)\n",
    "disp.plot()\n",
    "plt.show()"
   ]
  },
  {
   "cell_type": "code",
   "execution_count": 17,
   "id": "415b6f82",
   "metadata": {},
   "outputs": [],
   "source": [
    "model_accuracy['Decision Tree'] = classification_report(y_test, y_hat, output_dict=True)['accuracy']"
   ]
  },
  {
   "cell_type": "markdown",
   "id": "ca75dd34",
   "metadata": {},
   "source": [
    "### Cross-validation on the decision tree"
   ]
  },
  {
   "cell_type": "code",
   "execution_count": 18,
   "id": "51fc7062",
   "metadata": {},
   "outputs": [
    {
     "name": "stdout",
     "output_type": "stream",
     "text": [
      "Accuracy: 0.7179\n",
      "Standard deviation: 0.0146\n"
     ]
    }
   ],
   "source": [
    "cv = KFold(n_splits=5, random_state=42, shuffle=True)\n",
    "results = cross_val_score(dec_tree, X, y, cv=cv)\n",
    "\n",
    "print('Accuracy: {:.4f}\\nStandard deviation: {:.4f}'.format(results.mean(), results.std()))"
   ]
  },
  {
   "cell_type": "code",
   "execution_count": 19,
   "id": "93997c24",
   "metadata": {},
   "outputs": [],
   "source": [
    "model_accuracy['CV on decision tree'] = results.mean()"
   ]
  },
  {
   "cell_type": "markdown",
   "id": "b0c29263",
   "metadata": {},
   "source": [
    "## Random Forest"
   ]
  },
  {
   "cell_type": "code",
   "execution_count": 20,
   "id": "91daa986",
   "metadata": {},
   "outputs": [
    {
     "name": "stdout",
     "output_type": "stream",
     "text": [
      "              precision    recall  f1-score   support\n",
      "\n",
      "          No     0.8726    0.8196    0.8453      1103\n",
      "         Yes     0.4665    0.5686    0.5125       306\n",
      "\n",
      "    accuracy                         0.7651      1409\n",
      "   macro avg     0.6695    0.6941    0.6789      1409\n",
      "weighted avg     0.7844    0.7651    0.7730      1409\n",
      "\n"
     ]
    }
   ],
   "source": [
    "rdn_frst = RandomForestClassifier(random_state=42)\n",
    "rdn_frst.fit(X_train_scaled, y_train)\n",
    "\n",
    "y_hat = rdn_frst.predict(X_test_scaled)\n",
    "\n",
    "print(classification_report(y_hat, y_test,  digits=4))"
   ]
  },
  {
   "cell_type": "code",
   "execution_count": 21,
   "id": "ba230c18",
   "metadata": {},
   "outputs": [
    {
     "name": "stdout",
     "output_type": "stream",
     "text": [
      "              precision    recall  f1-score   support\n",
      "\n",
      "          No     0.8755    0.8186    0.8461      1108\n",
      "         Yes     0.4611    0.5714    0.5104       301\n",
      "\n",
      "    accuracy                         0.7658      1409\n",
      "   macro avg     0.6683    0.6950    0.6782      1409\n",
      "weighted avg     0.7870    0.7658    0.7744      1409\n",
      "\n"
     ]
    }
   ],
   "source": [
    "rdn_frst = RandomForestClassifier(random_state=42)\n",
    "rdn_frst.fit(X_train, y_train)\n",
    "\n",
    "y_hat = rdn_frst.predict(X_test)\n",
    "\n",
    "print(classification_report(y_hat, y_test,  digits=4))"
   ]
  },
  {
   "cell_type": "code",
   "execution_count": 22,
   "id": "80d8bad0",
   "metadata": {},
   "outputs": [
    {
     "data": {
      "image/png": "[encoded data removed]",
      "text/plain": [
       "<Figure size 432x288 with 2 Axes>"
      ]
     },
     "metadata": {
      "needs_background": "light"
     },
     "output_type": "display_data"
    }
   ],
   "source": [
    "cm = confusion_matrix(y_hat, y_test)\n",
    "disp = ConfusionMatrixDisplay(cm, display_labels=rdn_frst.classes_)\n",
    "disp.plot()\n",
    "plt.show()"
   ]
  },
  {
   "cell_type": "code",
   "execution_count": 23,
   "id": "0b96c6bb",
   "metadata": {},
   "outputs": [],
   "source": [
    "model_accuracy['Random Forest'] = classification_report(y_test, y_hat, output_dict=True)['accuracy']"
   ]
  },
  {
   "cell_type": "markdown",
   "id": "7b44147f",
   "metadata": {},
   "source": [
    "## Summary"
   ]
  },
  {
   "cell_type": "code",
   "execution_count": 24,
   "id": "27dd061a",
   "metadata": {},
   "outputs": [
    {
     "data": {
      "text/html": [
       "<div>\n",
       "<style scoped>\n",
       "    .dataframe tbody tr th:only-of-type {\n",
       "        vertical-align: middle;\n",
       "    }\n",
       "\n",
       "    .dataframe tbody tr th {\n",
       "        vertical-align: top;\n",
       "    }\n",
       "\n",
       "    .dataframe thead th {\n",
       "        text-align: right;\n",
       "    }\n",
       "</style>\n",
       "<table border=\"1\" class=\"dataframe\">\n",
       "  <thead>\n",
       "    <tr style=\"text-align: right;\">\n",
       "      <th></th>\n",
       "      <th>Logistic Regression</th>\n",
       "      <th>Decision Tree</th>\n",
       "      <th>CV on decision tree</th>\n",
       "      <th>Random Forest</th>\n",
       "    </tr>\n",
       "  </thead>\n",
       "  <tbody>\n",
       "    <tr>\n",
       "      <th>0</th>\n",
       "      <td>0.807665</td>\n",
       "      <td>0.728176</td>\n",
       "      <td>0.717877</td>\n",
       "      <td>0.765791</td>\n",
       "    </tr>\n",
       "  </tbody>\n",
       "</table>\n",
       "</div>"
      ],
      "text/plain": [
       "   Logistic Regression  Decision Tree  CV on decision tree  Random Forest\n",
       "0             0.807665       0.728176             0.717877       0.765791"
      ]
     },
     "execution_count": 24,
     "metadata": {},
     "output_type": "execute_result"
    }
   ],
   "source": [
    "pd.DataFrame([model_accuracy])"
   ]
  },
  {
   "cell_type": "code",
   "execution_count": null,
   "id": "29bffc6d",
   "metadata": {},
   "outputs": [],
   "source": []
  }
 ],
 "metadata": {
  "kernelspec": {
   "display_name": "Python 3 (ipykernel)",
   "language": "python",
   "name": "python3"
  },
  "language_info": {
   "codemirror_mode": {
    "name": "ipython",
    "version": 3
   },
   "file_extension": ".py",
   "mimetype": "text/x-python",
   "name": "python",
   "nbconvert_exporter": "python",
   "pygments_lexer": "ipython3",
   "version": "3.7.11"
  }
 },
 "nbformat": 4,
 "nbformat_minor": 5
}
