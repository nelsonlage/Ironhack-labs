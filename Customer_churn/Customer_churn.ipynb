{
 "cells": [
  {
   "cell_type": "markdown",
   "id": "88e5f802",
   "metadata": {},
   "source": [
    "## Import libraries"
   ]
  },
  {
   "cell_type": "code",
   "execution_count": 1,
   "id": "0209725f",
   "metadata": {},
   "outputs": [],
   "source": [
    "import numpy as np\n",
    "import pandas as pd\n",
    "import seaborn as sns\n",
    "import matplotlib.pyplot as plt\n",
    "%matplotlib inline\n",
    "from operator import itemgetter\n",
    "\n",
    "from sklearn.preprocessing import StandardScaler, LabelBinarizer\n",
    "from sklearn.model_selection import train_test_split, KFold, cross_val_score, cross_val_predict\n",
    "from sklearn.linear_model import LogisticRegression\n",
    "from sklearn.tree import DecisionTreeClassifier\n",
    "from sklearn.ensemble import RandomForestClassifier\n",
    "from sklearn.metrics import confusion_matrix, classification_report, ConfusionMatrixDisplay, make_scorer, recall_score\n",
    "from sklearn.tree import plot_tree\n",
    "\n",
    "from imblearn.over_sampling import SMOTE\n",
    "from imblearn.under_sampling import TomekLinks"
   ]
  },
  {
   "cell_type": "code",
   "execution_count": 2,
   "id": "4bf34874",
   "metadata": {},
   "outputs": [],
   "source": [
    "#%load_ext pycodestyle_magic\n",
    "#%pycodestyle_on"
   ]
  },
  {
   "cell_type": "markdown",
   "id": "b42dd587",
   "metadata": {},
   "source": [
    "## Read the data"
   ]
  },
  {
   "cell_type": "code",
   "execution_count": 3,
   "id": "6dc9b1c7",
   "metadata": {},
   "outputs": [
    {
     "name": "stdout",
     "output_type": "stream",
     "text": [
      "(7043, 16)\n"
     ]
    },
    {
     "data": {
      "text/html": [
       "<div>\n",
       "<style scoped>\n",
       "    .dataframe tbody tr th:only-of-type {\n",
       "        vertical-align: middle;\n",
       "    }\n",
       "\n",
       "    .dataframe tbody tr th {\n",
       "        vertical-align: top;\n",
       "    }\n",
       "\n",
       "    .dataframe thead th {\n",
       "        text-align: right;\n",
       "    }\n",
       "</style>\n",
       "<table border=\"1\" class=\"dataframe\">\n",
       "  <thead>\n",
       "    <tr style=\"text-align: right;\">\n",
       "      <th></th>\n",
       "      <th>gender</th>\n",
       "      <th>SeniorCitizen</th>\n",
       "      <th>Partner</th>\n",
       "      <th>Dependents</th>\n",
       "      <th>tenure</th>\n",
       "      <th>PhoneService</th>\n",
       "      <th>OnlineSecurity</th>\n",
       "      <th>OnlineBackup</th>\n",
       "      <th>DeviceProtection</th>\n",
       "      <th>TechSupport</th>\n",
       "      <th>StreamingTV</th>\n",
       "      <th>StreamingMovies</th>\n",
       "      <th>Contract</th>\n",
       "      <th>MonthlyCharges</th>\n",
       "      <th>TotalCharges</th>\n",
       "      <th>Churn</th>\n",
       "    </tr>\n",
       "  </thead>\n",
       "  <tbody>\n",
       "    <tr>\n",
       "      <th>0</th>\n",
       "      <td>Female</td>\n",
       "      <td>0</td>\n",
       "      <td>Yes</td>\n",
       "      <td>No</td>\n",
       "      <td>1</td>\n",
       "      <td>No</td>\n",
       "      <td>No</td>\n",
       "      <td>Yes</td>\n",
       "      <td>No</td>\n",
       "      <td>No</td>\n",
       "      <td>No</td>\n",
       "      <td>No</td>\n",
       "      <td>Month-to-month</td>\n",
       "      <td>29.85</td>\n",
       "      <td>29.85</td>\n",
       "      <td>No</td>\n",
       "    </tr>\n",
       "    <tr>\n",
       "      <th>1</th>\n",
       "      <td>Male</td>\n",
       "      <td>0</td>\n",
       "      <td>No</td>\n",
       "      <td>No</td>\n",
       "      <td>34</td>\n",
       "      <td>Yes</td>\n",
       "      <td>Yes</td>\n",
       "      <td>No</td>\n",
       "      <td>Yes</td>\n",
       "      <td>No</td>\n",
       "      <td>No</td>\n",
       "      <td>No</td>\n",
       "      <td>One year</td>\n",
       "      <td>56.95</td>\n",
       "      <td>1889.5</td>\n",
       "      <td>No</td>\n",
       "    </tr>\n",
       "    <tr>\n",
       "      <th>2</th>\n",
       "      <td>Male</td>\n",
       "      <td>0</td>\n",
       "      <td>No</td>\n",
       "      <td>No</td>\n",
       "      <td>2</td>\n",
       "      <td>Yes</td>\n",
       "      <td>Yes</td>\n",
       "      <td>Yes</td>\n",
       "      <td>No</td>\n",
       "      <td>No</td>\n",
       "      <td>No</td>\n",
       "      <td>No</td>\n",
       "      <td>Month-to-month</td>\n",
       "      <td>53.85</td>\n",
       "      <td>108.15</td>\n",
       "      <td>Yes</td>\n",
       "    </tr>\n",
       "    <tr>\n",
       "      <th>3</th>\n",
       "      <td>Male</td>\n",
       "      <td>0</td>\n",
       "      <td>No</td>\n",
       "      <td>No</td>\n",
       "      <td>45</td>\n",
       "      <td>No</td>\n",
       "      <td>Yes</td>\n",
       "      <td>No</td>\n",
       "      <td>Yes</td>\n",
       "      <td>Yes</td>\n",
       "      <td>No</td>\n",
       "      <td>No</td>\n",
       "      <td>One year</td>\n",
       "      <td>42.30</td>\n",
       "      <td>1840.75</td>\n",
       "      <td>No</td>\n",
       "    </tr>\n",
       "    <tr>\n",
       "      <th>4</th>\n",
       "      <td>Female</td>\n",
       "      <td>0</td>\n",
       "      <td>No</td>\n",
       "      <td>No</td>\n",
       "      <td>2</td>\n",
       "      <td>Yes</td>\n",
       "      <td>No</td>\n",
       "      <td>No</td>\n",
       "      <td>No</td>\n",
       "      <td>No</td>\n",
       "      <td>No</td>\n",
       "      <td>No</td>\n",
       "      <td>Month-to-month</td>\n",
       "      <td>70.70</td>\n",
       "      <td>151.65</td>\n",
       "      <td>Yes</td>\n",
       "    </tr>\n",
       "  </tbody>\n",
       "</table>\n",
       "</div>"
      ],
      "text/plain": [
       "   gender  SeniorCitizen Partner Dependents  tenure PhoneService  \\\n",
       "0  Female              0     Yes         No       1           No   \n",
       "1    Male              0      No         No      34          Yes   \n",
       "2    Male              0      No         No       2          Yes   \n",
       "3    Male              0      No         No      45           No   \n",
       "4  Female              0      No         No       2          Yes   \n",
       "\n",
       "  OnlineSecurity OnlineBackup DeviceProtection TechSupport StreamingTV  \\\n",
       "0             No          Yes               No          No          No   \n",
       "1            Yes           No              Yes          No          No   \n",
       "2            Yes          Yes               No          No          No   \n",
       "3            Yes           No              Yes         Yes          No   \n",
       "4             No           No               No          No          No   \n",
       "\n",
       "  StreamingMovies        Contract  MonthlyCharges TotalCharges Churn  \n",
       "0              No  Month-to-month           29.85        29.85    No  \n",
       "1              No        One year           56.95       1889.5    No  \n",
       "2              No  Month-to-month           53.85       108.15   Yes  \n",
       "3              No        One year           42.30      1840.75    No  \n",
       "4              No  Month-to-month           70.70       151.65   Yes  "
      ]
     },
     "execution_count": 3,
     "metadata": {},
     "output_type": "execute_result"
    }
   ],
   "source": [
    "churn_data = pd.read_csv('DATA_Customer-Churn.csv')\n",
    "print(churn_data.shape)\n",
    "churn_data.head()"
   ]
  },
  {
   "cell_type": "markdown",
   "id": "23d161ba",
   "metadata": {},
   "source": [
    "## Short exploration"
   ]
  },
  {
   "cell_type": "code",
   "execution_count": 4,
   "id": "f0476678",
   "metadata": {},
   "outputs": [],
   "source": [
    "# Make all column names lowercase\n",
    "churn_data.columns = [col.lower() for col in churn_data.columns]"
   ]
  },
  {
   "cell_type": "code",
   "execution_count": 5,
   "id": "c7cb59c6",
   "metadata": {
    "scrolled": false
   },
   "outputs": [
    {
     "name": "stdout",
     "output_type": "stream",
     "text": [
      "<class 'pandas.core.frame.DataFrame'>\n",
      "RangeIndex: 7043 entries, 0 to 7042\n",
      "Data columns (total 16 columns):\n",
      " #   Column            Non-Null Count  Dtype  \n",
      "---  ------            --------------  -----  \n",
      " 0   gender            7043 non-null   object \n",
      " 1   seniorcitizen     7043 non-null   int64  \n",
      " 2   partner           7043 non-null   object \n",
      " 3   dependents        7043 non-null   object \n",
      " 4   tenure            7043 non-null   int64  \n",
      " 5   phoneservice      7043 non-null   object \n",
      " 6   onlinesecurity    7043 non-null   object \n",
      " 7   onlinebackup      7043 non-null   object \n",
      " 8   deviceprotection  7043 non-null   object \n",
      " 9   techsupport       7043 non-null   object \n",
      " 10  streamingtv       7043 non-null   object \n",
      " 11  streamingmovies   7043 non-null   object \n",
      " 12  contract          7043 non-null   object \n",
      " 13  monthlycharges    7043 non-null   float64\n",
      " 14  totalcharges      7043 non-null   object \n",
      " 15  churn             7043 non-null   object \n",
      "dtypes: float64(1), int64(2), object(13)\n",
      "memory usage: 880.5+ KB\n"
     ]
    }
   ],
   "source": [
    "# Check for missing values and data types\n",
    "churn_data.info()"
   ]
  },
  {
   "cell_type": "markdown",
   "id": "51e08418",
   "metadata": {},
   "source": [
    "It seems like there are no missing values. However, when we try to convert the type in `TotalCharges`, we get a `ValueError`\n",
    "\n",
    "```python\n",
    "pd.to_numeric(churn_data['totalcharges'])\n",
    "```\n",
    "```\n",
    "> ValueError: Unable to parse string \" \" \n",
    "```\n",
    "\n",
    "Apparently some values are just a single space character `\" \"` (which probably represents missing data). Let's deal with them:"
   ]
  },
  {
   "cell_type": "code",
   "execution_count": 6,
   "id": "03abed6b",
   "metadata": {},
   "outputs": [],
   "source": [
    "churn_data['totalcharges'] = pd.to_numeric(churn_data['totalcharges'], errors='coerce')  # invalid parsing will be set as NaN\n",
    "churn_data['totalcharges'].fillna(\n",
    "    churn_data['totalcharges'].mean(),\n",
    "    inplace=True)  # replace NaN by the mean"
   ]
  },
  {
   "cell_type": "code",
   "execution_count": 7,
   "id": "e25ad763",
   "metadata": {
    "scrolled": false
   },
   "outputs": [
    {
     "name": "stdout",
     "output_type": "stream",
     "text": [
      "churn_data['totalcharges']\n",
      "Dtype: float64\n",
      "Missing values: 0\n"
     ]
    }
   ],
   "source": [
    "# Check if the changes took place\n",
    "print('churn_data[\\'totalcharges\\']\\nDtype: {}\\nMissing values: {}'.format(\n",
    "    churn_data['totalcharges'].dtype,\n",
    "    churn_data['totalcharges'].isna().sum())\n",
    "     )"
   ]
  },
  {
   "cell_type": "code",
   "execution_count": 8,
   "id": "8306f44d",
   "metadata": {},
   "outputs": [
    {
     "data": {
      "image/png": "[encoded data removed]",
      "text/plain": [
       "<Figure size 432x288 with 1 Axes>"
      ]
     },
     "metadata": {
      "needs_background": "light"
     },
     "output_type": "display_data"
    }
   ],
   "source": [
    "# Check the target variable\n",
    "cmap = plt.cm.get_cmap('viridis', 2).colors\n",
    "churn_data['churn'].value_counts(normalize=True, sort=True, ascending=True).plot.bar(rot=0, color=[cmap[0], cmap[1]])\n",
    "\n",
    "yes_label = churn_data['churn'].value_counts(normalize=True).round(4)['Yes']\n",
    "no_label = churn_data['churn'].value_counts(normalize=True).round(4)['No']\n",
    "\n",
    "\n",
    "plt.title('Proportion of churned customers')\n",
    "plt.annotate(yes_label, xy=(0, 0.3), xytext=(-0.13, 0.2), color=cmap[1], weight='bold')\n",
    "plt.annotate(no_label, xy=(1, 0.7), xytext=(0.88, 0.67), color=cmap[0], weight='bold')\n",
    "plt.show()"
   ]
  },
  {
   "cell_type": "markdown",
   "id": "8c9e41b0",
   "metadata": {},
   "source": [
    "The data is inbalanced: there are 2.8 times more customers that haven't churned."
   ]
  },
  {
   "cell_type": "markdown",
   "id": "a332e6a5",
   "metadata": {},
   "source": [
    "## X/y split"
   ]
  },
  {
   "cell_type": "markdown",
   "id": "bb04f94c",
   "metadata": {},
   "source": [
    "For this first round, we're going to consider only the numeric variables."
   ]
  },
  {
   "cell_type": "code",
   "execution_count": 9,
   "id": "80d9b589",
   "metadata": {},
   "outputs": [],
   "source": [
    "X = churn_data.select_dtypes('number')\n",
    "y = churn_data['churn']"
   ]
  },
  {
   "cell_type": "markdown",
   "id": "f073a247",
   "metadata": {},
   "source": [
    "## Train/test split and standardization"
   ]
  },
  {
   "cell_type": "code",
   "execution_count": 10,
   "id": "84a47955",
   "metadata": {},
   "outputs": [],
   "source": [
    "X_train, X_test, y_train, y_test = train_test_split(X, y, test_size=0.2, random_state=42)\n",
    "\n",
    "scaler = StandardScaler()\n",
    "scaler.fit(X_train)\n",
    "\n",
    "X_train_scaled = scaler.transform(X_train)\n",
    "X_test_scaled  = scaler.transform(X_test)"
   ]
  },
  {
   "cell_type": "markdown",
   "id": "4d3b3769",
   "metadata": {},
   "source": [
    "## Model the data"
   ]
  },
  {
   "cell_type": "code",
   "execution_count": 50,
   "id": "0ed52ee1",
   "metadata": {},
   "outputs": [],
   "source": [
    "# Save model accuracies to build a summary\n",
    "model_metrics = {\n",
    "    'logistic_regression': {\n",
    "        'accuracy': 0,\n",
    "        'recall': 0\n",
    "    },\n",
    "    'decision_tree': {\n",
    "        'accuracy': 0,\n",
    "        'recall': 0\n",
    "    },\n",
    "    'random_forest': {\n",
    "        'accuracy': 0,\n",
    "        'recall': 0\n",
    "    }\n",
    "}\n",
    "\n",
    "model_metrics_cv = model_metrics.copy()"
   ]
  },
  {
   "cell_type": "code",
   "execution_count": 12,
   "id": "b0a76e34",
   "metadata": {},
   "outputs": [],
   "source": [
    "def apply_model(model, imbalecement_strat=None, cv=False):\n",
    "    \n",
    "    models = {\n",
    "        'logistic_regression': LogisticRegression(random_state=42),\n",
    "        'decision_tree': DecisionTreeClassifier(random_state=42),\n",
    "        'random_forest': RandomForestClassifier(random_state=42)\n",
    "        }\n",
    "\n",
    "    X_train, X_test, y_train, y_test = train_test_split(X, y, test_size=0.2, random_state=42)\n",
    "    sample_size = y_train.value_counts().to_dict()\n",
    "    \n",
    "    scaler = StandardScaler()\n",
    "    scaler.fit(X_train)\n",
    "    \n",
    "    X_train_scaled = scaler.transform(X_train)\n",
    "    X_test_scaled  = scaler.transform(X_test)\n",
    "    \n",
    "    if imbalecement_strat == 'smote':\n",
    "        smote = SMOTE()\n",
    "        X_train_scaled, y_train = smote.fit_resample(X_train_scaled, y_train)\n",
    "        sample_size_smote = y_train.value_counts().to_dict()\n",
    "        \n",
    "        print('\\033[1m' + '\\nLabels on the training set before and after oversampling' + '\\033[0m')\n",
    "        print(pd.DataFrame([sample_size, sample_size_smote], index=['before', 'after']))\n",
    "                \n",
    "    elif imbalecement_strat == 'tomeklinks':\n",
    "        tl = TomekLinks(sampling_strategy='majority')\n",
    "        X_train_scaled, y_train = tl.fit_resample(X_train_scaled, y_train)\n",
    "        sample_size_tl = y_train.value_counts()\n",
    "        \n",
    "        print('\\033[1m' + '\\nLabels on the training set before and after undersampling' + '\\033[0m')\n",
    "        print(pd.DataFrame([sample_size, sample_size_tl], index=['before', 'after']))\n",
    "    \n",
    "    else:\n",
    "        pass\n",
    "    \n",
    "    if cv:\n",
    "                \n",
    "        classifier = models[model]\n",
    "        classifier.fit(X_train_scaled, y_train)\n",
    "        \n",
    "        cv = KFold(n_splits=5, random_state=42, shuffle=True)\n",
    "        \n",
    "        scaler = StandardScaler()  # calling the scaler again to apply it to the whole dataset\n",
    "        X_cv = scaler.fit_transform(X)\n",
    "        \n",
    "        get_recall = make_scorer(recall_score, pos_label='Yes')  # only get the recall for the minority label\n",
    "        accuracy = cross_val_score(classifier, X_cv, y, cv=cv)  # accuracy is the default metric\n",
    "        recall = cross_val_score(classifier, X_cv, y, cv=cv, scoring=get_recall)\n",
    "        \n",
    "        return {\n",
    "            'accuracy_avg': round(accuracy.mean(), 4),\n",
    "            'accuracy_std': round(accuracy.std(), 4),\n",
    "            'recall_avg': round(recall.mean(), 4),\n",
    "            'recall_std': round(recall.std(), 4)\n",
    "        } \n",
    "    \n",
    "    else:\n",
    "        \n",
    "        classifier = models[model]     \n",
    "        classifier.fit(X_train_scaled, y_train)\n",
    "        \n",
    "        # Print the model metrics\n",
    "        print('\\033[1m' + '\\nTraining set' + '\\033[0m')\n",
    "        y_train_pred = classifier.predict(X_train_scaled)\n",
    "        print(classification_report(y_train, y_train_pred, digits=4))\n",
    "        \n",
    "        print('\\033[1m' + 'Test set' + '\\033[0m')\n",
    "        y_test_pred = classifier.predict(X_test_scaled)\n",
    "        print(classification_report(y_test, y_test_pred, digits=4))\n",
    "        \n",
    "        # Plot confusion matrices\n",
    "        fig, ax = plt.subplots(1, 2, figsize=(12,10))\n",
    "        plt.subplots_adjust(wspace=.5)\n",
    "        plt.rcParams.update({'font.size': 14})\n",
    "        \n",
    "        cm = confusion_matrix(y_train, y_train_pred)\n",
    "        disp = ConfusionMatrixDisplay(cm, display_labels=classifier.classes_)\n",
    "        disp.plot(colorbar=False, ax=ax[0])\n",
    "        ax[0].set_title('Train set')\n",
    "        \n",
    "        cm = confusion_matrix(y_test, y_test_pred)\n",
    "        disp = ConfusionMatrixDisplay(cm, display_labels=classifier.classes_)\n",
    "        disp.plot(colorbar=False, ax=ax[1])\n",
    "        ax[1].set_title('Test set')\n",
    "    \n",
    "        plt.show()\n",
    "        \n",
    "        accuracy = classification_report(y_test, y_test_pred, output_dict=True)['accuracy']\n",
    "        recall_minority = classification_report(y_test, y_test_pred, output_dict=True)['Yes']['recall']\n",
    "    \n",
    "    return round(accuracy, 4), round(recall_minority, 4)"
   ]
  },
  {
   "cell_type": "markdown",
   "id": "e86a8c26",
   "metadata": {},
   "source": [
    "### Logistic regression"
   ]
  },
  {
   "cell_type": "code",
   "execution_count": 13,
   "id": "353a2b38",
   "metadata": {
    "scrolled": false
   },
   "outputs": [
    {
     "name": "stdout",
     "output_type": "stream",
     "text": [
      "\u001b[1m\n",
      "Training set\u001b[0m\n",
      "              precision    recall  f1-score   support\n",
      "\n",
      "          No     0.8192    0.9120    0.8631      4138\n",
      "         Yes     0.6456    0.4432    0.5256      1496\n",
      "\n",
      "    accuracy                         0.7875      5634\n",
      "   macro avg     0.7324    0.6776    0.6943      5634\n",
      "weighted avg     0.7731    0.7875    0.7735      5634\n",
      "\n",
      "\u001b[1mTest set\u001b[0m\n",
      "              precision    recall  f1-score   support\n",
      "\n",
      "          No     0.8317    0.9257    0.8762      1036\n",
      "         Yes     0.6992    0.4799    0.5692       373\n",
      "\n",
      "    accuracy                         0.8077      1409\n",
      "   macro avg     0.7655    0.7028    0.7227      1409\n",
      "weighted avg     0.7967    0.8077    0.7949      1409\n",
      "\n"
     ]
    },
    {
     "data": {
      "image/png": "[encoded data removed]",
      "text/plain": [
       "<Figure size 864x720 with 2 Axes>"
      ]
     },
     "metadata": {
      "needs_background": "light"
     },
     "output_type": "display_data"
    }
   ],
   "source": [
    "accuracy, recall = apply_model('logistic_regression')"
   ]
  },
  {
   "cell_type": "code",
   "execution_count": 14,
   "id": "de9b9e36",
   "metadata": {},
   "outputs": [],
   "source": [
    "model_accuracy['logistic_regression']['accuracy'] = accuracy\n",
    "model_accuracy['logistic_regression']['recall'] = recall"
   ]
  },
  {
   "cell_type": "markdown",
   "id": "010257f5",
   "metadata": {},
   "source": [
    "Surprisingly, the test set had a higher overall accuracy (0.8077). The model is better at predicting the label 'No' (recall = 0.9257), probably because of the inbalencement of the data (there are way more 'No' than 'Yes' labels)."
   ]
  },
  {
   "cell_type": "markdown",
   "id": "a2eb5312",
   "metadata": {},
   "source": [
    "#### Using cross-validation"
   ]
  },
  {
   "cell_type": "code",
   "execution_count": 15,
   "id": "65065ee9",
   "metadata": {},
   "outputs": [
    {
     "data": {
      "text/html": [
       "<div>\n",
       "<style scoped>\n",
       "    .dataframe tbody tr th:only-of-type {\n",
       "        vertical-align: middle;\n",
       "    }\n",
       "\n",
       "    .dataframe tbody tr th {\n",
       "        vertical-align: top;\n",
       "    }\n",
       "\n",
       "    .dataframe thead th {\n",
       "        text-align: right;\n",
       "    }\n",
       "</style>\n",
       "<table border=\"1\" class=\"dataframe\">\n",
       "  <thead>\n",
       "    <tr style=\"text-align: right;\">\n",
       "      <th></th>\n",
       "      <th>accuracy_avg</th>\n",
       "      <th>accuracy_std</th>\n",
       "      <th>recall_avg</th>\n",
       "      <th>recall_std</th>\n",
       "    </tr>\n",
       "  </thead>\n",
       "  <tbody>\n",
       "    <tr>\n",
       "      <th>0</th>\n",
       "      <td>0.7906</td>\n",
       "      <td>0.0096</td>\n",
       "      <td>0.4544</td>\n",
       "      <td>0.0208</td>\n",
       "    </tr>\n",
       "  </tbody>\n",
       "</table>\n",
       "</div>"
      ],
      "text/plain": [
       "   accuracy_avg  accuracy_std  recall_avg  recall_std\n",
       "0        0.7906        0.0096      0.4544      0.0208"
      ]
     },
     "execution_count": 15,
     "metadata": {},
     "output_type": "execute_result"
    }
   ],
   "source": [
    "cv_metrics = apply_model('logistic_regression', cv=True)\n",
    "pd.DataFrame([cv_metrics])"
   ]
  },
  {
   "cell_type": "code",
   "execution_count": 16,
   "id": "77627a72",
   "metadata": {},
   "outputs": [],
   "source": [
    "accuracy, recall = itemgetter(*['accuracy_avg', 'recall_avg'])(cv_metrics)\n",
    "model_accuracy_cv['logistic_regression']['accuracy'] = accuracy\n",
    "model_accuracy_cv['logistic_regression']['recall'] = recall"
   ]
  },
  {
   "cell_type": "markdown",
   "id": "8e1c0be8",
   "metadata": {},
   "source": [
    "### Decision Tree"
   ]
  },
  {
   "cell_type": "code",
   "execution_count": 17,
   "id": "30572ae1",
   "metadata": {},
   "outputs": [
    {
     "name": "stdout",
     "output_type": "stream",
     "text": [
      "\u001b[1m\n",
      "Training set\u001b[0m\n",
      "              precision    recall  f1-score   support\n",
      "\n",
      "          No     0.9904    0.9971    0.9937      4138\n",
      "         Yes     0.9918    0.9733    0.9825      1496\n",
      "\n",
      "    accuracy                         0.9908      5634\n",
      "   macro avg     0.9911    0.9852    0.9881      5634\n",
      "weighted avg     0.9908    0.9908    0.9907      5634\n",
      "\n",
      "\u001b[1mTest set\u001b[0m\n",
      "              precision    recall  f1-score   support\n",
      "\n",
      "          No     0.8185    0.8098    0.8142      1036\n",
      "         Yes     0.4870    0.5013    0.4941       373\n",
      "\n",
      "    accuracy                         0.7282      1409\n",
      "   macro avg     0.6528    0.6556    0.6541      1409\n",
      "weighted avg     0.7308    0.7282    0.7294      1409\n",
      "\n"
     ]
    },
    {
     "data": {
      "image/png": "[encoded data removed]",
      "text/plain": [
       "<Figure size 864x720 with 2 Axes>"
      ]
     },
     "metadata": {
      "needs_background": "light"
     },
     "output_type": "display_data"
    }
   ],
   "source": [
    "accuracy, recall = apply_model('decision_tree')"
   ]
  },
  {
   "cell_type": "markdown",
   "id": "d4d5ef0b",
   "metadata": {},
   "source": [
    "Decision trees tend to overfit the training data. The overall performance for the test set is worse than what we achieved with logistic regression."
   ]
  },
  {
   "cell_type": "code",
   "execution_count": 18,
   "id": "7b177a27",
   "metadata": {},
   "outputs": [],
   "source": [
    "model_accuracy['decision_tree']['accuracy'] = accuracy\n",
    "model_accuracy['decision_tree']['recall'] = recall"
   ]
  },
  {
   "cell_type": "markdown",
   "id": "ca75dd34",
   "metadata": {},
   "source": [
    "#### Apply cross-validation"
   ]
  },
  {
   "cell_type": "code",
   "execution_count": 19,
   "id": "51fc7062",
   "metadata": {},
   "outputs": [
    {
     "data": {
      "text/html": [
       "<div>\n",
       "<style scoped>\n",
       "    .dataframe tbody tr th:only-of-type {\n",
       "        vertical-align: middle;\n",
       "    }\n",
       "\n",
       "    .dataframe tbody tr th {\n",
       "        vertical-align: top;\n",
       "    }\n",
       "\n",
       "    .dataframe thead th {\n",
       "        text-align: right;\n",
       "    }\n",
       "</style>\n",
       "<table border=\"1\" class=\"dataframe\">\n",
       "  <thead>\n",
       "    <tr style=\"text-align: right;\">\n",
       "      <th></th>\n",
       "      <th>accuracy_avg</th>\n",
       "      <th>accuracy_std</th>\n",
       "      <th>recall_avg</th>\n",
       "      <th>recall_std</th>\n",
       "    </tr>\n",
       "  </thead>\n",
       "  <tbody>\n",
       "    <tr>\n",
       "      <th>0</th>\n",
       "      <td>0.7179</td>\n",
       "      <td>0.0126</td>\n",
       "      <td>0.4747</td>\n",
       "      <td>0.041</td>\n",
       "    </tr>\n",
       "  </tbody>\n",
       "</table>\n",
       "</div>"
      ],
      "text/plain": [
       "   accuracy_avg  accuracy_std  recall_avg  recall_std\n",
       "0        0.7179        0.0126      0.4747       0.041"
      ]
     },
     "execution_count": 19,
     "metadata": {},
     "output_type": "execute_result"
    }
   ],
   "source": [
    "cv_metrics = apply_model('decision_tree', cv=True)\n",
    "pd.DataFrame([cv_metrics])"
   ]
  },
  {
   "cell_type": "code",
   "execution_count": 20,
   "id": "ab7e6959",
   "metadata": {},
   "outputs": [],
   "source": [
    "accuracy, recall = itemgetter(*['accuracy_avg', 'recall_avg'])(cv_metrics)\n",
    "model_accuracy_cv['decision_tree']['accuracy'] = accuracy\n",
    "model_accuracy_cv['decision_tree']['recall'] = recall"
   ]
  },
  {
   "cell_type": "markdown",
   "id": "b0c29263",
   "metadata": {},
   "source": [
    "### Random Forest"
   ]
  },
  {
   "cell_type": "code",
   "execution_count": 21,
   "id": "d4686d71",
   "metadata": {
    "scrolled": false
   },
   "outputs": [
    {
     "name": "stdout",
     "output_type": "stream",
     "text": [
      "\u001b[1m\n",
      "Training set\u001b[0m\n",
      "              precision    recall  f1-score   support\n",
      "\n",
      "          No     0.9947    0.9925    0.9936      4138\n",
      "         Yes     0.9794    0.9853    0.9823      1496\n",
      "\n",
      "    accuracy                         0.9906      5634\n",
      "   macro avg     0.9870    0.9889    0.9880      5634\n",
      "weighted avg     0.9906    0.9906    0.9906      5634\n",
      "\n",
      "\u001b[1mTest set\u001b[0m\n",
      "              precision    recall  f1-score   support\n",
      "\n",
      "          No     0.8196    0.8726    0.8453      1036\n",
      "         Yes     0.5686    0.4665    0.5125       373\n",
      "\n",
      "    accuracy                         0.7651      1409\n",
      "   macro avg     0.6941    0.6695    0.6789      1409\n",
      "weighted avg     0.7531    0.7651    0.7572      1409\n",
      "\n"
     ]
    },
    {
     "data": {
      "image/png": "[encoded data removed]",
      "text/plain": [
       "<Figure size 864x720 with 2 Axes>"
      ]
     },
     "metadata": {
      "needs_background": "light"
     },
     "output_type": "display_data"
    }
   ],
   "source": [
    "accuracy, recall = apply_model('random_forest')"
   ]
  },
  {
   "cell_type": "code",
   "execution_count": 22,
   "id": "62a862dc",
   "metadata": {},
   "outputs": [],
   "source": [
    "model_accuracy['random_forest']['accuracy'] = accuracy\n",
    "model_accuracy['random_forest']['recall'] = recall"
   ]
  },
  {
   "cell_type": "markdown",
   "id": "78992a45",
   "metadata": {},
   "source": [
    "#### Apply cross-validation"
   ]
  },
  {
   "cell_type": "code",
   "execution_count": 23,
   "id": "237797dc",
   "metadata": {},
   "outputs": [
    {
     "data": {
      "text/html": [
       "<div>\n",
       "<style scoped>\n",
       "    .dataframe tbody tr th:only-of-type {\n",
       "        vertical-align: middle;\n",
       "    }\n",
       "\n",
       "    .dataframe tbody tr th {\n",
       "        vertical-align: top;\n",
       "    }\n",
       "\n",
       "    .dataframe thead th {\n",
       "        text-align: right;\n",
       "    }\n",
       "</style>\n",
       "<table border=\"1\" class=\"dataframe\">\n",
       "  <thead>\n",
       "    <tr style=\"text-align: right;\">\n",
       "      <th></th>\n",
       "      <th>accuracy_avg</th>\n",
       "      <th>accuracy_std</th>\n",
       "      <th>recall_avg</th>\n",
       "      <th>recall_std</th>\n",
       "    </tr>\n",
       "  </thead>\n",
       "  <tbody>\n",
       "    <tr>\n",
       "      <th>0</th>\n",
       "      <td>0.7694</td>\n",
       "      <td>0.0103</td>\n",
       "      <td>0.467</td>\n",
       "      <td>0.0418</td>\n",
       "    </tr>\n",
       "  </tbody>\n",
       "</table>\n",
       "</div>"
      ],
      "text/plain": [
       "   accuracy_avg  accuracy_std  recall_avg  recall_std\n",
       "0        0.7694        0.0103       0.467      0.0418"
      ]
     },
     "execution_count": 23,
     "metadata": {},
     "output_type": "execute_result"
    }
   ],
   "source": [
    "cv_metrics = apply_model('random_forest', cv=True)\n",
    "pd.DataFrame([cv_metrics])"
   ]
  },
  {
   "cell_type": "code",
   "execution_count": 24,
   "id": "1e57a585",
   "metadata": {},
   "outputs": [],
   "source": [
    "accuracy, recall = itemgetter(*['accuracy_avg', 'recall_avg'])(cv_metrics)\n",
    "model_accuracy_cv['random_forest']['accuracy'] = accuracy\n",
    "model_accuracy_cv['random_forest']['recall'] = recall"
   ]
  },
  {
   "cell_type": "markdown",
   "id": "089994f4",
   "metadata": {},
   "source": [
    "### Compare scores"
   ]
  },
  {
   "cell_type": "code",
   "execution_count": 48,
   "id": "d8d82058",
   "metadata": {},
   "outputs": [
    {
     "data": {
      "text/html": [
       "<div>\n",
       "<style scoped>\n",
       "    .dataframe tbody tr th:only-of-type {\n",
       "        vertical-align: middle;\n",
       "    }\n",
       "\n",
       "    .dataframe tbody tr th {\n",
       "        vertical-align: top;\n",
       "    }\n",
       "\n",
       "    .dataframe thead tr th {\n",
       "        text-align: left;\n",
       "    }\n",
       "</style>\n",
       "<table border=\"1\" class=\"dataframe\">\n",
       "  <thead>\n",
       "    <tr>\n",
       "      <th></th>\n",
       "      <th colspan=\"2\" halign=\"left\">inbalanced</th>\n",
       "    </tr>\n",
       "    <tr>\n",
       "      <th></th>\n",
       "      <th>accuracy</th>\n",
       "      <th>recall</th>\n",
       "    </tr>\n",
       "  </thead>\n",
       "  <tbody>\n",
       "    <tr>\n",
       "      <th>logistic_regression</th>\n",
       "      <td>0.7899</td>\n",
       "      <td>0.5496</td>\n",
       "    </tr>\n",
       "    <tr>\n",
       "      <th>decision_tree</th>\n",
       "      <td>0.7204</td>\n",
       "      <td>0.5550</td>\n",
       "    </tr>\n",
       "    <tr>\n",
       "      <th>random_forest</th>\n",
       "      <td>0.7615</td>\n",
       "      <td>0.5791</td>\n",
       "    </tr>\n",
       "  </tbody>\n",
       "</table>\n",
       "</div>"
      ],
      "text/plain": [
       "                    inbalanced        \n",
       "                      accuracy  recall\n",
       "logistic_regression     0.7899  0.5496\n",
       "decision_tree           0.7204  0.5550\n",
       "random_forest           0.7615  0.5791"
      ]
     },
     "execution_count": 48,
     "metadata": {},
     "output_type": "execute_result"
    }
   ],
   "source": [
    "inbalanced_model_metrics = pd.DataFrame.from_dict(model_accuracy, orient='index')\n",
    "inbalanced_model_metrics.columns = pd.MultiIndex.from_product([['inbalanced'], inbalanced_model_metrics.columns])\n",
    "inbalanced_model_metrics"
   ]
  },
  {
   "cell_type": "code",
   "execution_count": 26,
   "id": "f92a438d",
   "metadata": {},
   "outputs": [
    {
     "data": {
      "text/html": [
       "<div>\n",
       "<style scoped>\n",
       "    .dataframe tbody tr th:only-of-type {\n",
       "        vertical-align: middle;\n",
       "    }\n",
       "\n",
       "    .dataframe tbody tr th {\n",
       "        vertical-align: top;\n",
       "    }\n",
       "\n",
       "    .dataframe thead tr th {\n",
       "        text-align: left;\n",
       "    }\n",
       "</style>\n",
       "<table border=\"1\" class=\"dataframe\">\n",
       "  <thead>\n",
       "    <tr>\n",
       "      <th></th>\n",
       "      <th colspan=\"2\" halign=\"left\">inbalanced_cv</th>\n",
       "    </tr>\n",
       "    <tr>\n",
       "      <th></th>\n",
       "      <th>accuracy</th>\n",
       "      <th>recall</th>\n",
       "    </tr>\n",
       "  </thead>\n",
       "  <tbody>\n",
       "    <tr>\n",
       "      <th>logistic_regression</th>\n",
       "      <td>0.7906</td>\n",
       "      <td>0.4544</td>\n",
       "    </tr>\n",
       "    <tr>\n",
       "      <th>decision_tree</th>\n",
       "      <td>0.7179</td>\n",
       "      <td>0.4747</td>\n",
       "    </tr>\n",
       "    <tr>\n",
       "      <th>random_forest</th>\n",
       "      <td>0.7694</td>\n",
       "      <td>0.4670</td>\n",
       "    </tr>\n",
       "  </tbody>\n",
       "</table>\n",
       "</div>"
      ],
      "text/plain": [
       "                    inbalanced_cv        \n",
       "                         accuracy  recall\n",
       "logistic_regression        0.7906  0.4544\n",
       "decision_tree              0.7179  0.4747\n",
       "random_forest              0.7694  0.4670"
      ]
     },
     "execution_count": 26,
     "metadata": {},
     "output_type": "execute_result"
    }
   ],
   "source": [
    "inbalanced_cv_model_metrics = pd.DataFrame.from_dict(model_accuracy_cv, orient='index')\n",
    "inbalanced_cv_model_metrics.columns = pd.MultiIndex.from_product([['inbalanced_cv'], inbalanced_cv_model_metrics.columns])\n",
    "inbalanced_cv_model_metrics"
   ]
  },
  {
   "cell_type": "markdown",
   "id": "8e130319",
   "metadata": {},
   "source": [
    "## Solve inbalacement"
   ]
  },
  {
   "cell_type": "markdown",
   "id": "4696a596",
   "metadata": {},
   "source": [
    "### SMOTE"
   ]
  },
  {
   "cell_type": "markdown",
   "id": "3b4ab410",
   "metadata": {},
   "source": [
    "#### Logistic Regression"
   ]
  },
  {
   "cell_type": "code",
   "execution_count": 27,
   "id": "a0cbbe9e",
   "metadata": {},
   "outputs": [
    {
     "name": "stdout",
     "output_type": "stream",
     "text": [
      "\u001b[1m\n",
      "Labels on the training set before and after oversampling\u001b[0m\n",
      "          No   Yes\n",
      "before  4138  1496\n",
      "after   4138  4138\n",
      "\u001b[1m\n",
      "Training set\u001b[0m\n",
      "              precision    recall  f1-score   support\n",
      "\n",
      "          No     0.7345    0.7199    0.7271      4138\n",
      "         Yes     0.7254    0.7397    0.7325      4138\n",
      "\n",
      "    accuracy                         0.7298      8276\n",
      "   macro avg     0.7299    0.7298    0.7298      8276\n",
      "weighted avg     0.7299    0.7298    0.7298      8276\n",
      "\n",
      "\u001b[1mTest set\u001b[0m\n",
      "              precision    recall  f1-score   support\n",
      "\n",
      "          No     0.8992    0.7317    0.8068      1036\n",
      "         Yes     0.5088    0.7721    0.6134       373\n",
      "\n",
      "    accuracy                         0.7424      1409\n",
      "   macro avg     0.7040    0.7519    0.7101      1409\n",
      "weighted avg     0.7958    0.7424    0.7556      1409\n",
      "\n"
     ]
    },
    {
     "data": {
      "image/png": "[encoded data removed]",
      "text/plain": [
       "<Figure size 864x720 with 2 Axes>"
      ]
     },
     "metadata": {
      "needs_background": "light"
     },
     "output_type": "display_data"
    }
   ],
   "source": [
    "accuracy, recall = apply_model('logistic_regression', imbalecement_strat='smote')"
   ]
  },
  {
   "cell_type": "code",
   "execution_count": 28,
   "id": "bc6a7558",
   "metadata": {},
   "outputs": [],
   "source": [
    "model_accuracy['logistic_regression']['accuracy'] = accuracy\n",
    "model_accuracy['logistic_regression']['recall'] = recall"
   ]
  },
  {
   "cell_type": "markdown",
   "id": "2d2b75cc",
   "metadata": {},
   "source": [
    "#### Decision Tree"
   ]
  },
  {
   "cell_type": "code",
   "execution_count": 29,
   "id": "a3880f22",
   "metadata": {
    "scrolled": false
   },
   "outputs": [
    {
     "name": "stdout",
     "output_type": "stream",
     "text": [
      "\u001b[1m\n",
      "Labels on the training set before and after oversampling\u001b[0m\n",
      "          No   Yes\n",
      "before  4138  1496\n",
      "after   4138  4138\n",
      "\u001b[1m\n",
      "Training set\u001b[0m\n",
      "              precision    recall  f1-score   support\n",
      "\n",
      "          No     0.9913    0.9959    0.9936      4138\n",
      "         Yes     0.9959    0.9913    0.9936      4138\n",
      "\n",
      "    accuracy                         0.9936      8276\n",
      "   macro avg     0.9936    0.9936    0.9936      8276\n",
      "weighted avg     0.9936    0.9936    0.9936      8276\n",
      "\n",
      "\u001b[1mTest set\u001b[0m\n",
      "              precision    recall  f1-score   support\n",
      "\n",
      "          No     0.8270    0.7568    0.7903      1036\n",
      "         Yes     0.4534    0.5603    0.5012       373\n",
      "\n",
      "    accuracy                         0.7048      1409\n",
      "   macro avg     0.6402    0.6585    0.6458      1409\n",
      "weighted avg     0.7281    0.7048    0.7138      1409\n",
      "\n"
     ]
    },
    {
     "data": {
      "image/png": "[encoded data removed]",
      "text/plain": [
       "<Figure size 864x720 with 2 Axes>"
      ]
     },
     "metadata": {
      "needs_background": "light"
     },
     "output_type": "display_data"
    }
   ],
   "source": [
    "accuracy, recall = apply_model('decision_tree', imbalecement_strat='smote')"
   ]
  },
  {
   "cell_type": "code",
   "execution_count": 30,
   "id": "67be5fd8",
   "metadata": {},
   "outputs": [],
   "source": [
    "model_accuracy['decision_tree']['accuracy'] = accuracy\n",
    "model_accuracy['decision_tree']['recall'] = recall"
   ]
  },
  {
   "cell_type": "markdown",
   "id": "0e2801e7",
   "metadata": {},
   "source": [
    "#### Random Forest"
   ]
  },
  {
   "cell_type": "code",
   "execution_count": 31,
   "id": "62c5d1aa",
   "metadata": {
    "scrolled": false
   },
   "outputs": [
    {
     "name": "stdout",
     "output_type": "stream",
     "text": [
      "\u001b[1m\n",
      "Labels on the training set before and after oversampling\u001b[0m\n",
      "          No   Yes\n",
      "before  4138  1496\n",
      "after   4138  4138\n",
      "\u001b[1m\n",
      "Training set\u001b[0m\n",
      "              precision    recall  f1-score   support\n",
      "\n",
      "          No     0.9959    0.9908    0.9933      4138\n",
      "         Yes     0.9909    0.9959    0.9934      4138\n",
      "\n",
      "    accuracy                         0.9934      8276\n",
      "   macro avg     0.9934    0.9934    0.9934      8276\n",
      "weighted avg     0.9934    0.9934    0.9934      8276\n",
      "\n",
      "\u001b[1mTest set\u001b[0m\n",
      "              precision    recall  f1-score   support\n",
      "\n",
      "          No     0.8515    0.7915    0.8204      1036\n",
      "         Yes     0.5157    0.6166    0.5617       373\n",
      "\n",
      "    accuracy                         0.7452      1409\n",
      "   macro avg     0.6836    0.7041    0.6910      1409\n",
      "weighted avg     0.7626    0.7452    0.7519      1409\n",
      "\n"
     ]
    },
    {
     "data": {
      "image/png": "[encoded data removed]",
      "text/plain": [
       "<Figure size 864x720 with 2 Axes>"
      ]
     },
     "metadata": {
      "needs_background": "light"
     },
     "output_type": "display_data"
    }
   ],
   "source": [
    "accuracy, recall = apply_model('random_forest', imbalecement_strat='smote')"
   ]
  },
  {
   "cell_type": "code",
   "execution_count": 32,
   "id": "6039d65d",
   "metadata": {},
   "outputs": [],
   "source": [
    "model_accuracy['random_forest']['accuracy'] = accuracy\n",
    "model_accuracy['random_forest']['recall'] = recall"
   ]
  },
  {
   "cell_type": "code",
   "execution_count": 46,
   "id": "d64a34e6",
   "metadata": {},
   "outputs": [
    {
     "data": {
      "text/html": [
       "<div>\n",
       "<style scoped>\n",
       "    .dataframe tbody tr th:only-of-type {\n",
       "        vertical-align: middle;\n",
       "    }\n",
       "\n",
       "    .dataframe tbody tr th {\n",
       "        vertical-align: top;\n",
       "    }\n",
       "\n",
       "    .dataframe thead tr th {\n",
       "        text-align: left;\n",
       "    }\n",
       "</style>\n",
       "<table border=\"1\" class=\"dataframe\">\n",
       "  <thead>\n",
       "    <tr>\n",
       "      <th></th>\n",
       "      <th colspan=\"2\" halign=\"left\">smote</th>\n",
       "    </tr>\n",
       "    <tr>\n",
       "      <th></th>\n",
       "      <th>accuracy</th>\n",
       "      <th>recall</th>\n",
       "    </tr>\n",
       "  </thead>\n",
       "  <tbody>\n",
       "    <tr>\n",
       "      <th>logistic_regression</th>\n",
       "      <td>0.7899</td>\n",
       "      <td>0.5496</td>\n",
       "    </tr>\n",
       "    <tr>\n",
       "      <th>decision_tree</th>\n",
       "      <td>0.7204</td>\n",
       "      <td>0.5550</td>\n",
       "    </tr>\n",
       "    <tr>\n",
       "      <th>random_forest</th>\n",
       "      <td>0.7615</td>\n",
       "      <td>0.5791</td>\n",
       "    </tr>\n",
       "  </tbody>\n",
       "</table>\n",
       "</div>"
      ],
      "text/plain": [
       "                       smote        \n",
       "                    accuracy  recall\n",
       "logistic_regression   0.7899  0.5496\n",
       "decision_tree         0.7204  0.5550\n",
       "random_forest         0.7615  0.5791"
      ]
     },
     "execution_count": 46,
     "metadata": {},
     "output_type": "execute_result"
    }
   ],
   "source": [
    "smote_model_metrics = pd.DataFrame.from_dict(model_accuracy, orient='index')\n",
    "smote_model_metrics.columns = pd.MultiIndex.from_product([['smote'], smote_model_metrics.columns])\n",
    "smote_model_metrics"
   ]
  },
  {
   "cell_type": "markdown",
   "id": "a78f0255",
   "metadata": {},
   "source": [
    "### TomekLinks"
   ]
  },
  {
   "cell_type": "markdown",
   "id": "55fec57c",
   "metadata": {},
   "source": [
    "#### Logistic Regression"
   ]
  },
  {
   "cell_type": "code",
   "execution_count": 34,
   "id": "cf303f70",
   "metadata": {},
   "outputs": [
    {
     "name": "stdout",
     "output_type": "stream",
     "text": [
      "\u001b[1m\n",
      "Labels on the training set before and after undersampling\u001b[0m\n",
      "          No   Yes\n",
      "before  4138  1496\n",
      "after   3710  1496\n",
      "\u001b[1m\n",
      "Training set\u001b[0m\n",
      "              precision    recall  f1-score   support\n",
      "\n",
      "          No     0.8217    0.8970    0.8577      3710\n",
      "         Yes     0.6696    0.5174    0.5837      1496\n",
      "\n",
      "    accuracy                         0.7879      5206\n",
      "   macro avg     0.7456    0.7072    0.7207      5206\n",
      "weighted avg     0.7780    0.7879    0.7790      5206\n",
      "\n",
      "\u001b[1mTest set\u001b[0m\n",
      "              precision    recall  f1-score   support\n",
      "\n",
      "          No     0.8439    0.8764    0.8598      1036\n",
      "         Yes     0.6156    0.5496    0.5807       373\n",
      "\n",
      "    accuracy                         0.7899      1409\n",
      "   macro avg     0.7297    0.7130    0.7203      1409\n",
      "weighted avg     0.7834    0.7899    0.7860      1409\n",
      "\n"
     ]
    },
    {
     "data": {
      "image/png": "[encoded data removed]",
      "text/plain": [
       "<Figure size 864x720 with 2 Axes>"
      ]
     },
     "metadata": {
      "needs_background": "light"
     },
     "output_type": "display_data"
    }
   ],
   "source": [
    "accuracy, recall = apply_model('logistic_regression', imbalecement_strat='tomeklinks')"
   ]
  },
  {
   "cell_type": "code",
   "execution_count": 35,
   "id": "a59db22c",
   "metadata": {},
   "outputs": [],
   "source": [
    "model_accuracy['logistic_regression']['accuracy'] = accuracy\n",
    "model_accuracy['logistic_regression']['recall'] = recall"
   ]
  },
  {
   "cell_type": "markdown",
   "id": "b80b5b3e",
   "metadata": {},
   "source": [
    "#### Decision Tree"
   ]
  },
  {
   "cell_type": "code",
   "execution_count": 36,
   "id": "b459811c",
   "metadata": {},
   "outputs": [
    {
     "name": "stdout",
     "output_type": "stream",
     "text": [
      "\u001b[1m\n",
      "Labels on the training set before and after undersampling\u001b[0m\n",
      "          No   Yes\n",
      "before  4138  1496\n",
      "after   3710  1496\n",
      "\u001b[1m\n",
      "Training set\u001b[0m\n",
      "              precision    recall  f1-score   support\n",
      "\n",
      "          No     0.9893    0.9968    0.9930      3710\n",
      "         Yes     0.9918    0.9733    0.9825      1496\n",
      "\n",
      "    accuracy                         0.9900      5206\n",
      "   macro avg     0.9906    0.9850    0.9877      5206\n",
      "weighted avg     0.9900    0.9900    0.9900      5206\n",
      "\n",
      "\u001b[1mTest set\u001b[0m\n",
      "              precision    recall  f1-score   support\n",
      "\n",
      "          No     0.8296    0.7799    0.8040      1036\n",
      "         Yes     0.4759    0.5550    0.5124       373\n",
      "\n",
      "    accuracy                         0.7204      1409\n",
      "   macro avg     0.6527    0.6674    0.6582      1409\n",
      "weighted avg     0.7359    0.7204    0.7268      1409\n",
      "\n"
     ]
    },
    {
     "data": {
      "image/png": "[encoded data removed]",
      "text/plain": [
       "<Figure size 864x720 with 2 Axes>"
      ]
     },
     "metadata": {
      "needs_background": "light"
     },
     "output_type": "display_data"
    }
   ],
   "source": [
    "accuracy, recall = apply_model('decision_tree', imbalecement_strat='tomeklinks')"
   ]
  },
  {
   "cell_type": "code",
   "execution_count": 37,
   "id": "f75c1189",
   "metadata": {},
   "outputs": [],
   "source": [
    "model_accuracy['decision_tree']['accuracy'] = accuracy\n",
    "model_accuracy['decision_tree']['recall'] = recall"
   ]
  },
  {
   "cell_type": "markdown",
   "id": "28d9d978",
   "metadata": {},
   "source": [
    " #### Random Forest"
   ]
  },
  {
   "cell_type": "code",
   "execution_count": 38,
   "id": "770c1c92",
   "metadata": {},
   "outputs": [
    {
     "name": "stdout",
     "output_type": "stream",
     "text": [
      "\u001b[1m\n",
      "Labels on the training set before and after undersampling\u001b[0m\n",
      "          No   Yes\n",
      "before  4138  1496\n",
      "after   3710  1496\n",
      "\u001b[1m\n",
      "Training set\u001b[0m\n",
      "              precision    recall  f1-score   support\n",
      "\n",
      "          No     0.9946    0.9914    0.9930      3710\n",
      "         Yes     0.9788    0.9866    0.9827      1496\n",
      "\n",
      "    accuracy                         0.9900      5206\n",
      "   macro avg     0.9867    0.9890    0.9878      5206\n",
      "weighted avg     0.9900    0.9900    0.9900      5206\n",
      "\n",
      "\u001b[1mTest set\u001b[0m\n",
      "              precision    recall  f1-score   support\n",
      "\n",
      "          No     0.8452    0.8272    0.8361      1036\n",
      "         Yes     0.5468    0.5791    0.5625       373\n",
      "\n",
      "    accuracy                         0.7615      1409\n",
      "   macro avg     0.6960    0.7032    0.6993      1409\n",
      "weighted avg     0.7662    0.7615    0.7637      1409\n",
      "\n"
     ]
    },
    {
     "data": {
      "image/png": "[encoded data removed]",
      "text/plain": [
       "<Figure size 864x720 with 2 Axes>"
      ]
     },
     "metadata": {
      "needs_background": "light"
     },
     "output_type": "display_data"
    }
   ],
   "source": [
    "accuracy, recall = apply_model('random_forest', imbalecement_strat='tomeklinks')"
   ]
  },
  {
   "cell_type": "code",
   "execution_count": 39,
   "id": "d19ea9db",
   "metadata": {},
   "outputs": [],
   "source": [
    "model_accuracy['random_forest']['accuracy'] = accuracy\n",
    "model_accuracy['random_forest']['recall'] = recall"
   ]
  },
  {
   "cell_type": "code",
   "execution_count": 45,
   "id": "7237d62d",
   "metadata": {},
   "outputs": [
    {
     "data": {
      "text/html": [
       "<div>\n",
       "<style scoped>\n",
       "    .dataframe tbody tr th:only-of-type {\n",
       "        vertical-align: middle;\n",
       "    }\n",
       "\n",
       "    .dataframe tbody tr th {\n",
       "        vertical-align: top;\n",
       "    }\n",
       "\n",
       "    .dataframe thead tr th {\n",
       "        text-align: left;\n",
       "    }\n",
       "</style>\n",
       "<table border=\"1\" class=\"dataframe\">\n",
       "  <thead>\n",
       "    <tr>\n",
       "      <th></th>\n",
       "      <th colspan=\"2\" halign=\"left\">tomek_links</th>\n",
       "    </tr>\n",
       "    <tr>\n",
       "      <th></th>\n",
       "      <th>accuracy</th>\n",
       "      <th>recall</th>\n",
       "    </tr>\n",
       "  </thead>\n",
       "  <tbody>\n",
       "    <tr>\n",
       "      <th>logistic_regression</th>\n",
       "      <td>0.7899</td>\n",
       "      <td>0.5496</td>\n",
       "    </tr>\n",
       "    <tr>\n",
       "      <th>decision_tree</th>\n",
       "      <td>0.7204</td>\n",
       "      <td>0.5550</td>\n",
       "    </tr>\n",
       "    <tr>\n",
       "      <th>random_forest</th>\n",
       "      <td>0.7615</td>\n",
       "      <td>0.5791</td>\n",
       "    </tr>\n",
       "  </tbody>\n",
       "</table>\n",
       "</div>"
      ],
      "text/plain": [
       "                    tomek_links        \n",
       "                       accuracy  recall\n",
       "logistic_regression      0.7899  0.5496\n",
       "decision_tree            0.7204  0.5550\n",
       "random_forest            0.7615  0.5791"
      ]
     },
     "execution_count": 45,
     "metadata": {},
     "output_type": "execute_result"
    }
   ],
   "source": [
    "tl_model_metrics = pd.DataFrame.from_dict(model_accuracy, orient='index')\n",
    "tl_model_metrics.columns = pd.MultiIndex.from_product([['tomek_links'], tl_model_metrics.columns])\n",
    "tl_model_metrics"
   ]
  },
  {
   "cell_type": "markdown",
   "id": "7b44147f",
   "metadata": {},
   "source": [
    "## Summary"
   ]
  },
  {
   "cell_type": "code",
   "execution_count": 49,
   "id": "27dd061a",
   "metadata": {},
   "outputs": [
    {
     "data": {
      "text/html": [
       "<div>\n",
       "<style scoped>\n",
       "    .dataframe tbody tr th:only-of-type {\n",
       "        vertical-align: middle;\n",
       "    }\n",
       "\n",
       "    .dataframe tbody tr th {\n",
       "        vertical-align: top;\n",
       "    }\n",
       "\n",
       "    .dataframe thead tr th {\n",
       "        text-align: left;\n",
       "    }\n",
       "</style>\n",
       "<table border=\"1\" class=\"dataframe\">\n",
       "  <thead>\n",
       "    <tr>\n",
       "      <th></th>\n",
       "      <th colspan=\"2\" halign=\"left\">inbalanced</th>\n",
       "      <th colspan=\"2\" halign=\"left\">inbalanced_cv</th>\n",
       "      <th colspan=\"2\" halign=\"left\">smote</th>\n",
       "      <th colspan=\"2\" halign=\"left\">tomek_links</th>\n",
       "    </tr>\n",
       "    <tr>\n",
       "      <th></th>\n",
       "      <th>accuracy</th>\n",
       "      <th>recall</th>\n",
       "      <th>accuracy</th>\n",
       "      <th>recall</th>\n",
       "      <th>accuracy</th>\n",
       "      <th>recall</th>\n",
       "      <th>accuracy</th>\n",
       "      <th>recall</th>\n",
       "    </tr>\n",
       "  </thead>\n",
       "  <tbody>\n",
       "    <tr>\n",
       "      <th>logistic_regression</th>\n",
       "      <td>0.7899</td>\n",
       "      <td>0.5496</td>\n",
       "      <td>0.7906</td>\n",
       "      <td>0.4544</td>\n",
       "      <td>0.7899</td>\n",
       "      <td>0.5496</td>\n",
       "      <td>0.7899</td>\n",
       "      <td>0.5496</td>\n",
       "    </tr>\n",
       "    <tr>\n",
       "      <th>decision_tree</th>\n",
       "      <td>0.7204</td>\n",
       "      <td>0.5550</td>\n",
       "      <td>0.7179</td>\n",
       "      <td>0.4747</td>\n",
       "      <td>0.7204</td>\n",
       "      <td>0.5550</td>\n",
       "      <td>0.7204</td>\n",
       "      <td>0.5550</td>\n",
       "    </tr>\n",
       "    <tr>\n",
       "      <th>random_forest</th>\n",
       "      <td>0.7615</td>\n",
       "      <td>0.5791</td>\n",
       "      <td>0.7694</td>\n",
       "      <td>0.4670</td>\n",
       "      <td>0.7615</td>\n",
       "      <td>0.5791</td>\n",
       "      <td>0.7615</td>\n",
       "      <td>0.5791</td>\n",
       "    </tr>\n",
       "  </tbody>\n",
       "</table>\n",
       "</div>"
      ],
      "text/plain": [
       "                    inbalanced         inbalanced_cv            smote          \\\n",
       "                      accuracy  recall      accuracy  recall accuracy  recall   \n",
       "logistic_regression     0.7899  0.5496        0.7906  0.4544   0.7899  0.5496   \n",
       "decision_tree           0.7204  0.5550        0.7179  0.4747   0.7204  0.5550   \n",
       "random_forest           0.7615  0.5791        0.7694  0.4670   0.7615  0.5791   \n",
       "\n",
       "                    tomek_links          \n",
       "                       accuracy  recall  \n",
       "logistic_regression      0.7899  0.5496  \n",
       "decision_tree            0.7204  0.5550  \n",
       "random_forest            0.7615  0.5791  "
      ]
     },
     "execution_count": 49,
     "metadata": {},
     "output_type": "execute_result"
    }
   ],
   "source": [
    "summary = pd.concat([\n",
    "    inbalanced_model_metrics,\n",
    "    inbalanced_cv_model_metrics,\n",
    "    smote_model_metrics,\n",
    "    tl_model_metrics\n",
    "], axis=1)\n",
    "summary"
   ]
  },
  {
   "cell_type": "markdown",
   "id": "0665f784",
   "metadata": {},
   "source": [
    "* _Logistic Regression_ had the best overall performance;\n",
    "* Applying under- or oversampling methods didn't improve most of the models;\n",
    "* _SMOTE_ was the best method to improve the recall metric (true positives) when combined with _logistic regression_."
   ]
  },
  {
   "cell_type": "code",
   "execution_count": null,
   "id": "2faac151",
   "metadata": {},
   "outputs": [],
   "source": []
  },
  {
   "cell_type": "code",
   "execution_count": null,
   "id": "7dd5d340",
   "metadata": {},
   "outputs": [],
   "source": []
  }
 ],
 "metadata": {
  "kernelspec": {
   "display_name": "Python 3 (ipykernel)",
   "language": "python",
   "name": "python3"
  },
  "language_info": {
   "codemirror_mode": {
    "name": "ipython",
    "version": 3
   },
   "file_extension": ".py",
   "mimetype": "text/x-python",
   "name": "python",
   "nbconvert_exporter": "python",
   "pygments_lexer": "ipython3",
   "version": "3.7.11"
  }
 },
 "nbformat": 4,
 "nbformat_minor": 5
}
