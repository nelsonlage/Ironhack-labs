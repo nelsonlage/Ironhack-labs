{
 "cells": [
  {
   "cell_type": "markdown",
   "id": "88e5f802",
   "metadata": {},
   "source": [
    "## Import libraries"
   ]
  },
  {
   "cell_type": "code",
   "execution_count": 1,
   "id": "0209725f",
   "metadata": {},
   "outputs": [],
   "source": [
    "import numpy as np\n",
    "import pandas as pd\n",
    "import seaborn as sns\n",
    "import matplotlib.pyplot as plt\n",
    "%matplotlib inline\n",
    "\n",
    "from sklearn.preprocessing import StandardScaler\n",
    "from sklearn.model_selection import train_test_split, KFold, cross_val_score\n",
    "from sklearn.linear_model import LogisticRegression\n",
    "from sklearn.tree import DecisionTreeClassifier\n",
    "from sklearn.ensemble import RandomForestClassifier\n",
    "from sklearn.metrics import confusion_matrix, classification_report, ConfusionMatrixDisplay\n",
    "from sklearn.tree import plot_tree\n",
    "\n",
    "from imblearn.over_sampling import SMOTE\n",
    "from imblearn.under_sampling import TomekLinks"
   ]
  },
  {
   "cell_type": "code",
   "execution_count": 2,
   "id": "4bf34874",
   "metadata": {},
   "outputs": [],
   "source": [
    "#%load_ext pycodestyle_magic\n",
    "#%pycodestyle_on"
   ]
  },
  {
   "cell_type": "markdown",
   "id": "b42dd587",
   "metadata": {},
   "source": [
    "## Read the data"
   ]
  },
  {
   "cell_type": "code",
   "execution_count": 3,
   "id": "6dc9b1c7",
   "metadata": {},
   "outputs": [
    {
     "name": "stdout",
     "output_type": "stream",
     "text": [
      "(7043, 16)\n"
     ]
    },
    {
     "data": {
      "text/html": [
       "<div>\n",
       "<style scoped>\n",
       "    .dataframe tbody tr th:only-of-type {\n",
       "        vertical-align: middle;\n",
       "    }\n",
       "\n",
       "    .dataframe tbody tr th {\n",
       "        vertical-align: top;\n",
       "    }\n",
       "\n",
       "    .dataframe thead th {\n",
       "        text-align: right;\n",
       "    }\n",
       "</style>\n",
       "<table border=\"1\" class=\"dataframe\">\n",
       "  <thead>\n",
       "    <tr style=\"text-align: right;\">\n",
       "      <th></th>\n",
       "      <th>gender</th>\n",
       "      <th>SeniorCitizen</th>\n",
       "      <th>Partner</th>\n",
       "      <th>Dependents</th>\n",
       "      <th>tenure</th>\n",
       "      <th>PhoneService</th>\n",
       "      <th>OnlineSecurity</th>\n",
       "      <th>OnlineBackup</th>\n",
       "      <th>DeviceProtection</th>\n",
       "      <th>TechSupport</th>\n",
       "      <th>StreamingTV</th>\n",
       "      <th>StreamingMovies</th>\n",
       "      <th>Contract</th>\n",
       "      <th>MonthlyCharges</th>\n",
       "      <th>TotalCharges</th>\n",
       "      <th>Churn</th>\n",
       "    </tr>\n",
       "  </thead>\n",
       "  <tbody>\n",
       "    <tr>\n",
       "      <th>0</th>\n",
       "      <td>Female</td>\n",
       "      <td>0</td>\n",
       "      <td>Yes</td>\n",
       "      <td>No</td>\n",
       "      <td>1</td>\n",
       "      <td>No</td>\n",
       "      <td>No</td>\n",
       "      <td>Yes</td>\n",
       "      <td>No</td>\n",
       "      <td>No</td>\n",
       "      <td>No</td>\n",
       "      <td>No</td>\n",
       "      <td>Month-to-month</td>\n",
       "      <td>29.85</td>\n",
       "      <td>29.85</td>\n",
       "      <td>No</td>\n",
       "    </tr>\n",
       "    <tr>\n",
       "      <th>1</th>\n",
       "      <td>Male</td>\n",
       "      <td>0</td>\n",
       "      <td>No</td>\n",
       "      <td>No</td>\n",
       "      <td>34</td>\n",
       "      <td>Yes</td>\n",
       "      <td>Yes</td>\n",
       "      <td>No</td>\n",
       "      <td>Yes</td>\n",
       "      <td>No</td>\n",
       "      <td>No</td>\n",
       "      <td>No</td>\n",
       "      <td>One year</td>\n",
       "      <td>56.95</td>\n",
       "      <td>1889.5</td>\n",
       "      <td>No</td>\n",
       "    </tr>\n",
       "    <tr>\n",
       "      <th>2</th>\n",
       "      <td>Male</td>\n",
       "      <td>0</td>\n",
       "      <td>No</td>\n",
       "      <td>No</td>\n",
       "      <td>2</td>\n",
       "      <td>Yes</td>\n",
       "      <td>Yes</td>\n",
       "      <td>Yes</td>\n",
       "      <td>No</td>\n",
       "      <td>No</td>\n",
       "      <td>No</td>\n",
       "      <td>No</td>\n",
       "      <td>Month-to-month</td>\n",
       "      <td>53.85</td>\n",
       "      <td>108.15</td>\n",
       "      <td>Yes</td>\n",
       "    </tr>\n",
       "    <tr>\n",
       "      <th>3</th>\n",
       "      <td>Male</td>\n",
       "      <td>0</td>\n",
       "      <td>No</td>\n",
       "      <td>No</td>\n",
       "      <td>45</td>\n",
       "      <td>No</td>\n",
       "      <td>Yes</td>\n",
       "      <td>No</td>\n",
       "      <td>Yes</td>\n",
       "      <td>Yes</td>\n",
       "      <td>No</td>\n",
       "      <td>No</td>\n",
       "      <td>One year</td>\n",
       "      <td>42.30</td>\n",
       "      <td>1840.75</td>\n",
       "      <td>No</td>\n",
       "    </tr>\n",
       "    <tr>\n",
       "      <th>4</th>\n",
       "      <td>Female</td>\n",
       "      <td>0</td>\n",
       "      <td>No</td>\n",
       "      <td>No</td>\n",
       "      <td>2</td>\n",
       "      <td>Yes</td>\n",
       "      <td>No</td>\n",
       "      <td>No</td>\n",
       "      <td>No</td>\n",
       "      <td>No</td>\n",
       "      <td>No</td>\n",
       "      <td>No</td>\n",
       "      <td>Month-to-month</td>\n",
       "      <td>70.70</td>\n",
       "      <td>151.65</td>\n",
       "      <td>Yes</td>\n",
       "    </tr>\n",
       "  </tbody>\n",
       "</table>\n",
       "</div>"
      ],
      "text/plain": [
       "   gender  SeniorCitizen Partner Dependents  tenure PhoneService  \\\n",
       "0  Female              0     Yes         No       1           No   \n",
       "1    Male              0      No         No      34          Yes   \n",
       "2    Male              0      No         No       2          Yes   \n",
       "3    Male              0      No         No      45           No   \n",
       "4  Female              0      No         No       2          Yes   \n",
       "\n",
       "  OnlineSecurity OnlineBackup DeviceProtection TechSupport StreamingTV  \\\n",
       "0             No          Yes               No          No          No   \n",
       "1            Yes           No              Yes          No          No   \n",
       "2            Yes          Yes               No          No          No   \n",
       "3            Yes           No              Yes         Yes          No   \n",
       "4             No           No               No          No          No   \n",
       "\n",
       "  StreamingMovies        Contract  MonthlyCharges TotalCharges Churn  \n",
       "0              No  Month-to-month           29.85        29.85    No  \n",
       "1              No        One year           56.95       1889.5    No  \n",
       "2              No  Month-to-month           53.85       108.15   Yes  \n",
       "3              No        One year           42.30      1840.75    No  \n",
       "4              No  Month-to-month           70.70       151.65   Yes  "
      ]
     },
     "execution_count": 3,
     "metadata": {},
     "output_type": "execute_result"
    }
   ],
   "source": [
    "churn_data = pd.read_csv('DATA_Customer-Churn.csv')\n",
    "print(churn_data.shape)\n",
    "churn_data.head()"
   ]
  },
  {
   "cell_type": "markdown",
   "id": "23d161ba",
   "metadata": {},
   "source": [
    "## Short exploration"
   ]
  },
  {
   "cell_type": "code",
   "execution_count": 4,
   "id": "f0476678",
   "metadata": {},
   "outputs": [],
   "source": [
    "# Make all column names lowercase\n",
    "churn_data.columns = [col.lower() for col in churn_data.columns]"
   ]
  },
  {
   "cell_type": "code",
   "execution_count": 5,
   "id": "c7cb59c6",
   "metadata": {
    "scrolled": false
   },
   "outputs": [
    {
     "name": "stdout",
     "output_type": "stream",
     "text": [
      "<class 'pandas.core.frame.DataFrame'>\n",
      "RangeIndex: 7043 entries, 0 to 7042\n",
      "Data columns (total 16 columns):\n",
      " #   Column            Non-Null Count  Dtype  \n",
      "---  ------            --------------  -----  \n",
      " 0   gender            7043 non-null   object \n",
      " 1   seniorcitizen     7043 non-null   int64  \n",
      " 2   partner           7043 non-null   object \n",
      " 3   dependents        7043 non-null   object \n",
      " 4   tenure            7043 non-null   int64  \n",
      " 5   phoneservice      7043 non-null   object \n",
      " 6   onlinesecurity    7043 non-null   object \n",
      " 7   onlinebackup      7043 non-null   object \n",
      " 8   deviceprotection  7043 non-null   object \n",
      " 9   techsupport       7043 non-null   object \n",
      " 10  streamingtv       7043 non-null   object \n",
      " 11  streamingmovies   7043 non-null   object \n",
      " 12  contract          7043 non-null   object \n",
      " 13  monthlycharges    7043 non-null   float64\n",
      " 14  totalcharges      7043 non-null   object \n",
      " 15  churn             7043 non-null   object \n",
      "dtypes: float64(1), int64(2), object(13)\n",
      "memory usage: 880.5+ KB\n"
     ]
    }
   ],
   "source": [
    "# Check for missing values and data types\n",
    "churn_data.info()"
   ]
  },
  {
   "cell_type": "markdown",
   "id": "51e08418",
   "metadata": {},
   "source": [
    "It seems like there are no missing values. However, when we try to convert the type in `TotalCharges`, we get a `ValueError`\n",
    "\n",
    "```python\n",
    "pd.to_numeric(churn_data['totalcharges'])\n",
    "```\n",
    "```\n",
    "> ValueError: Unable to parse string \" \" \n",
    "```\n",
    "\n",
    "Apparently some values are just a single space character `\" \"` (which probably represents missing data). Let's deal with them:"
   ]
  },
  {
   "cell_type": "code",
   "execution_count": 6,
   "id": "03abed6b",
   "metadata": {},
   "outputs": [],
   "source": [
    "churn_data['totalcharges'] = pd.to_numeric(churn_data['totalcharges'], errors='coerce')  # invalid parsing will be set as NaN\n",
    "churn_data['totalcharges'].fillna(\n",
    "    churn_data['totalcharges'].mean(),\n",
    "    inplace=True)  # replace NaN by the mean"
   ]
  },
  {
   "cell_type": "code",
   "execution_count": 7,
   "id": "e25ad763",
   "metadata": {
    "scrolled": false
   },
   "outputs": [
    {
     "name": "stdout",
     "output_type": "stream",
     "text": [
      "churn_data['totalcharges']\n",
      "Dtype: float64\n",
      "Missing values: 0\n"
     ]
    }
   ],
   "source": [
    "# Check if the changes took place\n",
    "print('churn_data[\\'totalcharges\\']\\nDtype: {}\\nMissing values: {}'.format(\n",
    "    churn_data['totalcharges'].dtype,\n",
    "    churn_data['totalcharges'].isna().sum())\n",
    "     )"
   ]
  },
  {
   "cell_type": "code",
   "execution_count": 8,
   "id": "8306f44d",
   "metadata": {},
   "outputs": [
    {
     "data": {
      "image/png": "[encoded data removed]",
      "text/plain": [
       "<Figure size 432x288 with 1 Axes>"
      ]
     },
     "metadata": {
      "needs_background": "light"
     },
     "output_type": "display_data"
    }
   ],
   "source": [
    "# Check the target variable\n",
    "cmap = plt.cm.get_cmap('viridis', 2).colors\n",
    "churn_data['churn'].value_counts(normalize=True, sort=True, ascending=True).plot.bar(rot=0, color=[cmap[0], cmap[1]])\n",
    "\n",
    "yes_label = churn_data['churn'].value_counts(normalize=True).round(4)['Yes']\n",
    "no_label = churn_data['churn'].value_counts(normalize=True).round(4)['No']\n",
    "\n",
    "\n",
    "plt.title('Proportion of churned customers')\n",
    "plt.annotate(yes_label, xy=(0, 0.3), xytext=(-0.13, 0.2), color=cmap[1], weight='bold')\n",
    "plt.annotate(no_label, xy=(1, 0.7), xytext=(0.88, 0.67), color=cmap[0], weight='bold')\n",
    "plt.show()"
   ]
  },
  {
   "cell_type": "markdown",
   "id": "8c9e41b0",
   "metadata": {},
   "source": [
    "The data is inbalanced: there are 2.8 times more customers that haven't churned."
   ]
  },
  {
   "cell_type": "markdown",
   "id": "a332e6a5",
   "metadata": {},
   "source": [
    "## X/y split"
   ]
  },
  {
   "cell_type": "markdown",
   "id": "bb04f94c",
   "metadata": {},
   "source": [
    "For this first round, we're going to consider only the numeric variables."
   ]
  },
  {
   "cell_type": "code",
   "execution_count": 9,
   "id": "80d9b589",
   "metadata": {},
   "outputs": [],
   "source": [
    "X = churn_data.select_dtypes('number')\n",
    "y = churn_data['churn']"
   ]
  },
  {
   "cell_type": "markdown",
   "id": "f073a247",
   "metadata": {},
   "source": [
    "## Train/test split and standardization"
   ]
  },
  {
   "cell_type": "code",
   "execution_count": 10,
   "id": "84a47955",
   "metadata": {},
   "outputs": [],
   "source": [
    "X_train, X_test, y_train, y_test = train_test_split(X, y, test_size=0.2, random_state=42)\n",
    "\n",
    "scaler = StandardScaler()\n",
    "scaler.fit(X_train)\n",
    "\n",
    "X_train_scaled = scaler.transform(X_train)\n",
    "X_test_scaled  = scaler.transform(X_test)"
   ]
  },
  {
   "cell_type": "markdown",
   "id": "4d3b3769",
   "metadata": {},
   "source": [
    "## Model the data"
   ]
  },
  {
   "cell_type": "code",
   "execution_count": 11,
   "id": "0ed52ee1",
   "metadata": {},
   "outputs": [],
   "source": [
    "# Save model accuracies to build a summary\n",
    "model_accuracy = {\n",
    "    'logistic_regression': {\n",
    "        'accuracy': 0,\n",
    "        'recall': 0\n",
    "    },\n",
    "    'decision_tree': {\n",
    "        'accuracy': 0,\n",
    "        'recall': 0\n",
    "    },\n",
    "    'random_forest': {\n",
    "        'accuracy': 0,\n",
    "        'recall': 0\n",
    "    }\n",
    "}"
   ]
  },
  {
   "cell_type": "code",
   "execution_count": 12,
   "id": "b0a76e34",
   "metadata": {},
   "outputs": [],
   "source": [
    "def apply_model(model, imbalecement_strat=None):\n",
    "    \n",
    "    models = {\n",
    "        'logistic_regression': LogisticRegression(random_state=42),\n",
    "        'decision_tree': DecisionTreeClassifier(random_state=42),\n",
    "        'random_forest': RandomForestClassifier(random_state=42)\n",
    "        }\n",
    "\n",
    "    X_train, X_test, y_train, y_test = train_test_split(X, y, test_size=0.2, random_state=42)\n",
    "\n",
    "    scaler = StandardScaler()\n",
    "    scaler.fit(X_train)\n",
    "    \n",
    "    X_train_scaled = scaler.transform(X_train)\n",
    "    X_test_scaled  = scaler.transform(X_test)\n",
    "    \n",
    "    if imbalecement_strat == 'smote':\n",
    "        smote = SMOTE()\n",
    "        X_train_scaled, y_train = smote.fit_resample(X_train_scaled, y_train)\n",
    "                \n",
    "    elif imbalecement_strat == 'tomeklinks':\n",
    "        tl = TomekLinks(sampling_strategy='majority')\n",
    "        X_train_scaled, y_train = tl.fit_resample(X_train_scaled, y_train)\n",
    "\n",
    "    \n",
    "    else:\n",
    "        pass\n",
    "    \n",
    "    if model == 'cv':\n",
    "        classifier = models['decision_tree']\n",
    "        classifier.fit(X_train_scaled, y_train)\n",
    "        \n",
    "        cv = KFold(n_splits=5, random_state=42, shuffle=True)\n",
    "        \n",
    "        scaler = StandardScaler()\n",
    "        X_cv = scaler.fit_transform(X)\n",
    "        \n",
    "        results = cross_val_score(classifier, X_cv, y, cv=cv)\n",
    "        \n",
    "        return round(results.mean(), 4), round(results.std(), 4)\n",
    "    \n",
    "    else:\n",
    "        \n",
    "        classifier = models[model]     \n",
    "        classifier.fit(X_train_scaled, y_train)\n",
    "        \n",
    "        # Print the model metrics\n",
    "        print('\\033[1m' + 'Training set' + '\\033[0m')\n",
    "        y_train_pred = classifier.predict(X_train_scaled)\n",
    "        print(classification_report(y_train, y_train_pred, digits=4))\n",
    "        \n",
    "        print('\\033[1m' + 'Test set' + '\\033[0m')\n",
    "        y_test_pred = classifier.predict(X_test_scaled)\n",
    "        print(classification_report(y_test, y_test_pred, digits=4))\n",
    "        \n",
    "        # Plot confusion matrices\n",
    "        fig, ax = plt.subplots(1, 2, figsize=(12,10))\n",
    "        plt.subplots_adjust(wspace=.5)\n",
    "        plt.rcParams.update({'font.size': 14})\n",
    "        \n",
    "        cm = confusion_matrix(y_train, y_train_pred)\n",
    "        disp = ConfusionMatrixDisplay(cm, display_labels=classifier.classes_)\n",
    "        disp.plot(colorbar=False, ax=ax[0])\n",
    "        ax[0].set_title('Train set')\n",
    "        \n",
    "        cm = confusion_matrix(y_test, y_test_pred)\n",
    "        disp = ConfusionMatrixDisplay(cm, display_labels=classifier.classes_)\n",
    "        disp.plot(colorbar=False, ax=ax[1])\n",
    "        ax[1].set_title('Test set')\n",
    "    \n",
    "        plt.show()\n",
    "        \n",
    "        accuracy = classification_report(y_test, y_test_pred, output_dict=True)['accuracy']\n",
    "        recall_minority = classification_report(y_test, y_test_pred, output_dict=True)['Yes']['recall']\n",
    "    \n",
    "    return round(accuracy, 4), round(recall_minority, 4)"
   ]
  },
  {
   "cell_type": "markdown",
   "id": "e86a8c26",
   "metadata": {},
   "source": [
    "### Logistic regression"
   ]
  },
  {
   "cell_type": "code",
   "execution_count": 13,
   "id": "353a2b38",
   "metadata": {
    "scrolled": false
   },
   "outputs": [
    {
     "name": "stdout",
     "output_type": "stream",
     "text": [
      "\u001b[1mTraining set\u001b[0m\n",
      "              precision    recall  f1-score   support\n",
      "\n",
      "          No     0.8192    0.9120    0.8631      4138\n",
      "         Yes     0.6456    0.4432    0.5256      1496\n",
      "\n",
      "    accuracy                         0.7875      5634\n",
      "   macro avg     0.7324    0.6776    0.6943      5634\n",
      "weighted avg     0.7731    0.7875    0.7735      5634\n",
      "\n",
      "\u001b[1mTest set\u001b[0m\n",
      "              precision    recall  f1-score   support\n",
      "\n",
      "          No     0.8317    0.9257    0.8762      1036\n",
      "         Yes     0.6992    0.4799    0.5692       373\n",
      "\n",
      "    accuracy                         0.8077      1409\n",
      "   macro avg     0.7655    0.7028    0.7227      1409\n",
      "weighted avg     0.7967    0.8077    0.7949      1409\n",
      "\n"
     ]
    },
    {
     "data": {
      "image/png": "[encoded data removed]",
      "text/plain": [
       "<Figure size 864x720 with 2 Axes>"
      ]
     },
     "metadata": {
      "needs_background": "light"
     },
     "output_type": "display_data"
    }
   ],
   "source": [
    "accuracy, recall = apply_model('logistic_regression')"
   ]
  },
  {
   "cell_type": "code",
   "execution_count": 14,
   "id": "de9b9e36",
   "metadata": {},
   "outputs": [
    {
     "data": {
      "text/plain": [
       "{'logistic_regression': {'accuracy': 0.8077, 'recall': 0.4799},\n",
       " 'decision_tree': {'accuracy': 0, 'recall': 0},\n",
       " 'random_forest': {'accuracy': 0, 'recall': 0}}"
      ]
     },
     "execution_count": 14,
     "metadata": {},
     "output_type": "execute_result"
    }
   ],
   "source": [
    "model_accuracy['logistic_regression']['accuracy'] = accuracy\n",
    "model_accuracy['logistic_regression']['recall'] = recall\n",
    "\n",
    "model_accuracy"
   ]
  },
  {
   "cell_type": "markdown",
   "id": "010257f5",
   "metadata": {},
   "source": [
    "Surprisingly, the test set had a higher overall accuracy (0.8077). The model is better at predicting the label 'No' (recall = 0.9257), probably because of the inbalencement of the data (there are way more 'No' than 'Yes' labels)."
   ]
  },
  {
   "cell_type": "markdown",
   "id": "8e1c0be8",
   "metadata": {},
   "source": [
    "### Decision Tree"
   ]
  },
  {
   "cell_type": "code",
   "execution_count": 15,
   "id": "30572ae1",
   "metadata": {},
   "outputs": [
    {
     "name": "stdout",
     "output_type": "stream",
     "text": [
      "\u001b[1mTraining set\u001b[0m\n",
      "              precision    recall  f1-score   support\n",
      "\n",
      "          No     0.9904    0.9971    0.9937      4138\n",
      "         Yes     0.9918    0.9733    0.9825      1496\n",
      "\n",
      "    accuracy                         0.9908      5634\n",
      "   macro avg     0.9911    0.9852    0.9881      5634\n",
      "weighted avg     0.9908    0.9908    0.9907      5634\n",
      "\n",
      "\u001b[1mTest set\u001b[0m\n",
      "              precision    recall  f1-score   support\n",
      "\n",
      "          No     0.8185    0.8098    0.8142      1036\n",
      "         Yes     0.4870    0.5013    0.4941       373\n",
      "\n",
      "    accuracy                         0.7282      1409\n",
      "   macro avg     0.6528    0.6556    0.6541      1409\n",
      "weighted avg     0.7308    0.7282    0.7294      1409\n",
      "\n"
     ]
    },
    {
     "data": {
      "image/png": "[encoded data removed]",
      "text/plain": [
       "<Figure size 864x720 with 2 Axes>"
      ]
     },
     "metadata": {
      "needs_background": "light"
     },
     "output_type": "display_data"
    }
   ],
   "source": [
    "accuracy, recall = apply_model('decision_tree')"
   ]
  },
  {
   "cell_type": "markdown",
   "id": "d4d5ef0b",
   "metadata": {},
   "source": [
    "Decision trees tend to overfit the training data. The overall performance for the test set is worse than what we achieved with logistic regression."
   ]
  },
  {
   "cell_type": "code",
   "execution_count": 16,
   "id": "7b177a27",
   "metadata": {},
   "outputs": [],
   "source": [
    "model_accuracy['decision_tree']['accuracy'] = accuracy\n",
    "model_accuracy['decision_tree']['recall'] = recall"
   ]
  },
  {
   "cell_type": "markdown",
   "id": "ca75dd34",
   "metadata": {},
   "source": [
    "### Cross-validation on the decision tree"
   ]
  },
  {
   "cell_type": "code",
   "execution_count": 17,
   "id": "51fc7062",
   "metadata": {},
   "outputs": [
    {
     "name": "stdout",
     "output_type": "stream",
     "text": [
      "Average accuracy of 0.7179 with 0.0126 standard deviation\n"
     ]
    }
   ],
   "source": [
    "accuracy, accuracy_std = apply_model('cv')\n",
    "\n",
    "print('Average accuracy of {:.4f} with {:.4f} standard deviation'.format(accuracy, accuracy_std))\n"
   ]
  },
  {
   "cell_type": "markdown",
   "id": "b0c29263",
   "metadata": {},
   "source": [
    "### Random Forest"
   ]
  },
  {
   "cell_type": "code",
   "execution_count": 18,
   "id": "d4686d71",
   "metadata": {
    "scrolled": false
   },
   "outputs": [
    {
     "name": "stdout",
     "output_type": "stream",
     "text": [
      "\u001b[1mTraining set\u001b[0m\n",
      "              precision    recall  f1-score   support\n",
      "\n",
      "          No     0.9947    0.9925    0.9936      4138\n",
      "         Yes     0.9794    0.9853    0.9823      1496\n",
      "\n",
      "    accuracy                         0.9906      5634\n",
      "   macro avg     0.9870    0.9889    0.9880      5634\n",
      "weighted avg     0.9906    0.9906    0.9906      5634\n",
      "\n",
      "\u001b[1mTest set\u001b[0m\n",
      "              precision    recall  f1-score   support\n",
      "\n",
      "          No     0.8196    0.8726    0.8453      1036\n",
      "         Yes     0.5686    0.4665    0.5125       373\n",
      "\n",
      "    accuracy                         0.7651      1409\n",
      "   macro avg     0.6941    0.6695    0.6789      1409\n",
      "weighted avg     0.7531    0.7651    0.7572      1409\n",
      "\n"
     ]
    },
    {
     "data": {
      "image/png": "[encoded data removed]",
      "text/plain": [
       "<Figure size 864x720 with 2 Axes>"
      ]
     },
     "metadata": {
      "needs_background": "light"
     },
     "output_type": "display_data"
    }
   ],
   "source": [
    "accuracy, recall = apply_model('random_forest')"
   ]
  },
  {
   "cell_type": "code",
   "execution_count": 19,
   "id": "62a862dc",
   "metadata": {},
   "outputs": [],
   "source": [
    "model_accuracy['random_forest']['accuracy'] = accuracy\n",
    "model_accuracy['random_forest']['recall'] = recall"
   ]
  },
  {
   "cell_type": "code",
   "execution_count": 20,
   "id": "d8d82058",
   "metadata": {},
   "outputs": [
    {
     "data": {
      "text/html": [
       "<div>\n",
       "<style scoped>\n",
       "    .dataframe tbody tr th:only-of-type {\n",
       "        vertical-align: middle;\n",
       "    }\n",
       "\n",
       "    .dataframe tbody tr th {\n",
       "        vertical-align: top;\n",
       "    }\n",
       "\n",
       "    .dataframe thead tr th {\n",
       "        text-align: left;\n",
       "    }\n",
       "</style>\n",
       "<table border=\"1\" class=\"dataframe\">\n",
       "  <thead>\n",
       "    <tr>\n",
       "      <th></th>\n",
       "      <th colspan=\"2\" halign=\"left\">inbalanced</th>\n",
       "    </tr>\n",
       "    <tr>\n",
       "      <th></th>\n",
       "      <th>accuracy</th>\n",
       "      <th>recall</th>\n",
       "    </tr>\n",
       "  </thead>\n",
       "  <tbody>\n",
       "    <tr>\n",
       "      <th>logistic_regression</th>\n",
       "      <td>0.8077</td>\n",
       "      <td>0.4799</td>\n",
       "    </tr>\n",
       "    <tr>\n",
       "      <th>decision_tree</th>\n",
       "      <td>0.7282</td>\n",
       "      <td>0.5013</td>\n",
       "    </tr>\n",
       "    <tr>\n",
       "      <th>random_forest</th>\n",
       "      <td>0.7651</td>\n",
       "      <td>0.4665</td>\n",
       "    </tr>\n",
       "  </tbody>\n",
       "</table>\n",
       "</div>"
      ],
      "text/plain": [
       "                    inbalanced        \n",
       "                      accuracy  recall\n",
       "logistic_regression     0.8077  0.4799\n",
       "decision_tree           0.7282  0.5013\n",
       "random_forest           0.7651  0.4665"
      ]
     },
     "execution_count": 20,
     "metadata": {},
     "output_type": "execute_result"
    }
   ],
   "source": [
    "inbalanced_model_accuracy = pd.DataFrame.from_dict(model_accuracy, orient='index')\n",
    "inbalanced_model_accuracy.columns = pd.MultiIndex.from_product([['inbalanced'], inbalanced_model_accuracy.columns])\n",
    "inbalanced_model_accuracy "
   ]
  },
  {
   "cell_type": "markdown",
   "id": "8e130319",
   "metadata": {},
   "source": [
    "## Solve inbalacement"
   ]
  },
  {
   "cell_type": "markdown",
   "id": "4696a596",
   "metadata": {},
   "source": [
    "### SMOTE"
   ]
  },
  {
   "cell_type": "markdown",
   "id": "3b4ab410",
   "metadata": {},
   "source": [
    "#### Logistic Regression"
   ]
  },
  {
   "cell_type": "code",
   "execution_count": 21,
   "id": "a0cbbe9e",
   "metadata": {},
   "outputs": [
    {
     "name": "stdout",
     "output_type": "stream",
     "text": [
      "\u001b[1mTraining set\u001b[0m\n",
      "              precision    recall  f1-score   support\n",
      "\n",
      "          No     0.7278    0.7192    0.7235      4138\n",
      "         Yes     0.7225    0.7310    0.7267      4138\n",
      "\n",
      "    accuracy                         0.7251      8276\n",
      "   macro avg     0.7251    0.7251    0.7251      8276\n",
      "weighted avg     0.7251    0.7251    0.7251      8276\n",
      "\n",
      "\u001b[1mTest set\u001b[0m\n",
      "              precision    recall  f1-score   support\n",
      "\n",
      "          No     0.8995    0.7346    0.8087      1036\n",
      "         Yes     0.5115    0.7721    0.6154       373\n",
      "\n",
      "    accuracy                         0.7445      1409\n",
      "   macro avg     0.7055    0.7533    0.7120      1409\n",
      "weighted avg     0.7968    0.7445    0.7575      1409\n",
      "\n"
     ]
    },
    {
     "data": {
      "image/png": "[encoded data removed]",
      "text/plain": [
       "<Figure size 864x720 with 2 Axes>"
      ]
     },
     "metadata": {
      "needs_background": "light"
     },
     "output_type": "display_data"
    }
   ],
   "source": [
    "accuracy, recall = apply_model('logistic_regression', imbalecement_strat='smote')"
   ]
  },
  {
   "cell_type": "code",
   "execution_count": 22,
   "id": "bc6a7558",
   "metadata": {},
   "outputs": [],
   "source": [
    "model_accuracy['logistic_regression']['accuracy'] = accuracy\n",
    "model_accuracy['logistic_regression']['recall'] = recall"
   ]
  },
  {
   "cell_type": "markdown",
   "id": "2d2b75cc",
   "metadata": {},
   "source": [
    "#### Decision Tree"
   ]
  },
  {
   "cell_type": "code",
   "execution_count": 23,
   "id": "a3880f22",
   "metadata": {
    "scrolled": false
   },
   "outputs": [
    {
     "name": "stdout",
     "output_type": "stream",
     "text": [
      "\u001b[1mTraining set\u001b[0m\n",
      "              precision    recall  f1-score   support\n",
      "\n",
      "          No     0.9909    0.9964    0.9936      4138\n",
      "         Yes     0.9964    0.9908    0.9936      4138\n",
      "\n",
      "    accuracy                         0.9936      8276\n",
      "   macro avg     0.9936    0.9936    0.9936      8276\n",
      "weighted avg     0.9936    0.9936    0.9936      8276\n",
      "\n",
      "\u001b[1mTest set\u001b[0m\n",
      "              precision    recall  f1-score   support\n",
      "\n",
      "          No     0.8274    0.7635    0.7942      1036\n",
      "         Yes     0.4592    0.5576    0.5036       373\n",
      "\n",
      "    accuracy                         0.7090      1409\n",
      "   macro avg     0.6433    0.6606    0.6489      1409\n",
      "weighted avg     0.7299    0.7090    0.7173      1409\n",
      "\n"
     ]
    },
    {
     "data": {
      "image/png": "[encoded data removed]",
      "text/plain": [
       "<Figure size 864x720 with 2 Axes>"
      ]
     },
     "metadata": {
      "needs_background": "light"
     },
     "output_type": "display_data"
    }
   ],
   "source": [
    "accuracy, recall = apply_model('decision_tree', imbalecement_strat='smote')"
   ]
  },
  {
   "cell_type": "code",
   "execution_count": 24,
   "id": "67be5fd8",
   "metadata": {},
   "outputs": [],
   "source": [
    "model_accuracy['decision_tree']['accuracy'] = accuracy\n",
    "model_accuracy['decision_tree']['recall'] = recall"
   ]
  },
  {
   "cell_type": "markdown",
   "id": "0e2801e7",
   "metadata": {},
   "source": [
    "#### Random Forest"
   ]
  },
  {
   "cell_type": "code",
   "execution_count": 25,
   "id": "62c5d1aa",
   "metadata": {
    "scrolled": false
   },
   "outputs": [
    {
     "name": "stdout",
     "output_type": "stream",
     "text": [
      "\u001b[1mTraining set\u001b[0m\n",
      "              precision    recall  f1-score   support\n",
      "\n",
      "          No     0.9968    0.9906    0.9937      4138\n",
      "         Yes     0.9906    0.9969    0.9937      4138\n",
      "\n",
      "    accuracy                         0.9937      8276\n",
      "   macro avg     0.9937    0.9937    0.9937      8276\n",
      "weighted avg     0.9937    0.9937    0.9937      8276\n",
      "\n",
      "\u001b[1mTest set\u001b[0m\n",
      "              precision    recall  f1-score   support\n",
      "\n",
      "          No     0.8541    0.7857    0.8185      1036\n",
      "         Yes     0.5132    0.6273    0.5645       373\n",
      "\n",
      "    accuracy                         0.7438      1409\n",
      "   macro avg     0.6837    0.7065    0.6915      1409\n",
      "weighted avg     0.7639    0.7438    0.7513      1409\n",
      "\n"
     ]
    },
    {
     "data": {
      "image/png": "[encoded data removed]",
      "text/plain": [
       "<Figure size 864x720 with 2 Axes>"
      ]
     },
     "metadata": {
      "needs_background": "light"
     },
     "output_type": "display_data"
    }
   ],
   "source": [
    "accuracy, recall = apply_model('random_forest', imbalecement_strat='smote')"
   ]
  },
  {
   "cell_type": "code",
   "execution_count": 26,
   "id": "6039d65d",
   "metadata": {},
   "outputs": [],
   "source": [
    "model_accuracy['random_forest']['accuracy'] = accuracy\n",
    "model_accuracy['random_forest']['recall'] = recall"
   ]
  },
  {
   "cell_type": "code",
   "execution_count": 27,
   "id": "d64a34e6",
   "metadata": {},
   "outputs": [
    {
     "data": {
      "text/html": [
       "<div>\n",
       "<style scoped>\n",
       "    .dataframe tbody tr th:only-of-type {\n",
       "        vertical-align: middle;\n",
       "    }\n",
       "\n",
       "    .dataframe tbody tr th {\n",
       "        vertical-align: top;\n",
       "    }\n",
       "\n",
       "    .dataframe thead tr th {\n",
       "        text-align: left;\n",
       "    }\n",
       "</style>\n",
       "<table border=\"1\" class=\"dataframe\">\n",
       "  <thead>\n",
       "    <tr>\n",
       "      <th></th>\n",
       "      <th colspan=\"2\" halign=\"left\">smote</th>\n",
       "    </tr>\n",
       "    <tr>\n",
       "      <th></th>\n",
       "      <th>accuracy</th>\n",
       "      <th>recall</th>\n",
       "    </tr>\n",
       "  </thead>\n",
       "  <tbody>\n",
       "    <tr>\n",
       "      <th>logistic_regression</th>\n",
       "      <td>0.7445</td>\n",
       "      <td>0.7721</td>\n",
       "    </tr>\n",
       "    <tr>\n",
       "      <th>decision_tree</th>\n",
       "      <td>0.7090</td>\n",
       "      <td>0.5576</td>\n",
       "    </tr>\n",
       "    <tr>\n",
       "      <th>random_forest</th>\n",
       "      <td>0.7438</td>\n",
       "      <td>0.6273</td>\n",
       "    </tr>\n",
       "  </tbody>\n",
       "</table>\n",
       "</div>"
      ],
      "text/plain": [
       "                       smote        \n",
       "                    accuracy  recall\n",
       "logistic_regression   0.7445  0.7721\n",
       "decision_tree         0.7090  0.5576\n",
       "random_forest         0.7438  0.6273"
      ]
     },
     "execution_count": 27,
     "metadata": {},
     "output_type": "execute_result"
    }
   ],
   "source": [
    "smote_model_accuracy = pd.DataFrame.from_dict(model_accuracy, orient='index')\n",
    "smote_model_accuracy.columns = pd.MultiIndex.from_product([['smote'], smote_model_accuracy.columns])\n",
    "smote_model_accuracy"
   ]
  },
  {
   "cell_type": "markdown",
   "id": "a78f0255",
   "metadata": {},
   "source": [
    "### TomekLinks"
   ]
  },
  {
   "cell_type": "markdown",
   "id": "55fec57c",
   "metadata": {},
   "source": [
    "#### Logistic Regression"
   ]
  },
  {
   "cell_type": "code",
   "execution_count": 28,
   "id": "cf303f70",
   "metadata": {},
   "outputs": [
    {
     "name": "stdout",
     "output_type": "stream",
     "text": [
      "\u001b[1mTraining set\u001b[0m\n",
      "              precision    recall  f1-score   support\n",
      "\n",
      "          No     0.8217    0.8970    0.8577      3710\n",
      "         Yes     0.6696    0.5174    0.5837      1496\n",
      "\n",
      "    accuracy                         0.7879      5206\n",
      "   macro avg     0.7456    0.7072    0.7207      5206\n",
      "weighted avg     0.7780    0.7879    0.7790      5206\n",
      "\n",
      "\u001b[1mTest set\u001b[0m\n",
      "              precision    recall  f1-score   support\n",
      "\n",
      "          No     0.8439    0.8764    0.8598      1036\n",
      "         Yes     0.6156    0.5496    0.5807       373\n",
      "\n",
      "    accuracy                         0.7899      1409\n",
      "   macro avg     0.7297    0.7130    0.7203      1409\n",
      "weighted avg     0.7834    0.7899    0.7860      1409\n",
      "\n"
     ]
    },
    {
     "data": {
      "image/png": "[encoded data removed]",
      "text/plain": [
       "<Figure size 864x720 with 2 Axes>"
      ]
     },
     "metadata": {
      "needs_background": "light"
     },
     "output_type": "display_data"
    }
   ],
   "source": [
    "accuracy, recall = apply_model('logistic_regression', imbalecement_strat='tomeklinks')"
   ]
  },
  {
   "cell_type": "code",
   "execution_count": 29,
   "id": "a59db22c",
   "metadata": {},
   "outputs": [],
   "source": [
    "model_accuracy['logistic_regression']['accuracy'] = accuracy\n",
    "model_accuracy['logistic_regression']['recall'] = recall"
   ]
  },
  {
   "cell_type": "markdown",
   "id": "b80b5b3e",
   "metadata": {},
   "source": [
    "#### Decision Tree"
   ]
  },
  {
   "cell_type": "code",
   "execution_count": 30,
   "id": "b459811c",
   "metadata": {},
   "outputs": [
    {
     "name": "stdout",
     "output_type": "stream",
     "text": [
      "\u001b[1mTraining set\u001b[0m\n",
      "              precision    recall  f1-score   support\n",
      "\n",
      "          No     0.9893    0.9968    0.9930      3710\n",
      "         Yes     0.9918    0.9733    0.9825      1496\n",
      "\n",
      "    accuracy                         0.9900      5206\n",
      "   macro avg     0.9906    0.9850    0.9877      5206\n",
      "weighted avg     0.9900    0.9900    0.9900      5206\n",
      "\n",
      "\u001b[1mTest set\u001b[0m\n",
      "              precision    recall  f1-score   support\n",
      "\n",
      "          No     0.8296    0.7799    0.8040      1036\n",
      "         Yes     0.4759    0.5550    0.5124       373\n",
      "\n",
      "    accuracy                         0.7204      1409\n",
      "   macro avg     0.6527    0.6674    0.6582      1409\n",
      "weighted avg     0.7359    0.7204    0.7268      1409\n",
      "\n"
     ]
    },
    {
     "data": {
      "image/png": "[encoded data removed]",
      "text/plain": [
       "<Figure size 864x720 with 2 Axes>"
      ]
     },
     "metadata": {
      "needs_background": "light"
     },
     "output_type": "display_data"
    }
   ],
   "source": [
    "accuracy, recall = apply_model('decision_tree', imbalecement_strat='tomeklinks')"
   ]
  },
  {
   "cell_type": "code",
   "execution_count": 31,
   "id": "f75c1189",
   "metadata": {},
   "outputs": [],
   "source": [
    "model_accuracy['decision_tree']['accuracy'] = accuracy\n",
    "model_accuracy['decision_tree']['recall'] = recall"
   ]
  },
  {
   "cell_type": "markdown",
   "id": "28d9d978",
   "metadata": {},
   "source": [
    " #### Random Forest"
   ]
  },
  {
   "cell_type": "code",
   "execution_count": 32,
   "id": "770c1c92",
   "metadata": {},
   "outputs": [
    {
     "name": "stdout",
     "output_type": "stream",
     "text": [
      "\u001b[1mTraining set\u001b[0m\n",
      "              precision    recall  f1-score   support\n",
      "\n",
      "          No     0.9946    0.9914    0.9930      3710\n",
      "         Yes     0.9788    0.9866    0.9827      1496\n",
      "\n",
      "    accuracy                         0.9900      5206\n",
      "   macro avg     0.9867    0.9890    0.9878      5206\n",
      "weighted avg     0.9900    0.9900    0.9900      5206\n",
      "\n",
      "\u001b[1mTest set\u001b[0m\n",
      "              precision    recall  f1-score   support\n",
      "\n",
      "          No     0.8452    0.8272    0.8361      1036\n",
      "         Yes     0.5468    0.5791    0.5625       373\n",
      "\n",
      "    accuracy                         0.7615      1409\n",
      "   macro avg     0.6960    0.7032    0.6993      1409\n",
      "weighted avg     0.7662    0.7615    0.7637      1409\n",
      "\n"
     ]
    },
    {
     "data": {
      "image/png": "[encoded data removed]",
      "text/plain": [
       "<Figure size 864x720 with 2 Axes>"
      ]
     },
     "metadata": {
      "needs_background": "light"
     },
     "output_type": "display_data"
    }
   ],
   "source": [
    "accuracy, recall = apply_model('random_forest', imbalecement_strat='tomeklinks')"
   ]
  },
  {
   "cell_type": "code",
   "execution_count": 33,
   "id": "d19ea9db",
   "metadata": {},
   "outputs": [],
   "source": [
    "model_accuracy['random_forest']['accuracy'] = accuracy\n",
    "model_accuracy['random_forest']['recall'] = recall"
   ]
  },
  {
   "cell_type": "code",
   "execution_count": 34,
   "id": "7237d62d",
   "metadata": {},
   "outputs": [
    {
     "data": {
      "text/html": [
       "<div>\n",
       "<style scoped>\n",
       "    .dataframe tbody tr th:only-of-type {\n",
       "        vertical-align: middle;\n",
       "    }\n",
       "\n",
       "    .dataframe tbody tr th {\n",
       "        vertical-align: top;\n",
       "    }\n",
       "\n",
       "    .dataframe thead tr th {\n",
       "        text-align: left;\n",
       "    }\n",
       "</style>\n",
       "<table border=\"1\" class=\"dataframe\">\n",
       "  <thead>\n",
       "    <tr>\n",
       "      <th></th>\n",
       "      <th colspan=\"2\" halign=\"left\">tomek_links</th>\n",
       "    </tr>\n",
       "    <tr>\n",
       "      <th></th>\n",
       "      <th>accuracy</th>\n",
       "      <th>recall</th>\n",
       "    </tr>\n",
       "  </thead>\n",
       "  <tbody>\n",
       "    <tr>\n",
       "      <th>logistic_regression</th>\n",
       "      <td>0.7899</td>\n",
       "      <td>0.5496</td>\n",
       "    </tr>\n",
       "    <tr>\n",
       "      <th>decision_tree</th>\n",
       "      <td>0.7204</td>\n",
       "      <td>0.5550</td>\n",
       "    </tr>\n",
       "    <tr>\n",
       "      <th>random_forest</th>\n",
       "      <td>0.7615</td>\n",
       "      <td>0.5791</td>\n",
       "    </tr>\n",
       "  </tbody>\n",
       "</table>\n",
       "</div>"
      ],
      "text/plain": [
       "                    tomek_links        \n",
       "                       accuracy  recall\n",
       "logistic_regression      0.7899  0.5496\n",
       "decision_tree            0.7204  0.5550\n",
       "random_forest            0.7615  0.5791"
      ]
     },
     "execution_count": 34,
     "metadata": {},
     "output_type": "execute_result"
    }
   ],
   "source": [
    "tl_model_accuracy = pd.DataFrame.from_dict(model_accuracy, orient='index')\n",
    "tl_model_accuracy.columns = pd.MultiIndex.from_product([['tomek_links'], tl_model_accuracy.columns])\n",
    "tl_model_accuracy"
   ]
  },
  {
   "cell_type": "markdown",
   "id": "7b44147f",
   "metadata": {},
   "source": [
    "## Summary"
   ]
  },
  {
   "cell_type": "code",
   "execution_count": 35,
   "id": "27dd061a",
   "metadata": {},
   "outputs": [
    {
     "data": {
      "text/html": [
       "<div>\n",
       "<style scoped>\n",
       "    .dataframe tbody tr th:only-of-type {\n",
       "        vertical-align: middle;\n",
       "    }\n",
       "\n",
       "    .dataframe tbody tr th {\n",
       "        vertical-align: top;\n",
       "    }\n",
       "\n",
       "    .dataframe thead tr th {\n",
       "        text-align: left;\n",
       "    }\n",
       "</style>\n",
       "<table border=\"1\" class=\"dataframe\">\n",
       "  <thead>\n",
       "    <tr>\n",
       "      <th></th>\n",
       "      <th colspan=\"2\" halign=\"left\">inbalanced</th>\n",
       "      <th colspan=\"2\" halign=\"left\">smote</th>\n",
       "      <th colspan=\"2\" halign=\"left\">tomek_links</th>\n",
       "    </tr>\n",
       "    <tr>\n",
       "      <th></th>\n",
       "      <th>accuracy</th>\n",
       "      <th>recall</th>\n",
       "      <th>accuracy</th>\n",
       "      <th>recall</th>\n",
       "      <th>accuracy</th>\n",
       "      <th>recall</th>\n",
       "    </tr>\n",
       "  </thead>\n",
       "  <tbody>\n",
       "    <tr>\n",
       "      <th>logistic_regression</th>\n",
       "      <td>0.8077</td>\n",
       "      <td>0.4799</td>\n",
       "      <td>0.7445</td>\n",
       "      <td>0.7721</td>\n",
       "      <td>0.7899</td>\n",
       "      <td>0.5496</td>\n",
       "    </tr>\n",
       "    <tr>\n",
       "      <th>decision_tree</th>\n",
       "      <td>0.7282</td>\n",
       "      <td>0.5013</td>\n",
       "      <td>0.7090</td>\n",
       "      <td>0.5576</td>\n",
       "      <td>0.7204</td>\n",
       "      <td>0.5550</td>\n",
       "    </tr>\n",
       "    <tr>\n",
       "      <th>random_forest</th>\n",
       "      <td>0.7651</td>\n",
       "      <td>0.4665</td>\n",
       "      <td>0.7438</td>\n",
       "      <td>0.6273</td>\n",
       "      <td>0.7615</td>\n",
       "      <td>0.5791</td>\n",
       "    </tr>\n",
       "  </tbody>\n",
       "</table>\n",
       "</div>"
      ],
      "text/plain": [
       "                    inbalanced            smote         tomek_links        \n",
       "                      accuracy  recall accuracy  recall    accuracy  recall\n",
       "logistic_regression     0.8077  0.4799   0.7445  0.7721      0.7899  0.5496\n",
       "decision_tree           0.7282  0.5013   0.7090  0.5576      0.7204  0.5550\n",
       "random_forest           0.7651  0.4665   0.7438  0.6273      0.7615  0.5791"
      ]
     },
     "execution_count": 35,
     "metadata": {},
     "output_type": "execute_result"
    }
   ],
   "source": [
    "summary = pd.concat([\n",
    "    inbalanced_model_accuracy,\n",
    "    smote_model_accuracy,\n",
    "    tl_model_accuracy\n",
    "], axis=1)\n",
    "summary"
   ]
  },
  {
   "cell_type": "markdown",
   "id": "0665f784",
   "metadata": {},
   "source": [
    "* _Logistic Regression_ had the best overall performance;\n",
    "* Applying under- or oversampling methods didn't improve most of the models;\n",
    "* _SMOTE_ was the best method to improve the recall metric (true positives) when combined with _logistic regression_."
   ]
  },
  {
   "cell_type": "code",
   "execution_count": null,
   "id": "2faac151",
   "metadata": {},
   "outputs": [],
   "source": []
  }
 ],
 "metadata": {
  "kernelspec": {
   "display_name": "Python 3 (ipykernel)",
   "language": "python",
   "name": "python3"
  },
  "language_info": {
   "codemirror_mode": {
    "name": "ipython",
    "version": 3
   },
   "file_extension": ".py",
   "mimetype": "text/x-python",
   "name": "python",
   "nbconvert_exporter": "python",
   "pygments_lexer": "ipython3",
   "version": "3.7.11"
  }
 },
 "nbformat": 4,
 "nbformat_minor": 5
}
