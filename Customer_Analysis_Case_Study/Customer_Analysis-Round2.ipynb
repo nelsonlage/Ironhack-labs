{
 "cells": [
  {
   "cell_type": "markdown",
   "id": "54a3abca",
   "metadata": {},
   "source": [
    "## Lab Case Study"
   ]
  },
  {
   "cell_type": "markdown",
   "id": "639c92c6",
   "metadata": {},
   "source": [
    "We received a new file with different columns and some more info to work with. This file was previously cleaned."
   ]
  },
  {
   "cell_type": "markdown",
   "id": "3dd1b7b5",
   "metadata": {},
   "source": [
    "### Import libraries"
   ]
  },
  {
   "cell_type": "code",
   "execution_count": 1,
   "id": "c722bb22",
   "metadata": {},
   "outputs": [],
   "source": [
    "import pandas as pd\n",
    "import numpy as np\n",
    "import matplotlib.pyplot as plt\n",
    "import seaborn as sns\n",
    "from sklearn.preprocessing import StandardScaler, MinMaxScaler\n",
    "from sklearn.model_selection import train_test_split\n",
    "from sklearn.linear_model import LinearRegression, Lasso, Ridge\n",
    "from sklearn.neighbors import KNeighborsRegressor\n",
    "from sklearn.metrics import r2_score\n",
    "from sklearn.feature_selection import RFE\n",
    "import statistics"
   ]
  },
  {
   "cell_type": "markdown",
   "id": "ac708d5c",
   "metadata": {},
   "source": [
    "### Import file"
   ]
  },
  {
   "cell_type": "code",
   "execution_count": 2,
   "id": "cf64613c",
   "metadata": {
    "slideshow": {
     "slide_type": "slide"
    }
   },
   "outputs": [
    {
     "data": {
      "text/html": [
       "<div>\n",
       "<style scoped>\n",
       "    .dataframe tbody tr th:only-of-type {\n",
       "        vertical-align: middle;\n",
       "    }\n",
       "\n",
       "    .dataframe tbody tr th {\n",
       "        vertical-align: top;\n",
       "    }\n",
       "\n",
       "    .dataframe thead th {\n",
       "        text-align: right;\n",
       "    }\n",
       "</style>\n",
       "<table border=\"1\" class=\"dataframe\">\n",
       "  <thead>\n",
       "    <tr style=\"text-align: right;\">\n",
       "      <th></th>\n",
       "      <th>region</th>\n",
       "      <th>customer_lifetime_value</th>\n",
       "      <th>response</th>\n",
       "      <th>coverage</th>\n",
       "      <th>education</th>\n",
       "      <th>effective_to_date</th>\n",
       "      <th>month</th>\n",
       "      <th>employment_status</th>\n",
       "      <th>gender</th>\n",
       "      <th>income</th>\n",
       "      <th>...</th>\n",
       "      <th>months_since_policy_inception</th>\n",
       "      <th>number_of_open_complaints</th>\n",
       "      <th>number_of_policies</th>\n",
       "      <th>policy_type</th>\n",
       "      <th>policy</th>\n",
       "      <th>renew_offer_type</th>\n",
       "      <th>sales_channel</th>\n",
       "      <th>total_claim_amount</th>\n",
       "      <th>vehicle_class</th>\n",
       "      <th>vehicle_size</th>\n",
       "    </tr>\n",
       "  </thead>\n",
       "  <tbody>\n",
       "    <tr>\n",
       "      <th>0</th>\n",
       "      <td>central</td>\n",
       "      <td>4809</td>\n",
       "      <td>no</td>\n",
       "      <td>basic</td>\n",
       "      <td>college</td>\n",
       "      <td>2/18/11</td>\n",
       "      <td>feb</td>\n",
       "      <td>employed</td>\n",
       "      <td>m</td>\n",
       "      <td>48029</td>\n",
       "      <td>...</td>\n",
       "      <td>52</td>\n",
       "      <td>0</td>\n",
       "      <td>9</td>\n",
       "      <td>corporate auto</td>\n",
       "      <td>corporate l3</td>\n",
       "      <td>offer3</td>\n",
       "      <td>agent</td>\n",
       "      <td>292</td>\n",
       "      <td>four-door car</td>\n",
       "      <td>medsize</td>\n",
       "    </tr>\n",
       "    <tr>\n",
       "      <th>1</th>\n",
       "      <td>west region</td>\n",
       "      <td>2228</td>\n",
       "      <td>no</td>\n",
       "      <td>basic</td>\n",
       "      <td>college</td>\n",
       "      <td>1/18/11</td>\n",
       "      <td>jan</td>\n",
       "      <td>unemployed</td>\n",
       "      <td>f</td>\n",
       "      <td>92260</td>\n",
       "      <td>...</td>\n",
       "      <td>26</td>\n",
       "      <td>0</td>\n",
       "      <td>1</td>\n",
       "      <td>personal auto</td>\n",
       "      <td>personal l3</td>\n",
       "      <td>offer4</td>\n",
       "      <td>call center</td>\n",
       "      <td>744</td>\n",
       "      <td>four-door car</td>\n",
       "      <td>medsize</td>\n",
       "    </tr>\n",
       "    <tr>\n",
       "      <th>2</th>\n",
       "      <td>east</td>\n",
       "      <td>14947</td>\n",
       "      <td>no</td>\n",
       "      <td>basic</td>\n",
       "      <td>bachelor</td>\n",
       "      <td>2/10/11</td>\n",
       "      <td>feb</td>\n",
       "      <td>employed</td>\n",
       "      <td>m</td>\n",
       "      <td>22139</td>\n",
       "      <td>...</td>\n",
       "      <td>31</td>\n",
       "      <td>0</td>\n",
       "      <td>2</td>\n",
       "      <td>personal auto</td>\n",
       "      <td>personal l3</td>\n",
       "      <td>offer3</td>\n",
       "      <td>call center</td>\n",
       "      <td>480</td>\n",
       "      <td>suv</td>\n",
       "      <td>medsize</td>\n",
       "    </tr>\n",
       "    <tr>\n",
       "      <th>3</th>\n",
       "      <td>north west</td>\n",
       "      <td>22332</td>\n",
       "      <td>yes</td>\n",
       "      <td>extended</td>\n",
       "      <td>college</td>\n",
       "      <td>1/11/11</td>\n",
       "      <td>jan</td>\n",
       "      <td>employed</td>\n",
       "      <td>m</td>\n",
       "      <td>49078</td>\n",
       "      <td>...</td>\n",
       "      <td>3</td>\n",
       "      <td>0</td>\n",
       "      <td>2</td>\n",
       "      <td>corporate auto</td>\n",
       "      <td>corporate l3</td>\n",
       "      <td>offer2</td>\n",
       "      <td>branch</td>\n",
       "      <td>484</td>\n",
       "      <td>four-door car</td>\n",
       "      <td>medsize</td>\n",
       "    </tr>\n",
       "    <tr>\n",
       "      <th>4</th>\n",
       "      <td>north west</td>\n",
       "      <td>9025</td>\n",
       "      <td>no</td>\n",
       "      <td>premium</td>\n",
       "      <td>bachelor</td>\n",
       "      <td>1/17/11</td>\n",
       "      <td>jan</td>\n",
       "      <td>medical leave</td>\n",
       "      <td>f</td>\n",
       "      <td>23675</td>\n",
       "      <td>...</td>\n",
       "      <td>31</td>\n",
       "      <td>0</td>\n",
       "      <td>7</td>\n",
       "      <td>personal auto</td>\n",
       "      <td>personal l2</td>\n",
       "      <td>offer1</td>\n",
       "      <td>branch</td>\n",
       "      <td>707</td>\n",
       "      <td>four-door car</td>\n",
       "      <td>medsize</td>\n",
       "    </tr>\n",
       "    <tr>\n",
       "      <th>...</th>\n",
       "      <td>...</td>\n",
       "      <td>...</td>\n",
       "      <td>...</td>\n",
       "      <td>...</td>\n",
       "      <td>...</td>\n",
       "      <td>...</td>\n",
       "      <td>...</td>\n",
       "      <td>...</td>\n",
       "      <td>...</td>\n",
       "      <td>...</td>\n",
       "      <td>...</td>\n",
       "      <td>...</td>\n",
       "      <td>...</td>\n",
       "      <td>...</td>\n",
       "      <td>...</td>\n",
       "      <td>...</td>\n",
       "      <td>...</td>\n",
       "      <td>...</td>\n",
       "      <td>...</td>\n",
       "      <td>...</td>\n",
       "      <td>...</td>\n",
       "    </tr>\n",
       "    <tr>\n",
       "      <th>10684</th>\n",
       "      <td>central</td>\n",
       "      <td>15563</td>\n",
       "      <td>no</td>\n",
       "      <td>premium</td>\n",
       "      <td>bachelor</td>\n",
       "      <td>1/19/11</td>\n",
       "      <td>jan</td>\n",
       "      <td>unemployed</td>\n",
       "      <td>f</td>\n",
       "      <td>61541</td>\n",
       "      <td>...</td>\n",
       "      <td>40</td>\n",
       "      <td>0</td>\n",
       "      <td>7</td>\n",
       "      <td>personal auto</td>\n",
       "      <td>personal l1</td>\n",
       "      <td>offer3</td>\n",
       "      <td>web</td>\n",
       "      <td>1214</td>\n",
       "      <td>luxury car</td>\n",
       "      <td>medsize</td>\n",
       "    </tr>\n",
       "    <tr>\n",
       "      <th>10685</th>\n",
       "      <td>north west</td>\n",
       "      <td>5259</td>\n",
       "      <td>no</td>\n",
       "      <td>basic</td>\n",
       "      <td>college</td>\n",
       "      <td>1/6/11</td>\n",
       "      <td>jan</td>\n",
       "      <td>employed</td>\n",
       "      <td>f</td>\n",
       "      <td>61146</td>\n",
       "      <td>...</td>\n",
       "      <td>68</td>\n",
       "      <td>0</td>\n",
       "      <td>6</td>\n",
       "      <td>personal auto</td>\n",
       "      <td>personal l3</td>\n",
       "      <td>offer2</td>\n",
       "      <td>branch</td>\n",
       "      <td>273</td>\n",
       "      <td>four-door car</td>\n",
       "      <td>medsize</td>\n",
       "    </tr>\n",
       "    <tr>\n",
       "      <th>10686</th>\n",
       "      <td>central</td>\n",
       "      <td>23893</td>\n",
       "      <td>no</td>\n",
       "      <td>extended</td>\n",
       "      <td>bachelor</td>\n",
       "      <td>2/6/11</td>\n",
       "      <td>feb</td>\n",
       "      <td>employed</td>\n",
       "      <td>f</td>\n",
       "      <td>39837</td>\n",
       "      <td>...</td>\n",
       "      <td>63</td>\n",
       "      <td>0</td>\n",
       "      <td>2</td>\n",
       "      <td>corporate auto</td>\n",
       "      <td>corporate l3</td>\n",
       "      <td>offer1</td>\n",
       "      <td>web</td>\n",
       "      <td>381</td>\n",
       "      <td>luxury suv</td>\n",
       "      <td>medsize</td>\n",
       "    </tr>\n",
       "    <tr>\n",
       "      <th>10687</th>\n",
       "      <td>west region</td>\n",
       "      <td>11971</td>\n",
       "      <td>no</td>\n",
       "      <td>premium</td>\n",
       "      <td>college</td>\n",
       "      <td>2/13/11</td>\n",
       "      <td>feb</td>\n",
       "      <td>employed</td>\n",
       "      <td>f</td>\n",
       "      <td>64195</td>\n",
       "      <td>...</td>\n",
       "      <td>27</td>\n",
       "      <td>4</td>\n",
       "      <td>6</td>\n",
       "      <td>personal auto</td>\n",
       "      <td>personal l1</td>\n",
       "      <td>offer1</td>\n",
       "      <td>branch</td>\n",
       "      <td>618</td>\n",
       "      <td>suv</td>\n",
       "      <td>medsize</td>\n",
       "    </tr>\n",
       "    <tr>\n",
       "      <th>10688</th>\n",
       "      <td>central</td>\n",
       "      <td>6857</td>\n",
       "      <td>no</td>\n",
       "      <td>basic</td>\n",
       "      <td>bachelor</td>\n",
       "      <td>1/8/11</td>\n",
       "      <td>jan</td>\n",
       "      <td>unemployed</td>\n",
       "      <td>m</td>\n",
       "      <td>68942</td>\n",
       "      <td>...</td>\n",
       "      <td>1</td>\n",
       "      <td>0</td>\n",
       "      <td>3</td>\n",
       "      <td>personal auto</td>\n",
       "      <td>personal l1</td>\n",
       "      <td>offer4</td>\n",
       "      <td>web</td>\n",
       "      <td>1021</td>\n",
       "      <td>suv</td>\n",
       "      <td>medsize</td>\n",
       "    </tr>\n",
       "  </tbody>\n",
       "</table>\n",
       "<p>10689 rows × 24 columns</p>\n",
       "</div>"
      ],
      "text/plain": [
       "            region  customer_lifetime_value response  coverage education  \\\n",
       "0          central                     4809       no     basic   college   \n",
       "1      west region                     2228       no     basic   college   \n",
       "2             east                    14947       no     basic  bachelor   \n",
       "3       north west                    22332      yes  extended   college   \n",
       "4       north west                     9025       no   premium  bachelor   \n",
       "...            ...                      ...      ...       ...       ...   \n",
       "10684      central                    15563       no   premium  bachelor   \n",
       "10685   north west                     5259       no     basic   college   \n",
       "10686      central                    23893       no  extended  bachelor   \n",
       "10687  west region                    11971       no   premium   college   \n",
       "10688      central                     6857       no     basic  bachelor   \n",
       "\n",
       "      effective_to_date month employment_status gender  income  ...  \\\n",
       "0               2/18/11   feb          employed      m   48029  ...   \n",
       "1               1/18/11   jan        unemployed      f   92260  ...   \n",
       "2               2/10/11   feb          employed      m   22139  ...   \n",
       "3               1/11/11   jan          employed      m   49078  ...   \n",
       "4               1/17/11   jan     medical leave      f   23675  ...   \n",
       "...                 ...   ...               ...    ...     ...  ...   \n",
       "10684           1/19/11   jan        unemployed      f   61541  ...   \n",
       "10685            1/6/11   jan          employed      f   61146  ...   \n",
       "10686            2/6/11   feb          employed      f   39837  ...   \n",
       "10687           2/13/11   feb          employed      f   64195  ...   \n",
       "10688            1/8/11   jan        unemployed      m   68942  ...   \n",
       "\n",
       "      months_since_policy_inception number_of_open_complaints  \\\n",
       "0                                52                         0   \n",
       "1                                26                         0   \n",
       "2                                31                         0   \n",
       "3                                 3                         0   \n",
       "4                                31                         0   \n",
       "...                             ...                       ...   \n",
       "10684                            40                         0   \n",
       "10685                            68                         0   \n",
       "10686                            63                         0   \n",
       "10687                            27                         4   \n",
       "10688                             1                         0   \n",
       "\n",
       "       number_of_policies     policy_type        policy  renew_offer_type  \\\n",
       "0                       9  corporate auto  corporate l3            offer3   \n",
       "1                       1   personal auto   personal l3            offer4   \n",
       "2                       2   personal auto   personal l3            offer3   \n",
       "3                       2  corporate auto  corporate l3            offer2   \n",
       "4                       7   personal auto   personal l2            offer1   \n",
       "...                   ...             ...           ...               ...   \n",
       "10684                   7   personal auto   personal l1            offer3   \n",
       "10685                   6   personal auto   personal l3            offer2   \n",
       "10686                   2  corporate auto  corporate l3            offer1   \n",
       "10687                   6   personal auto   personal l1            offer1   \n",
       "10688                   3   personal auto   personal l1            offer4   \n",
       "\n",
       "       sales_channel total_claim_amount  vehicle_class vehicle_size  \n",
       "0              agent                292  four-door car      medsize  \n",
       "1        call center                744  four-door car      medsize  \n",
       "2        call center                480            suv      medsize  \n",
       "3             branch                484  four-door car      medsize  \n",
       "4             branch                707  four-door car      medsize  \n",
       "...              ...                ...            ...          ...  \n",
       "10684            web               1214     luxury car      medsize  \n",
       "10685         branch                273  four-door car      medsize  \n",
       "10686            web                381     luxury suv      medsize  \n",
       "10687         branch                618            suv      medsize  \n",
       "10688            web               1021            suv      medsize  \n",
       "\n",
       "[10689 rows x 24 columns]"
      ]
     },
     "execution_count": 2,
     "metadata": {},
     "output_type": "execute_result"
    }
   ],
   "source": [
    "file4 = pd.read_csv('Data/file4.csv')\n",
    "file4"
   ]
  },
  {
   "cell_type": "code",
   "execution_count": 3,
   "id": "17c2e434",
   "metadata": {
    "slideshow": {
     "slide_type": "slide"
    }
   },
   "outputs": [
    {
     "name": "stdout",
     "output_type": "stream",
     "text": [
      "<class 'pandas.core.frame.DataFrame'>\n",
      "RangeIndex: 10689 entries, 0 to 10688\n",
      "Data columns (total 24 columns):\n",
      " #   Column                         Non-Null Count  Dtype \n",
      "---  ------                         --------------  ----- \n",
      " 0   region                         10689 non-null  object\n",
      " 1   customer_lifetime_value        10689 non-null  int64 \n",
      " 2   response                       10689 non-null  object\n",
      " 3   coverage                       10689 non-null  object\n",
      " 4   education                      10689 non-null  object\n",
      " 5   effective_to_date              10689 non-null  object\n",
      " 6   month                          10689 non-null  object\n",
      " 7   employment_status              10689 non-null  object\n",
      " 8   gender                         10689 non-null  object\n",
      " 9   income                         10689 non-null  int64 \n",
      " 10  location_code                  10689 non-null  object\n",
      " 11  marital_status                 10689 non-null  object\n",
      " 12  monthly_premium_auto           10689 non-null  int64 \n",
      " 13  months_since_last_claim        10689 non-null  int64 \n",
      " 14  months_since_policy_inception  10689 non-null  int64 \n",
      " 15  number_of_open_complaints      10689 non-null  int64 \n",
      " 16  number_of_policies             10689 non-null  int64 \n",
      " 17  policy_type                    10689 non-null  object\n",
      " 18  policy                         10689 non-null  object\n",
      " 19  renew_offer_type               10689 non-null  object\n",
      " 20  sales_channel                  10689 non-null  object\n",
      " 21  total_claim_amount             10689 non-null  int64 \n",
      " 22  vehicle_class                  10689 non-null  object\n",
      " 23  vehicle_size                   10689 non-null  object\n",
      "dtypes: int64(8), object(16)\n",
      "memory usage: 2.0+ MB\n"
     ]
    }
   ],
   "source": [
    "file4.info()"
   ]
  },
  {
   "cell_type": "markdown",
   "id": "6c7bbf30",
   "metadata": {},
   "source": [
    "Description of some columns:\n",
    "\n",
    "- **Inception** refers to the actual date that an insurance policy begins. Upon inception, a policyholder has coverage in accordance with the terms of their insurance policy."
   ]
  },
  {
   "cell_type": "markdown",
   "id": "523e7c88",
   "metadata": {
    "slideshow": {
     "slide_type": "slide"
    }
   },
   "source": [
    "### Plotting"
   ]
  },
  {
   "cell_type": "markdown",
   "id": "54cc4349",
   "metadata": {
    "slideshow": {
     "slide_type": "slide"
    }
   },
   "source": [
    "#### Response rate"
   ]
  },
  {
   "cell_type": "code",
   "execution_count": 4,
   "id": "fcacd857",
   "metadata": {
    "scrolled": false,
    "slideshow": {
     "slide_type": "subslide"
    }
   },
   "outputs": [
    {
     "data": {
      "image/png": "[encoded data removed]",
      "text/plain": [
       "<Figure size 864x432 with 2 Axes>"
      ]
     },
     "metadata": {
      "needs_background": "light"
     },
     "output_type": "display_data"
    }
   ],
   "source": [
    "fig, axes = plt.subplots(1,2, figsize=(12,6))\n",
    "\n",
    "file4['response'].value_counts().plot.bar(rot=0, ax=axes[0])\n",
    "\n",
    "axes[0].bar_label(axes[0].containers[0], padding=-15, c='white', weight='demi')\n",
    "axes[0].set_ylabel('Amount')\n",
    "axes[0].set_title('Total number of responses', fontsize=16)\n",
    "\n",
    "file4['response'].value_counts(normalize=True).plot.bar(rot=0, ax=axes[1])\n",
    "\n",
    "axes[1].bar_label(axes[1].containers[0], fmt='%.3f', padding=-15, c='white', weight='demi')\n",
    "axes[1].set_ylabel('Amount')\n",
    "axes[1].set_title('Response rate', fontsize=16)\n",
    "\n",
    "\n",
    "plt.show()"
   ]
  },
  {
   "cell_type": "markdown",
   "id": "8ea8d9e5",
   "metadata": {
    "slideshow": {
     "slide_type": "slide"
    }
   },
   "source": [
    "#### Response rate by sales channel"
   ]
  },
  {
   "cell_type": "code",
   "execution_count": 5,
   "id": "f65652fe",
   "metadata": {
    "scrolled": false
   },
   "outputs": [
    {
     "data": {
      "image/png": "[encoded data removed]",
      "text/plain": [
       "<Figure size 576x576 with 1 Axes>"
      ]
     },
     "metadata": {
      "needs_background": "light"
     },
     "output_type": "display_data"
    }
   ],
   "source": [
    "fig, ax = plt.subplots(1, 1, figsize=(8, 8))\n",
    "\n",
    "file4.groupby('sales_channel')['response'].value_counts(\n",
    "    normalize=True).unstack()['yes'].plot.bar(rot=0, ax=ax,\n",
    "                                              color=['#1D6A8A', '#731D8A', '#8A3D1D', '#348A1D'])\n",
    "\n",
    "ax.bar_label(ax.containers[0], fmt='%.3f',\n",
    "             padding=-15, c='white', weight='demi')\n",
    "ax.set_ylabel(\"Rate of responses - 'yes'\")\n",
    "ax.set_title('Response rate vs Sales Channel', fontsize=16)\n",
    "plt.show()"
   ]
  },
  {
   "cell_type": "markdown",
   "id": "9d1a846e",
   "metadata": {
    "slideshow": {
     "slide_type": "subslide"
    }
   },
   "source": [
    "Total response:\n",
    "```python\n",
    "fig, ax = plt.subplots(1, 1, figsize=(8, 8))\n",
    "sns.countplot(x='sales_channel', hue='response', data=file4)\n",
    "ax.set_ylabel('Amount of responses')\n",
    "ax.set_title('Total number of responses vs Sales Channel')\n",
    "plt.show()\n",
    "```"
   ]
  },
  {
   "cell_type": "markdown",
   "id": "e93aa2c0",
   "metadata": {
    "slideshow": {
     "slide_type": "slide"
    }
   },
   "source": [
    "#### Response rate by total claim amount"
   ]
  },
  {
   "cell_type": "markdown",
   "id": "1f0c20b9",
   "metadata": {
    "slideshow": {
     "slide_type": "fragment"
    }
   },
   "source": [
    " As there are too many values in the <font color='orange'>**Total Claim Amount**</font> column (continuous variable), it makes sense to group the data before plotting them."
   ]
  },
  {
   "cell_type": "code",
   "execution_count": 6,
   "id": "40048d0f",
   "metadata": {
    "scrolled": false,
    "slideshow": {
     "slide_type": "subslide"
    }
   },
   "outputs": [
    {
     "data": {
      "text/plain": [
       "array([   0.,  312.,  494., 2893.])"
      ]
     },
     "metadata": {},
     "output_type": "display_data"
    },
    {
     "data": {
      "text/html": [
       "<div>\n",
       "<style scoped>\n",
       "    .dataframe tbody tr th:only-of-type {\n",
       "        vertical-align: middle;\n",
       "    }\n",
       "\n",
       "    .dataframe tbody tr th {\n",
       "        vertical-align: top;\n",
       "    }\n",
       "\n",
       "    .dataframe thead th {\n",
       "        text-align: right;\n",
       "    }\n",
       "</style>\n",
       "<table border=\"1\" class=\"dataframe\">\n",
       "  <thead>\n",
       "    <tr style=\"text-align: right;\">\n",
       "      <th></th>\n",
       "      <th>response</th>\n",
       "      <th>total_claim_amount</th>\n",
       "    </tr>\n",
       "  </thead>\n",
       "  <tbody>\n",
       "    <tr>\n",
       "      <th>0</th>\n",
       "      <td>no</td>\n",
       "      <td>Low</td>\n",
       "    </tr>\n",
       "    <tr>\n",
       "      <th>1</th>\n",
       "      <td>no</td>\n",
       "      <td>High</td>\n",
       "    </tr>\n",
       "    <tr>\n",
       "      <th>2</th>\n",
       "      <td>no</td>\n",
       "      <td>Medium</td>\n",
       "    </tr>\n",
       "    <tr>\n",
       "      <th>3</th>\n",
       "      <td>yes</td>\n",
       "      <td>Medium</td>\n",
       "    </tr>\n",
       "    <tr>\n",
       "      <th>4</th>\n",
       "      <td>no</td>\n",
       "      <td>High</td>\n",
       "    </tr>\n",
       "    <tr>\n",
       "      <th>...</th>\n",
       "      <td>...</td>\n",
       "      <td>...</td>\n",
       "    </tr>\n",
       "    <tr>\n",
       "      <th>10684</th>\n",
       "      <td>no</td>\n",
       "      <td>High</td>\n",
       "    </tr>\n",
       "    <tr>\n",
       "      <th>10685</th>\n",
       "      <td>no</td>\n",
       "      <td>Low</td>\n",
       "    </tr>\n",
       "    <tr>\n",
       "      <th>10686</th>\n",
       "      <td>no</td>\n",
       "      <td>Medium</td>\n",
       "    </tr>\n",
       "    <tr>\n",
       "      <th>10687</th>\n",
       "      <td>no</td>\n",
       "      <td>High</td>\n",
       "    </tr>\n",
       "    <tr>\n",
       "      <th>10688</th>\n",
       "      <td>no</td>\n",
       "      <td>High</td>\n",
       "    </tr>\n",
       "  </tbody>\n",
       "</table>\n",
       "<p>10689 rows × 2 columns</p>\n",
       "</div>"
      ],
      "text/plain": [
       "      response total_claim_amount\n",
       "0           no                Low\n",
       "1           no               High\n",
       "2           no             Medium\n",
       "3          yes             Medium\n",
       "4           no               High\n",
       "...        ...                ...\n",
       "10684       no               High\n",
       "10685       no                Low\n",
       "10686       no             Medium\n",
       "10687       no               High\n",
       "10688       no               High\n",
       "\n",
       "[10689 rows x 2 columns]"
      ]
     },
     "execution_count": 6,
     "metadata": {},
     "output_type": "execute_result"
    }
   ],
   "source": [
    "labels = ['Low', 'Medium', 'High']\n",
    "claim_amount_binned, bins = pd.qcut(\n",
    "    file4['total_claim_amount'], q=3, labels=labels, retbins=True)\n",
    "display(bins)\n",
    "\n",
    "response_claim = pd.concat(\n",
    "    [file4['response'], claim_amount_binned], axis=1)\n",
    "response_claim"
   ]
  },
  {
   "cell_type": "code",
   "execution_count": 7,
   "id": "245023bb",
   "metadata": {},
   "outputs": [
    {
     "data": {
      "text/html": [
       "<style>\n",
       "  table {margin-left: 0 !important;}\n",
       "</style>\n"
      ],
      "text/plain": [
       "<IPython.core.display.HTML object>"
      ]
     },
     "metadata": {},
     "output_type": "display_data"
    }
   ],
   "source": [
    "%%html\n",
    "<style>\n",
    "  table {margin-left: 0 !important;}\n",
    "</style>"
   ]
  },
  {
   "cell_type": "markdown",
   "id": "ed68d324",
   "metadata": {},
   "source": [
    "For reference:\n",
    "\n",
    "|        Bin       |  Label |\n",
    "|:----------------:|:------:|\n",
    "| (0.098, 312.0]   | Low    |\n",
    "| (312.0, 494.4]   | Medium |\n",
    "| (494.4, 2893.24] | High   |"
   ]
  },
  {
   "cell_type": "code",
   "execution_count": 8,
   "id": "f64ca332",
   "metadata": {},
   "outputs": [
    {
     "data": {
      "image/png": "[encoded data removed]",
      "text/plain": [
       "<Figure size 576x576 with 1 Axes>"
      ]
     },
     "metadata": {
      "needs_background": "light"
     },
     "output_type": "display_data"
    }
   ],
   "source": [
    "fig, ax = plt.subplots(1, 1, figsize=(8, 8))\n",
    "\n",
    "response_claim.groupby('total_claim_amount')['response'].value_counts(\n",
    "    normalize=True).unstack()['yes'].plot.bar(rot=0, ax=ax,\n",
    "                                              color=['#1D6A8A', '#731D8A', '#348A1D'])\n",
    "\n",
    "ax.bar_label(ax.containers[0], fmt='%.3f',\n",
    "             padding=-15, c='white', weight='demi')\n",
    "ax.set_ylabel(\"Rate of responses - 'yes'\")\n",
    "ax.set_title('Response rate vs total claim amount', fontsize=16)\n",
    "plt.show()"
   ]
  },
  {
   "cell_type": "markdown",
   "id": "c0e6bf1a",
   "metadata": {
    "slideshow": {
     "slide_type": "subslide"
    }
   },
   "source": [
    "For total responses:\n",
    "```python\n",
    "fig, ax = plt.subplots(1,1, figsize=(8,8))\n",
    "sns.countplot(x='total_claim_amount', hue='response', data=response_claim)\n",
    "ax.set_ylabel('Total amount of responses')\n",
    "ax.set_title('Total amount of responses by total claim amount')\n",
    "plt.show()\n",
    "```"
   ]
  },
  {
   "cell_type": "markdown",
   "id": "9830098c",
   "metadata": {
    "slideshow": {
     "slide_type": "slide"
    }
   },
   "source": [
    "#### Response rate by income"
   ]
  },
  {
   "cell_type": "markdown",
   "id": "2db8426d",
   "metadata": {
    "slideshow": {
     "slide_type": "fragment"
    }
   },
   "source": [
    "Like in the previous step, we should group the data in <font color='orange'>**Income**</font> before plotting."
   ]
  },
  {
   "cell_type": "code",
   "execution_count": 9,
   "id": "3251ee64",
   "metadata": {
    "scrolled": false,
    "slideshow": {
     "slide_type": "subslide"
    }
   },
   "outputs": [
    {
     "data": {
      "text/plain": [
       "array([10037.        , 35625.        , 64217.33333333, 99981.        ])"
      ]
     },
     "metadata": {},
     "output_type": "display_data"
    },
    {
     "data": {
      "text/html": [
       "<div>\n",
       "<style scoped>\n",
       "    .dataframe tbody tr th:only-of-type {\n",
       "        vertical-align: middle;\n",
       "    }\n",
       "\n",
       "    .dataframe tbody tr th {\n",
       "        vertical-align: top;\n",
       "    }\n",
       "\n",
       "    .dataframe thead th {\n",
       "        text-align: right;\n",
       "    }\n",
       "</style>\n",
       "<table border=\"1\" class=\"dataframe\">\n",
       "  <thead>\n",
       "    <tr style=\"text-align: right;\">\n",
       "      <th></th>\n",
       "      <th>response</th>\n",
       "      <th>income</th>\n",
       "    </tr>\n",
       "  </thead>\n",
       "  <tbody>\n",
       "    <tr>\n",
       "      <th>0</th>\n",
       "      <td>no</td>\n",
       "      <td>Medium</td>\n",
       "    </tr>\n",
       "    <tr>\n",
       "      <th>1</th>\n",
       "      <td>no</td>\n",
       "      <td>High</td>\n",
       "    </tr>\n",
       "    <tr>\n",
       "      <th>2</th>\n",
       "      <td>no</td>\n",
       "      <td>Low</td>\n",
       "    </tr>\n",
       "    <tr>\n",
       "      <th>3</th>\n",
       "      <td>yes</td>\n",
       "      <td>Medium</td>\n",
       "    </tr>\n",
       "    <tr>\n",
       "      <th>4</th>\n",
       "      <td>no</td>\n",
       "      <td>Low</td>\n",
       "    </tr>\n",
       "    <tr>\n",
       "      <th>...</th>\n",
       "      <td>...</td>\n",
       "      <td>...</td>\n",
       "    </tr>\n",
       "    <tr>\n",
       "      <th>10684</th>\n",
       "      <td>no</td>\n",
       "      <td>Medium</td>\n",
       "    </tr>\n",
       "    <tr>\n",
       "      <th>10685</th>\n",
       "      <td>no</td>\n",
       "      <td>Medium</td>\n",
       "    </tr>\n",
       "    <tr>\n",
       "      <th>10686</th>\n",
       "      <td>no</td>\n",
       "      <td>Medium</td>\n",
       "    </tr>\n",
       "    <tr>\n",
       "      <th>10687</th>\n",
       "      <td>no</td>\n",
       "      <td>Medium</td>\n",
       "    </tr>\n",
       "    <tr>\n",
       "      <th>10688</th>\n",
       "      <td>no</td>\n",
       "      <td>High</td>\n",
       "    </tr>\n",
       "  </tbody>\n",
       "</table>\n",
       "<p>10689 rows × 2 columns</p>\n",
       "</div>"
      ],
      "text/plain": [
       "      response  income\n",
       "0           no  Medium\n",
       "1           no    High\n",
       "2           no     Low\n",
       "3          yes  Medium\n",
       "4           no     Low\n",
       "...        ...     ...\n",
       "10684       no  Medium\n",
       "10685       no  Medium\n",
       "10686       no  Medium\n",
       "10687       no  Medium\n",
       "10688       no    High\n",
       "\n",
       "[10689 rows x 2 columns]"
      ]
     },
     "execution_count": 9,
     "metadata": {},
     "output_type": "execute_result"
    }
   ],
   "source": [
    "income_binned, bins = pd.qcut(file4['income'], q=3, labels=labels, retbins=True)\n",
    "display(bins)\n",
    "\n",
    "response_income = pd.concat([file4['response'], income_binned], axis=1)\n",
    "response_income"
   ]
  },
  {
   "cell_type": "markdown",
   "id": "38da8d5a",
   "metadata": {},
   "source": [
    "For reference:\n",
    "\n",
    "|        Bin       |  Label |\n",
    "|:----------------:|:------:|\n",
    "| (10075, 35625]   | Low    |\n",
    "| (35635, 64217.33]| Medium |\n",
    "| (64217.33, 99981]| High   |"
   ]
  },
  {
   "cell_type": "code",
   "execution_count": 10,
   "id": "23b5d976",
   "metadata": {},
   "outputs": [
    {
     "data": {
      "image/png": "[encoded data removed]",
      "text/plain": [
       "<Figure size 576x576 with 1 Axes>"
      ]
     },
     "metadata": {
      "needs_background": "light"
     },
     "output_type": "display_data"
    }
   ],
   "source": [
    "fig, ax = plt.subplots(1, 1, figsize=(8, 8))\n",
    "\n",
    "response_income.groupby('income')['response'].value_counts(\n",
    "    normalize=True).unstack()['yes'].plot.bar(rot=0, ax=ax,\n",
    "                                              color=['#1D6A8A', '#731D8A', '#348A1D'])\n",
    "\n",
    "ax.bar_label(ax.containers[0], fmt='%.3f',\n",
    "             padding=-15, c='white', weight='demi')\n",
    "ax.set_ylabel(\"Rate of responses - 'yes'\")\n",
    "ax.set_title('Response rate vs income', fontsize=16)\n",
    "plt.show()"
   ]
  },
  {
   "cell_type": "markdown",
   "id": "92708715",
   "metadata": {
    "slideshow": {
     "slide_type": "slide"
    }
   },
   "source": [
    "**Categorical vs numerical**"
   ]
  },
  {
   "cell_type": "markdown",
   "id": "ba77bced",
   "metadata": {
    "slideshow": {
     "slide_type": "fragment"
    }
   },
   "source": [
    "Let's split the data into numerical and categorical columns to proceed with the analysis."
   ]
  },
  {
   "cell_type": "code",
   "execution_count": 11,
   "id": "7a3653a0",
   "metadata": {
    "scrolled": false,
    "slideshow": {
     "slide_type": "subslide"
    }
   },
   "outputs": [
    {
     "data": {
      "text/html": [
       "<div>\n",
       "<style scoped>\n",
       "    .dataframe tbody tr th:only-of-type {\n",
       "        vertical-align: middle;\n",
       "    }\n",
       "\n",
       "    .dataframe tbody tr th {\n",
       "        vertical-align: top;\n",
       "    }\n",
       "\n",
       "    .dataframe thead th {\n",
       "        text-align: right;\n",
       "    }\n",
       "</style>\n",
       "<table border=\"1\" class=\"dataframe\">\n",
       "  <thead>\n",
       "    <tr style=\"text-align: right;\">\n",
       "      <th></th>\n",
       "      <th>customer_lifetime_value</th>\n",
       "      <th>income</th>\n",
       "      <th>monthly_premium_auto</th>\n",
       "      <th>months_since_policy_inception</th>\n",
       "      <th>total_claim_amount</th>\n",
       "    </tr>\n",
       "  </thead>\n",
       "  <tbody>\n",
       "    <tr>\n",
       "      <th>0</th>\n",
       "      <td>4809</td>\n",
       "      <td>48029</td>\n",
       "      <td>61</td>\n",
       "      <td>52</td>\n",
       "      <td>292</td>\n",
       "    </tr>\n",
       "    <tr>\n",
       "      <th>1</th>\n",
       "      <td>2228</td>\n",
       "      <td>92260</td>\n",
       "      <td>64</td>\n",
       "      <td>26</td>\n",
       "      <td>744</td>\n",
       "    </tr>\n",
       "    <tr>\n",
       "      <th>2</th>\n",
       "      <td>14947</td>\n",
       "      <td>22139</td>\n",
       "      <td>100</td>\n",
       "      <td>31</td>\n",
       "      <td>480</td>\n",
       "    </tr>\n",
       "    <tr>\n",
       "      <th>3</th>\n",
       "      <td>22332</td>\n",
       "      <td>49078</td>\n",
       "      <td>97</td>\n",
       "      <td>3</td>\n",
       "      <td>484</td>\n",
       "    </tr>\n",
       "    <tr>\n",
       "      <th>4</th>\n",
       "      <td>9025</td>\n",
       "      <td>23675</td>\n",
       "      <td>117</td>\n",
       "      <td>31</td>\n",
       "      <td>707</td>\n",
       "    </tr>\n",
       "    <tr>\n",
       "      <th>...</th>\n",
       "      <td>...</td>\n",
       "      <td>...</td>\n",
       "      <td>...</td>\n",
       "      <td>...</td>\n",
       "      <td>...</td>\n",
       "    </tr>\n",
       "    <tr>\n",
       "      <th>10684</th>\n",
       "      <td>15563</td>\n",
       "      <td>61541</td>\n",
       "      <td>253</td>\n",
       "      <td>40</td>\n",
       "      <td>1214</td>\n",
       "    </tr>\n",
       "    <tr>\n",
       "      <th>10685</th>\n",
       "      <td>5259</td>\n",
       "      <td>61146</td>\n",
       "      <td>65</td>\n",
       "      <td>68</td>\n",
       "      <td>273</td>\n",
       "    </tr>\n",
       "    <tr>\n",
       "      <th>10686</th>\n",
       "      <td>23893</td>\n",
       "      <td>39837</td>\n",
       "      <td>201</td>\n",
       "      <td>63</td>\n",
       "      <td>381</td>\n",
       "    </tr>\n",
       "    <tr>\n",
       "      <th>10687</th>\n",
       "      <td>11971</td>\n",
       "      <td>64195</td>\n",
       "      <td>158</td>\n",
       "      <td>27</td>\n",
       "      <td>618</td>\n",
       "    </tr>\n",
       "    <tr>\n",
       "      <th>10688</th>\n",
       "      <td>6857</td>\n",
       "      <td>68942</td>\n",
       "      <td>101</td>\n",
       "      <td>1</td>\n",
       "      <td>1021</td>\n",
       "    </tr>\n",
       "  </tbody>\n",
       "</table>\n",
       "<p>10689 rows × 5 columns</p>\n",
       "</div>"
      ],
      "text/plain": [
       "       customer_lifetime_value  income  monthly_premium_auto  \\\n",
       "0                         4809   48029                    61   \n",
       "1                         2228   92260                    64   \n",
       "2                        14947   22139                   100   \n",
       "3                        22332   49078                    97   \n",
       "4                         9025   23675                   117   \n",
       "...                        ...     ...                   ...   \n",
       "10684                    15563   61541                   253   \n",
       "10685                     5259   61146                    65   \n",
       "10686                    23893   39837                   201   \n",
       "10687                    11971   64195                   158   \n",
       "10688                     6857   68942                   101   \n",
       "\n",
       "       months_since_policy_inception  total_claim_amount  \n",
       "0                                 52                 292  \n",
       "1                                 26                 744  \n",
       "2                                 31                 480  \n",
       "3                                  3                 484  \n",
       "4                                 31                 707  \n",
       "...                              ...                 ...  \n",
       "10684                             40                1214  \n",
       "10685                             68                 273  \n",
       "10686                             63                 381  \n",
       "10687                             27                 618  \n",
       "10688                              1                1021  \n",
       "\n",
       "[10689 rows x 5 columns]"
      ]
     },
     "execution_count": 11,
     "metadata": {},
     "output_type": "execute_result"
    }
   ],
   "source": [
    "numericals = file4.select_dtypes(include='number').drop(\n",
    "    columns={'months_since_last_claim', 'number_of_open_complaints', 'number_of_policies'})\n",
    "numericals"
   ]
  },
  {
   "cell_type": "code",
   "execution_count": 12,
   "id": "01c8e9cb",
   "metadata": {
    "scrolled": false,
    "slideshow": {
     "slide_type": "subslide"
    }
   },
   "outputs": [
    {
     "data": {
      "text/html": [
       "<div>\n",
       "<style scoped>\n",
       "    .dataframe tbody tr th:only-of-type {\n",
       "        vertical-align: middle;\n",
       "    }\n",
       "\n",
       "    .dataframe tbody tr th {\n",
       "        vertical-align: top;\n",
       "    }\n",
       "\n",
       "    .dataframe thead th {\n",
       "        text-align: right;\n",
       "    }\n",
       "</style>\n",
       "<table border=\"1\" class=\"dataframe\">\n",
       "  <thead>\n",
       "    <tr style=\"text-align: right;\">\n",
       "      <th></th>\n",
       "      <th>region</th>\n",
       "      <th>response</th>\n",
       "      <th>effective_to_date</th>\n",
       "      <th>month</th>\n",
       "      <th>employment_status</th>\n",
       "      <th>gender</th>\n",
       "      <th>location_code</th>\n",
       "      <th>marital_status</th>\n",
       "      <th>policy_type</th>\n",
       "      <th>policy</th>\n",
       "      <th>renew_offer_type</th>\n",
       "      <th>sales_channel</th>\n",
       "      <th>vehicle_class</th>\n",
       "    </tr>\n",
       "  </thead>\n",
       "  <tbody>\n",
       "    <tr>\n",
       "      <th>0</th>\n",
       "      <td>central</td>\n",
       "      <td>no</td>\n",
       "      <td>2/18/11</td>\n",
       "      <td>feb</td>\n",
       "      <td>employed</td>\n",
       "      <td>m</td>\n",
       "      <td>suburban</td>\n",
       "      <td>married</td>\n",
       "      <td>corporate auto</td>\n",
       "      <td>corporate l3</td>\n",
       "      <td>offer3</td>\n",
       "      <td>agent</td>\n",
       "      <td>four-door car</td>\n",
       "    </tr>\n",
       "    <tr>\n",
       "      <th>1</th>\n",
       "      <td>west region</td>\n",
       "      <td>no</td>\n",
       "      <td>1/18/11</td>\n",
       "      <td>jan</td>\n",
       "      <td>unemployed</td>\n",
       "      <td>f</td>\n",
       "      <td>suburban</td>\n",
       "      <td>single</td>\n",
       "      <td>personal auto</td>\n",
       "      <td>personal l3</td>\n",
       "      <td>offer4</td>\n",
       "      <td>call center</td>\n",
       "      <td>four-door car</td>\n",
       "    </tr>\n",
       "    <tr>\n",
       "      <th>2</th>\n",
       "      <td>east</td>\n",
       "      <td>no</td>\n",
       "      <td>2/10/11</td>\n",
       "      <td>feb</td>\n",
       "      <td>employed</td>\n",
       "      <td>m</td>\n",
       "      <td>suburban</td>\n",
       "      <td>single</td>\n",
       "      <td>personal auto</td>\n",
       "      <td>personal l3</td>\n",
       "      <td>offer3</td>\n",
       "      <td>call center</td>\n",
       "      <td>suv</td>\n",
       "    </tr>\n",
       "    <tr>\n",
       "      <th>3</th>\n",
       "      <td>north west</td>\n",
       "      <td>yes</td>\n",
       "      <td>1/11/11</td>\n",
       "      <td>jan</td>\n",
       "      <td>employed</td>\n",
       "      <td>m</td>\n",
       "      <td>suburban</td>\n",
       "      <td>single</td>\n",
       "      <td>corporate auto</td>\n",
       "      <td>corporate l3</td>\n",
       "      <td>offer2</td>\n",
       "      <td>branch</td>\n",
       "      <td>four-door car</td>\n",
       "    </tr>\n",
       "    <tr>\n",
       "      <th>4</th>\n",
       "      <td>north west</td>\n",
       "      <td>no</td>\n",
       "      <td>1/17/11</td>\n",
       "      <td>jan</td>\n",
       "      <td>medical leave</td>\n",
       "      <td>f</td>\n",
       "      <td>suburban</td>\n",
       "      <td>married</td>\n",
       "      <td>personal auto</td>\n",
       "      <td>personal l2</td>\n",
       "      <td>offer1</td>\n",
       "      <td>branch</td>\n",
       "      <td>four-door car</td>\n",
       "    </tr>\n",
       "    <tr>\n",
       "      <th>...</th>\n",
       "      <td>...</td>\n",
       "      <td>...</td>\n",
       "      <td>...</td>\n",
       "      <td>...</td>\n",
       "      <td>...</td>\n",
       "      <td>...</td>\n",
       "      <td>...</td>\n",
       "      <td>...</td>\n",
       "      <td>...</td>\n",
       "      <td>...</td>\n",
       "      <td>...</td>\n",
       "      <td>...</td>\n",
       "      <td>...</td>\n",
       "    </tr>\n",
       "    <tr>\n",
       "      <th>10684</th>\n",
       "      <td>central</td>\n",
       "      <td>no</td>\n",
       "      <td>1/19/11</td>\n",
       "      <td>jan</td>\n",
       "      <td>unemployed</td>\n",
       "      <td>f</td>\n",
       "      <td>suburban</td>\n",
       "      <td>married</td>\n",
       "      <td>personal auto</td>\n",
       "      <td>personal l1</td>\n",
       "      <td>offer3</td>\n",
       "      <td>web</td>\n",
       "      <td>luxury car</td>\n",
       "    </tr>\n",
       "    <tr>\n",
       "      <th>10685</th>\n",
       "      <td>north west</td>\n",
       "      <td>no</td>\n",
       "      <td>1/6/11</td>\n",
       "      <td>jan</td>\n",
       "      <td>employed</td>\n",
       "      <td>f</td>\n",
       "      <td>urban</td>\n",
       "      <td>married</td>\n",
       "      <td>personal auto</td>\n",
       "      <td>personal l3</td>\n",
       "      <td>offer2</td>\n",
       "      <td>branch</td>\n",
       "      <td>four-door car</td>\n",
       "    </tr>\n",
       "    <tr>\n",
       "      <th>10686</th>\n",
       "      <td>central</td>\n",
       "      <td>no</td>\n",
       "      <td>2/6/11</td>\n",
       "      <td>feb</td>\n",
       "      <td>employed</td>\n",
       "      <td>f</td>\n",
       "      <td>rural</td>\n",
       "      <td>married</td>\n",
       "      <td>corporate auto</td>\n",
       "      <td>corporate l3</td>\n",
       "      <td>offer1</td>\n",
       "      <td>web</td>\n",
       "      <td>luxury suv</td>\n",
       "    </tr>\n",
       "    <tr>\n",
       "      <th>10687</th>\n",
       "      <td>west region</td>\n",
       "      <td>no</td>\n",
       "      <td>2/13/11</td>\n",
       "      <td>feb</td>\n",
       "      <td>employed</td>\n",
       "      <td>f</td>\n",
       "      <td>urban</td>\n",
       "      <td>divorced</td>\n",
       "      <td>personal auto</td>\n",
       "      <td>personal l1</td>\n",
       "      <td>offer1</td>\n",
       "      <td>branch</td>\n",
       "      <td>suv</td>\n",
       "    </tr>\n",
       "    <tr>\n",
       "      <th>10688</th>\n",
       "      <td>central</td>\n",
       "      <td>no</td>\n",
       "      <td>1/8/11</td>\n",
       "      <td>jan</td>\n",
       "      <td>unemployed</td>\n",
       "      <td>m</td>\n",
       "      <td>suburban</td>\n",
       "      <td>single</td>\n",
       "      <td>personal auto</td>\n",
       "      <td>personal l1</td>\n",
       "      <td>offer4</td>\n",
       "      <td>web</td>\n",
       "      <td>suv</td>\n",
       "    </tr>\n",
       "  </tbody>\n",
       "</table>\n",
       "<p>10689 rows × 13 columns</p>\n",
       "</div>"
      ],
      "text/plain": [
       "            region response effective_to_date month employment_status gender  \\\n",
       "0          central       no           2/18/11   feb          employed      m   \n",
       "1      west region       no           1/18/11   jan        unemployed      f   \n",
       "2             east       no           2/10/11   feb          employed      m   \n",
       "3       north west      yes           1/11/11   jan          employed      m   \n",
       "4       north west       no           1/17/11   jan     medical leave      f   \n",
       "...            ...      ...               ...   ...               ...    ...   \n",
       "10684      central       no           1/19/11   jan        unemployed      f   \n",
       "10685   north west       no            1/6/11   jan          employed      f   \n",
       "10686      central       no            2/6/11   feb          employed      f   \n",
       "10687  west region       no           2/13/11   feb          employed      f   \n",
       "10688      central       no            1/8/11   jan        unemployed      m   \n",
       "\n",
       "      location_code marital_status     policy_type        policy  \\\n",
       "0          suburban        married  corporate auto  corporate l3   \n",
       "1          suburban         single   personal auto   personal l3   \n",
       "2          suburban         single   personal auto   personal l3   \n",
       "3          suburban         single  corporate auto  corporate l3   \n",
       "4          suburban        married   personal auto   personal l2   \n",
       "...             ...            ...             ...           ...   \n",
       "10684      suburban        married   personal auto   personal l1   \n",
       "10685         urban        married   personal auto   personal l3   \n",
       "10686         rural        married  corporate auto  corporate l3   \n",
       "10687         urban       divorced   personal auto   personal l1   \n",
       "10688      suburban         single   personal auto   personal l1   \n",
       "\n",
       "      renew_offer_type sales_channel  vehicle_class  \n",
       "0               offer3         agent  four-door car  \n",
       "1               offer4   call center  four-door car  \n",
       "2               offer3   call center            suv  \n",
       "3               offer2        branch  four-door car  \n",
       "4               offer1        branch  four-door car  \n",
       "...                ...           ...            ...  \n",
       "10684           offer3           web     luxury car  \n",
       "10685           offer2        branch  four-door car  \n",
       "10686           offer1           web     luxury suv  \n",
       "10687           offer1        branch            suv  \n",
       "10688           offer4           web            suv  \n",
       "\n",
       "[10689 rows x 13 columns]"
      ]
     },
     "execution_count": 12,
     "metadata": {},
     "output_type": "execute_result"
    }
   ],
   "source": [
    "categoricals = file4.select_dtypes(include='object').drop(\n",
    "    columns={'coverage', 'education', 'vehicle_size'})\n",
    "categoricals"
   ]
  },
  {
   "cell_type": "code",
   "execution_count": 13,
   "id": "67f85f55",
   "metadata": {},
   "outputs": [],
   "source": [
    "ordinals = file4[['months_since_last_claim', 'number_of_open_complaints',\n",
    "                  'number_of_policies', 'coverage', 'education', 'vehicle_size']]"
   ]
  },
  {
   "cell_type": "code",
   "execution_count": 14,
   "id": "efcd00cb",
   "metadata": {},
   "outputs": [
    {
     "data": {
      "text/html": [
       "<div>\n",
       "<style scoped>\n",
       "    .dataframe tbody tr th:only-of-type {\n",
       "        vertical-align: middle;\n",
       "    }\n",
       "\n",
       "    .dataframe tbody tr th {\n",
       "        vertical-align: top;\n",
       "    }\n",
       "\n",
       "    .dataframe thead th {\n",
       "        text-align: right;\n",
       "    }\n",
       "</style>\n",
       "<table border=\"1\" class=\"dataframe\">\n",
       "  <thead>\n",
       "    <tr style=\"text-align: right;\">\n",
       "      <th></th>\n",
       "      <th>months_since_last_claim</th>\n",
       "      <th>number_of_open_complaints</th>\n",
       "      <th>number_of_policies</th>\n",
       "      <th>coverage</th>\n",
       "      <th>education</th>\n",
       "      <th>vehicle_size</th>\n",
       "    </tr>\n",
       "  </thead>\n",
       "  <tbody>\n",
       "    <tr>\n",
       "      <th>0</th>\n",
       "      <td>7</td>\n",
       "      <td>0</td>\n",
       "      <td>9</td>\n",
       "      <td>basic</td>\n",
       "      <td>college</td>\n",
       "      <td>medsize</td>\n",
       "    </tr>\n",
       "    <tr>\n",
       "      <th>1</th>\n",
       "      <td>3</td>\n",
       "      <td>0</td>\n",
       "      <td>1</td>\n",
       "      <td>basic</td>\n",
       "      <td>college</td>\n",
       "      <td>medsize</td>\n",
       "    </tr>\n",
       "    <tr>\n",
       "      <th>2</th>\n",
       "      <td>34</td>\n",
       "      <td>0</td>\n",
       "      <td>2</td>\n",
       "      <td>basic</td>\n",
       "      <td>bachelor</td>\n",
       "      <td>medsize</td>\n",
       "    </tr>\n",
       "    <tr>\n",
       "      <th>3</th>\n",
       "      <td>10</td>\n",
       "      <td>0</td>\n",
       "      <td>2</td>\n",
       "      <td>extended</td>\n",
       "      <td>college</td>\n",
       "      <td>medsize</td>\n",
       "    </tr>\n",
       "    <tr>\n",
       "      <th>4</th>\n",
       "      <td>33</td>\n",
       "      <td>0</td>\n",
       "      <td>7</td>\n",
       "      <td>premium</td>\n",
       "      <td>bachelor</td>\n",
       "      <td>medsize</td>\n",
       "    </tr>\n",
       "    <tr>\n",
       "      <th>...</th>\n",
       "      <td>...</td>\n",
       "      <td>...</td>\n",
       "      <td>...</td>\n",
       "      <td>...</td>\n",
       "      <td>...</td>\n",
       "      <td>...</td>\n",
       "    </tr>\n",
       "    <tr>\n",
       "      <th>10684</th>\n",
       "      <td>12</td>\n",
       "      <td>0</td>\n",
       "      <td>7</td>\n",
       "      <td>premium</td>\n",
       "      <td>bachelor</td>\n",
       "      <td>medsize</td>\n",
       "    </tr>\n",
       "    <tr>\n",
       "      <th>10685</th>\n",
       "      <td>7</td>\n",
       "      <td>0</td>\n",
       "      <td>6</td>\n",
       "      <td>basic</td>\n",
       "      <td>college</td>\n",
       "      <td>medsize</td>\n",
       "    </tr>\n",
       "    <tr>\n",
       "      <th>10686</th>\n",
       "      <td>11</td>\n",
       "      <td>0</td>\n",
       "      <td>2</td>\n",
       "      <td>extended</td>\n",
       "      <td>bachelor</td>\n",
       "      <td>medsize</td>\n",
       "    </tr>\n",
       "    <tr>\n",
       "      <th>10687</th>\n",
       "      <td>0</td>\n",
       "      <td>4</td>\n",
       "      <td>6</td>\n",
       "      <td>premium</td>\n",
       "      <td>college</td>\n",
       "      <td>medsize</td>\n",
       "    </tr>\n",
       "    <tr>\n",
       "      <th>10688</th>\n",
       "      <td>31</td>\n",
       "      <td>0</td>\n",
       "      <td>3</td>\n",
       "      <td>basic</td>\n",
       "      <td>bachelor</td>\n",
       "      <td>medsize</td>\n",
       "    </tr>\n",
       "  </tbody>\n",
       "</table>\n",
       "<p>10689 rows × 6 columns</p>\n",
       "</div>"
      ],
      "text/plain": [
       "       months_since_last_claim  number_of_open_complaints  number_of_policies  \\\n",
       "0                            7                          0                   9   \n",
       "1                            3                          0                   1   \n",
       "2                           34                          0                   2   \n",
       "3                           10                          0                   2   \n",
       "4                           33                          0                   7   \n",
       "...                        ...                        ...                 ...   \n",
       "10684                       12                          0                   7   \n",
       "10685                        7                          0                   6   \n",
       "10686                       11                          0                   2   \n",
       "10687                        0                          4                   6   \n",
       "10688                       31                          0                   3   \n",
       "\n",
       "       coverage education vehicle_size  \n",
       "0         basic   college      medsize  \n",
       "1         basic   college      medsize  \n",
       "2         basic  bachelor      medsize  \n",
       "3      extended   college      medsize  \n",
       "4       premium  bachelor      medsize  \n",
       "...         ...       ...          ...  \n",
       "10684   premium  bachelor      medsize  \n",
       "10685     basic   college      medsize  \n",
       "10686  extended  bachelor      medsize  \n",
       "10687   premium   college      medsize  \n",
       "10688     basic  bachelor      medsize  \n",
       "\n",
       "[10689 rows x 6 columns]"
      ]
     },
     "execution_count": 14,
     "metadata": {},
     "output_type": "execute_result"
    }
   ],
   "source": [
    "ordinals"
   ]
  },
  {
   "cell_type": "markdown",
   "id": "d7b3007a",
   "metadata": {
    "slideshow": {
     "slide_type": "slide"
    }
   },
   "source": [
    "#### Heatmap"
   ]
  },
  {
   "cell_type": "markdown",
   "id": "88260ce2",
   "metadata": {
    "slideshow": {
     "slide_type": "fragment"
    }
   },
   "source": [
    "Let's check the correlation between pairs of numerical variables."
   ]
  },
  {
   "cell_type": "code",
   "execution_count": 15,
   "id": "2a9e652c",
   "metadata": {
    "slideshow": {
     "slide_type": "subslide"
    }
   },
   "outputs": [
    {
     "data": {
      "image/png": "[encoded data removed]",
      "text/plain": [
       "<Figure size 576x576 with 2 Axes>"
      ]
     },
     "metadata": {
      "needs_background": "light"
     },
     "output_type": "display_data"
    }
   ],
   "source": [
    "corr = numericals.corr() # returns a dataframe with the correlation values\n",
    "matrix = np.triu(corr) # sets all the values of the lower triangle (under the main diagonal) to 0 (= False)\n",
    "palette = sns.diverging_palette(145, 300, s=60, as_cmap=True)\n",
    "\n",
    "fig, ax = plt.subplots(1,1, figsize=(8,8))\n",
    "plt.title('Heatmap of Pearson correlations', fontsize=16)\n",
    "sns.heatmap(\n",
    "    corr,  # the data for the heatmap\n",
    "    annot=True,  # show the actual values of correlation\n",
    "    cmap=palette,\n",
    "    center=0,  # specify the value at which to center the colormap\n",
    "    fmt='.2g', # specify the format for the annotation \n",
    "    mask=matrix, # hides the values where mask = True (= upper triangle)\n",
    "    vmax=.5,\n",
    "    vmin=-.5)\n",
    "plt.show()"
   ]
  },
  {
   "cell_type": "markdown",
   "id": "322b739c",
   "metadata": {
    "slideshow": {
     "slide_type": "subslide"
    }
   },
   "source": [
    "None of the variables showed a high linear correlation. The best correlation is between <font color='orange'>**Total Claim Amount**</font> and <font color='orange'>**Monthly Premium Auto**</font> (0.63). Also, there are no signs of multicollinearity."
   ]
  },
  {
   "cell_type": "markdown",
   "id": "f88c0f01",
   "metadata": {
    "slideshow": {
     "slide_type": "slide"
    }
   },
   "source": [
    "#### Checking for normality"
   ]
  },
  {
   "cell_type": "markdown",
   "id": "b579c49f",
   "metadata": {
    "slideshow": {
     "slide_type": "fragment"
    }
   },
   "source": [
    "We'll plot the distribution of the numeric variables to visually check for normallity."
   ]
  },
  {
   "cell_type": "code",
   "execution_count": 16,
   "id": "0daab164",
   "metadata": {},
   "outputs": [
    {
     "data": {
      "image/png": "[encoded data removed]",
      "text/plain": [
       "<Figure size 1224x1080 with 5 Axes>"
      ]
     },
     "metadata": {
      "needs_background": "light"
     },
     "output_type": "display_data"
    }
   ],
   "source": [
    "plt.figure(figsize = (17, 15))\n",
    "colors = ['#14b068','#14aab0','#145cb0','#1a14b0','#6814b0','#b014aa']\n",
    "plt.suptitle('Distribution of the numerical variables (continuous)',\n",
    "            fontsize=16, y=0.91)\n",
    "\n",
    "for i, col in enumerate(numericals.columns, 1):\n",
    "    plt.subplot(3, 3, i)\n",
    "    sns.histplot(x=col, data=numericals, color=colors[i], kde=True)"
   ]
  },
  {
   "cell_type": "markdown",
   "id": "8655ba2b",
   "metadata": {},
   "source": [
    "It looks like there are no normally distributed features, but that perception can change after removing outliers, for example."
   ]
  },
  {
   "cell_type": "markdown",
   "id": "efe855ce",
   "metadata": {},
   "source": [
    "## Activities\n",
    "\n",
    "### Part 6\n",
    "\n",
    "- [ ] X-y split.\n",
    "- [ ] Normalize (numerical).\n",
    "- [ ] One Hot/Label Encoding (categorical)."
   ]
  },
  {
   "cell_type": "raw",
   "id": "6c1016bb",
   "metadata": {},
   "source": [
    "categoricals_encoded = pd.get_dummies(categoricals, drop_first=True)\n",
    "categoricals_encoded"
   ]
  },
  {
   "cell_type": "raw",
   "id": "6737e033",
   "metadata": {},
   "source": [
    "all_categoricals = pd.concat([categoricals_encoded, categoricals_ordinal], axis=1)\n",
    "all_categoricals"
   ]
  },
  {
   "cell_type": "raw",
   "id": "166801e7",
   "metadata": {},
   "source": []
  },
  {
   "cell_type": "raw",
   "id": "1b2e6d99",
   "metadata": {},
   "source": [
    "X = pd.concat([all_categoricals, numericals.drop(columns=['Total Claim Amount'])], axis=1)\n",
    "y = numericals['Total Claim Amount']"
   ]
  },
  {
   "cell_type": "raw",
   "id": "64efd1d3",
   "metadata": {},
   "source": [
    "X"
   ]
  },
  {
   "cell_type": "raw",
   "id": "10443678",
   "metadata": {},
   "source": [
    "X_train, X_test, y_train, y_test = train_test_split(X, y, test_size=.20)"
   ]
  },
  {
   "cell_type": "raw",
   "id": "9b9b26c9",
   "metadata": {},
   "source": [
    "#Using StandardScaler()\n",
    "std_scaler = StandardScaler()\n",
    "std_scaler.fit(X_train)\n",
    "X_train_scaled = std_scaler.transform(X_train)\n",
    "X_test_scaled = std_scaler.transform(X_test)"
   ]
  },
  {
   "cell_type": "raw",
   "id": "d7417364",
   "metadata": {},
   "source": [
    "# Using MinMaxScaler()\n",
    "min_max_scl = MinMaxScaler()\n",
    "min_max_scl.fit(X_train)\n",
    "X_train_minmax = min_max_scl.transform(X_train)\n",
    "X_test_minmax = min_max_scl.transform(X_test)"
   ]
  },
  {
   "cell_type": "markdown",
   "id": "d2a34777",
   "metadata": {},
   "source": [
    "WEEK 7\n",
    "\n",
    "Instructions\n",
    "* In this lab, we will model our data. Import sklearn train_test_split and separate the data.\n",
    "* Try a simple linear regression with all the data to see whether we are getting good results.\n",
    "* Great! Now define a function that takes a list of models and train (and tests) them so we can try a lot of them without repeating code.\n",
    "* Use the function to check LinearRegressor,Lasso,Ridge and KNeighborsRegressor.\n",
    "* Use feature selection techniques to select subset of features to train the model with(if necessary).\n",
    "* Check and discuss the results."
   ]
  },
  {
   "cell_type": "raw",
   "id": "263aea60",
   "metadata": {},
   "source": [
    "models = {\n",
    "    'Linear regression': LinearRegression(),\n",
    "    'Lasso': Lasso(alpha=0.1),\n",
    "    'Ridge': Ridge(alpha=1.0),\n",
    "    'KNN-Regression': KNeighborsRegressor(n_neighbors=5)\n",
    "}"
   ]
  },
  {
   "cell_type": "raw",
   "id": "d3d1910b",
   "metadata": {},
   "source": [
    "def apply_model(models):\n",
    "    \n",
    "    r2_scores = dict()\n",
    "    \n",
    "    for model_name, model in models.items():\n",
    "        model.fit(X_train_scaled, y_train)\n",
    "        y_hat = model.predict(X_test_scaled)\n",
    "        r2_scores[model_name] = r2_score(y_test, y_hat)\n",
    "        \n",
    "    return r2_scores"
   ]
  },
  {
   "cell_type": "raw",
   "id": "647e77ba",
   "metadata": {},
   "source": [
    "def apply_model2(models):\n",
    "    \n",
    "    r2_scores = dict()\n",
    "    \n",
    "    for model_name, model in models.items():\n",
    "        model.fit(X_train_minmax, y_train)\n",
    "        y_hat = model.predict(X_test_minmax)\n",
    "        r2_scores[model_name] = r2_score(y_test, y_hat)\n",
    "        \n",
    "    return r2_scores"
   ]
  },
  {
   "cell_type": "raw",
   "id": "c42625b8",
   "metadata": {},
   "source": [
    "apply_model(models)"
   ]
  },
  {
   "cell_type": "raw",
   "id": "47269b89",
   "metadata": {},
   "source": [
    "apply_model2(models)"
   ]
  },
  {
   "cell_type": "raw",
   "id": "01a8429c",
   "metadata": {},
   "source": [
    "selector = RFE(LinearRegression(), n_features_to_select=6, step=1)\n",
    "selector.fit(X_train_scaled, y_train)\n",
    "        \n",
    "columns = X.columns[selector.support_]\n",
    "columns"
   ]
  },
  {
   "cell_type": "raw",
   "id": "624ca13e",
   "metadata": {},
   "source": [
    "selector = RFE(LinearRegression(), n_features_to_select=6, step=1)\n",
    "selector.fit(X_train_minmax, y_train)\n",
    "        \n",
    "columns = X.columns[selector.support_]\n",
    "columns"
   ]
  },
  {
   "cell_type": "raw",
   "id": "6924cc02",
   "metadata": {
    "scrolled": false
   },
   "source": [
    "selector = RFE(LinearRegression(), n_features_to_select=6, step=1)\n",
    "selector.fit(X_train_scaled, y_train)\n",
    "        \n",
    "columns = X.columns[selector.support_]\n",
    "columns"
   ]
  }
 ],
 "metadata": {
  "kernelspec": {
   "display_name": "Python 3 (ipykernel)",
   "language": "python",
   "name": "python3"
  },
  "language_info": {
   "codemirror_mode": {
    "name": "ipython",
    "version": 3
   },
   "file_extension": ".py",
   "mimetype": "text/x-python",
   "name": "python",
   "nbconvert_exporter": "python",
   "pygments_lexer": "ipython3",
   "version": "3.7.11"
  },
  "toc": {
   "base_numbering": 1,
   "nav_menu": {},
   "number_sections": true,
   "sideBar": true,
   "skip_h1_title": false,
   "title_cell": "Table of Contents",
   "title_sidebar": "Contents",
   "toc_cell": false,
   "toc_position": {},
   "toc_section_display": true,
   "toc_window_display": true
  },
  "toc-showcode": false,
  "toc-showmarkdowntxt": true
 },
 "nbformat": 4,
 "nbformat_minor": 5
}
