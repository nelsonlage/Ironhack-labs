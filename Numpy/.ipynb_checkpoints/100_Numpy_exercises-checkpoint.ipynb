{
 "cells": [
  {
   "cell_type": "markdown",
   "id": "bf79c78b",
   "metadata": {},
   "source": [
    "# 100 numpy exercises\n",
    "\n",
    "This is a collection of exercises that have been collected in the numpy mailing list, on stack overflow\n",
    "and in the numpy documentation. The goal of this collection is to offer a quick reference for both old\n",
    "and new users but also to provide a set of exercises for those who teach.\n",
    "\n",
    "\n",
    "If you find an error or think you've a better way to solve some of them, feel\n",
    "free to open an issue at <https://github.com/rougier/numpy-100>."
   ]
  },
  {
   "cell_type": "markdown",
   "id": "017db353",
   "metadata": {},
   "source": [
    "**1. Import the numpy package under the name `np` (★☆☆)**"
   ]
  },
  {
   "cell_type": "code",
   "execution_count": 1,
   "id": "68182a76",
   "metadata": {},
   "outputs": [],
   "source": [
    "import numpy as np"
   ]
  },
  {
   "cell_type": "markdown",
   "id": "46950f4f",
   "metadata": {},
   "source": [
    "**2. Print the numpy version and the configuration (★☆☆)**"
   ]
  },
  {
   "cell_type": "code",
   "execution_count": 2,
   "id": "2a9f5838",
   "metadata": {},
   "outputs": [
    {
     "name": "stdout",
     "output_type": "stream",
     "text": [
      "numpy version: 1.21.5\n",
      "\n",
      "blas_mkl_info:\n",
      "    libraries = ['mkl_rt']\n",
      "    library_dirs = ['C:/Users/NelsonLage/anaconda3\\\\Library\\\\lib']\n",
      "    define_macros = [('SCIPY_MKL_H', None), ('HAVE_CBLAS', None)]\n",
      "    include_dirs = ['C:/Users/NelsonLage/anaconda3\\\\Library\\\\include']\n",
      "blas_opt_info:\n",
      "    libraries = ['mkl_rt']\n",
      "    library_dirs = ['C:/Users/NelsonLage/anaconda3\\\\Library\\\\lib']\n",
      "    define_macros = [('SCIPY_MKL_H', None), ('HAVE_CBLAS', None)]\n",
      "    include_dirs = ['C:/Users/NelsonLage/anaconda3\\\\Library\\\\include']\n",
      "lapack_mkl_info:\n",
      "    libraries = ['mkl_rt']\n",
      "    library_dirs = ['C:/Users/NelsonLage/anaconda3\\\\Library\\\\lib']\n",
      "    define_macros = [('SCIPY_MKL_H', None), ('HAVE_CBLAS', None)]\n",
      "    include_dirs = ['C:/Users/NelsonLage/anaconda3\\\\Library\\\\include']\n",
      "lapack_opt_info:\n",
      "    libraries = ['mkl_rt']\n",
      "    library_dirs = ['C:/Users/NelsonLage/anaconda3\\\\Library\\\\lib']\n",
      "    define_macros = [('SCIPY_MKL_H', None), ('HAVE_CBLAS', None)]\n",
      "    include_dirs = ['C:/Users/NelsonLage/anaconda3\\\\Library\\\\include']\n",
      "Supported SIMD extensions in this NumPy install:\n",
      "    baseline = SSE,SSE2,SSE3\n",
      "    found = SSSE3,SSE41,POPCNT,SSE42,AVX,F16C,FMA3,AVX2\n",
      "    not found = AVX512F,AVX512CD,AVX512_SKX,AVX512_CLX,AVX512_CNL\n",
      "None\n"
     ]
    }
   ],
   "source": [
    "print(f'numpy version: {np.__version__}\\n')\n",
    "print(np.show_config())"
   ]
  },
  {
   "cell_type": "markdown",
   "id": "e3c20b3d",
   "metadata": {},
   "source": [
    "**3. Create a null vector of size 10 (★☆☆)**"
   ]
  },
  {
   "cell_type": "code",
   "execution_count": 3,
   "id": "8a758bcf",
   "metadata": {},
   "outputs": [
    {
     "data": {
      "text/plain": [
       "array([0., 0., 0., 0., 0., 0., 0., 0., 0., 0.])"
      ]
     },
     "execution_count": 3,
     "metadata": {},
     "output_type": "execute_result"
    }
   ],
   "source": [
    "array0 = np.zeros(10)\n",
    "array0"
   ]
  },
  {
   "cell_type": "markdown",
   "id": "b15a879f",
   "metadata": {},
   "source": [
    "**4. How to find the memory size of any array (★☆☆)**"
   ]
  },
  {
   "cell_type": "code",
   "execution_count": 4,
   "id": "1cc3cbc5",
   "metadata": {},
   "outputs": [
    {
     "data": {
      "text/plain": [
       "80"
      ]
     },
     "execution_count": 4,
     "metadata": {},
     "output_type": "execute_result"
    }
   ],
   "source": [
    "# array.size: how many items in an array\n",
    "# array.itemsize: memory size of an item in the array\n",
    "\n",
    "memory_size_array = array0.size * array0.itemsize\n",
    "memory_size_array"
   ]
  },
  {
   "cell_type": "markdown",
   "id": "0a708990",
   "metadata": {},
   "source": [
    "**5. How to get the documentation of the numpy add function from the command line? (★☆☆)**"
   ]
  },
  {
   "cell_type": "code",
   "execution_count": 5,
   "id": "477e01f4",
   "metadata": {},
   "outputs": [],
   "source": [
    "# np.info('add')"
   ]
  },
  {
   "cell_type": "markdown",
   "id": "0b16cd77",
   "metadata": {},
   "source": [
    "**6. Create a null vector of size 10 but the fifth value which is 1 (★☆☆)**"
   ]
  },
  {
   "cell_type": "code",
   "execution_count": 6,
   "id": "4d9b5975",
   "metadata": {},
   "outputs": [
    {
     "data": {
      "text/plain": [
       "array([0., 0., 0., 0., 1., 0., 0., 0., 0., 0.])"
      ]
     },
     "execution_count": 6,
     "metadata": {},
     "output_type": "execute_result"
    }
   ],
   "source": [
    "array0[4] = 1\n",
    "array0"
   ]
  },
  {
   "cell_type": "markdown",
   "id": "782d4c77",
   "metadata": {},
   "source": [
    "**7. Create a vector with values ranging from 10 to 49 (★☆☆)**"
   ]
  },
  {
   "cell_type": "code",
   "execution_count": 7,
   "id": "5dbe1a08",
   "metadata": {},
   "outputs": [
    {
     "data": {
      "text/plain": [
       "array([10, 11, 12, 13, 14, 15, 16, 17, 18, 19, 20, 21, 22, 23, 24, 25, 26,\n",
       "       27, 28, 29, 30, 31, 32, 33, 34, 35, 36, 37, 38, 39, 40, 41, 42, 43,\n",
       "       44, 45, 46, 47, 48, 49])"
      ]
     },
     "execution_count": 7,
     "metadata": {},
     "output_type": "execute_result"
    }
   ],
   "source": [
    "array = np.arange(10,50)\n",
    "array"
   ]
  },
  {
   "cell_type": "markdown",
   "id": "48d48f01",
   "metadata": {},
   "source": [
    "**8. Reverse a vector (first element becomes last) (★☆☆)**"
   ]
  },
  {
   "cell_type": "code",
   "execution_count": 8,
   "id": "3ed233e7",
   "metadata": {},
   "outputs": [
    {
     "data": {
      "text/plain": [
       "array([49, 48, 47, 46, 45, 44, 43, 42, 41, 40, 39, 38, 37, 36, 35, 34, 33,\n",
       "       32, 31, 30, 29, 28, 27, 26, 25, 24, 23, 22, 21, 20, 19, 18, 17, 16,\n",
       "       15, 14, 13, 12, 11, 10])"
      ]
     },
     "execution_count": 8,
     "metadata": {},
     "output_type": "execute_result"
    }
   ],
   "source": [
    "array[::-1]"
   ]
  },
  {
   "cell_type": "markdown",
   "id": "4fa39382",
   "metadata": {},
   "source": [
    "**9. Create a 3x3 matrix with values ranging from 0 to 8 (★☆☆)**"
   ]
  },
  {
   "cell_type": "code",
   "execution_count": 9,
   "id": "c97757ec",
   "metadata": {},
   "outputs": [
    {
     "data": {
      "text/plain": [
       "array([[0, 1, 2],\n",
       "       [3, 4, 5],\n",
       "       [6, 7, 8]])"
      ]
     },
     "execution_count": 9,
     "metadata": {},
     "output_type": "execute_result"
    }
   ],
   "source": [
    "arr_3 = np.arange(0,9).reshape(3, 3)\n",
    "arr_3"
   ]
  },
  {
   "cell_type": "markdown",
   "id": "da64551a",
   "metadata": {},
   "source": [
    "**10. Find indices of non-zero elements from [1,2,0,0,4,0] (★☆☆)**"
   ]
  },
  {
   "cell_type": "code",
   "execution_count": 10,
   "id": "327f7adb",
   "metadata": {},
   "outputs": [
    {
     "data": {
      "text/plain": [
       "(array([0, 1, 4], dtype=int64),)"
      ]
     },
     "execution_count": 10,
     "metadata": {},
     "output_type": "execute_result"
    }
   ],
   "source": [
    "# np.nonzero returns a tuple with a single element.\n",
    "# To access the list of indices: np.nonzero(array)[0]\n",
    "\n",
    "array = [1,2,0,0,4,0]\n",
    "np.nonzero(array)"
   ]
  },
  {
   "cell_type": "markdown",
   "id": "f89d9c9e",
   "metadata": {},
   "source": [
    "**11. Create a 3x3 identity matrix (★☆☆)**"
   ]
  },
  {
   "cell_type": "code",
   "execution_count": 11,
   "id": "ba625832",
   "metadata": {},
   "outputs": [
    {
     "data": {
      "text/plain": [
       "array([[1., 0., 0.],\n",
       "       [0., 1., 0.],\n",
       "       [0., 0., 1.]])"
      ]
     },
     "execution_count": 11,
     "metadata": {},
     "output_type": "execute_result"
    }
   ],
   "source": [
    "np.eye(3,3)"
   ]
  },
  {
   "cell_type": "markdown",
   "id": "7e44c6fa",
   "metadata": {},
   "source": [
    "**12. Create a 3x3x3 array with random values (★☆☆)**"
   ]
  },
  {
   "cell_type": "code",
   "execution_count": 12,
   "id": "1cb3dddf",
   "metadata": {},
   "outputs": [
    {
     "data": {
      "text/plain": [
       "array([[[0.5488135 , 0.71518937, 0.60276338],\n",
       "        [0.54488318, 0.4236548 , 0.64589411],\n",
       "        [0.43758721, 0.891773  , 0.96366276]],\n",
       "\n",
       "       [[0.38344152, 0.79172504, 0.52889492],\n",
       "        [0.56804456, 0.92559664, 0.07103606],\n",
       "        [0.0871293 , 0.0202184 , 0.83261985]],\n",
       "\n",
       "       [[0.77815675, 0.87001215, 0.97861834],\n",
       "        [0.79915856, 0.46147936, 0.78052918],\n",
       "        [0.11827443, 0.63992102, 0.14335329]]])"
      ]
     },
     "execution_count": 12,
     "metadata": {},
     "output_type": "execute_result"
    }
   ],
   "source": [
    "np.random.seed(0)\n",
    "\n",
    "np.random.random(size=(3,3,3))"
   ]
  },
  {
   "cell_type": "markdown",
   "id": "13c5928c",
   "metadata": {},
   "source": [
    "**13. Create a 10x10 array with random values and find the minimum and maximum values (★☆☆)**"
   ]
  },
  {
   "cell_type": "code",
   "execution_count": 13,
   "id": "911c9b93",
   "metadata": {},
   "outputs": [
    {
     "name": "stdout",
     "output_type": "stream",
     "text": [
      "[[0.5488135  0.71518937 0.60276338 0.54488318 0.4236548  0.64589411\n",
      "  0.43758721 0.891773   0.96366276 0.38344152]\n",
      " [0.79172504 0.52889492 0.56804456 0.92559664 0.07103606 0.0871293\n",
      "  0.0202184  0.83261985 0.77815675 0.87001215]\n",
      " [0.97861834 0.79915856 0.46147936 0.78052918 0.11827443 0.63992102\n",
      "  0.14335329 0.94466892 0.52184832 0.41466194]\n",
      " [0.26455561 0.77423369 0.45615033 0.56843395 0.0187898  0.6176355\n",
      "  0.61209572 0.616934   0.94374808 0.6818203 ]\n",
      " [0.3595079  0.43703195 0.6976312  0.06022547 0.66676672 0.67063787\n",
      "  0.21038256 0.1289263  0.31542835 0.36371077]\n",
      " [0.57019677 0.43860151 0.98837384 0.10204481 0.20887676 0.16130952\n",
      "  0.65310833 0.2532916  0.46631077 0.24442559]\n",
      " [0.15896958 0.11037514 0.65632959 0.13818295 0.19658236 0.36872517\n",
      "  0.82099323 0.09710128 0.83794491 0.09609841]\n",
      " [0.97645947 0.4686512  0.97676109 0.60484552 0.73926358 0.03918779\n",
      "  0.28280696 0.12019656 0.2961402  0.11872772]\n",
      " [0.31798318 0.41426299 0.0641475  0.69247212 0.56660145 0.26538949\n",
      "  0.52324805 0.09394051 0.5759465  0.9292962 ]\n",
      " [0.31856895 0.66741038 0.13179786 0.7163272  0.28940609 0.18319136\n",
      "  0.58651293 0.02010755 0.82894003 0.00469548]]\n",
      "\n",
      "Min value: 0.004695476192547066\n",
      "Max value: 0.9883738380592262\n"
     ]
    }
   ],
   "source": [
    "np.random.seed(0)\n",
    "\n",
    "array10 = np.random.random(size=(10,10))\n",
    "array10_min = np.min(array10)\n",
    "array10_max = np.max(array10)\n",
    "\n",
    "print(array10)\n",
    "print(f'\\nMin value: {array10_min}')\n",
    "print(f'Max value: {array10_max}')"
   ]
  },
  {
   "cell_type": "markdown",
   "id": "3fa2e461",
   "metadata": {},
   "source": [
    "**14. Create a random vector of size 30 and find the mean value (★☆☆)**"
   ]
  },
  {
   "cell_type": "code",
   "execution_count": 14,
   "id": "323eb38a",
   "metadata": {},
   "outputs": [
    {
     "name": "stdout",
     "output_type": "stream",
     "text": [
      "[0.5488135  0.71518937 0.60276338 0.54488318 0.4236548  0.64589411\n",
      " 0.43758721 0.891773   0.96366276 0.38344152 0.79172504 0.52889492\n",
      " 0.56804456 0.92559664 0.07103606 0.0871293  0.0202184  0.83261985\n",
      " 0.77815675 0.87001215 0.97861834 0.79915856 0.46147936 0.78052918\n",
      " 0.11827443 0.63992102 0.14335329 0.94466892 0.52184832 0.41466194]\n",
      "\n",
      "Mean: 0.5811203282945502\n"
     ]
    }
   ],
   "source": [
    "np.random.seed(0)\n",
    "\n",
    "array30 = np.random.random(size=(30))\n",
    "array_mean = np.mean(array30)\n",
    "\n",
    "print(f'{array30}\\n')\n",
    "print(f'Mean: {array_mean}')"
   ]
  },
  {
   "cell_type": "markdown",
   "id": "73f7a549",
   "metadata": {},
   "source": [
    "**15. Create a 2d array with 1 on the border and 0 inside (★☆☆)**"
   ]
  },
  {
   "cell_type": "code",
   "execution_count": 15,
   "id": "e3a6807d",
   "metadata": {},
   "outputs": [
    {
     "data": {
      "text/plain": [
       "array([[1., 1., 1.],\n",
       "       [1., 0., 1.],\n",
       "       [1., 1., 1.]])"
      ]
     },
     "execution_count": 15,
     "metadata": {},
     "output_type": "execute_result"
    }
   ],
   "source": [
    "array = np.ones((3,3))\n",
    "array[1:-1, 1:-1] = 0\n",
    "array"
   ]
  },
  {
   "cell_type": "markdown",
   "id": "6d0c506f",
   "metadata": {},
   "source": [
    "**16. How to add a border (filled with 0's) around an existing array? (★☆☆)**"
   ]
  },
  {
   "cell_type": "code",
   "execution_count": 16,
   "id": "32ffee7b",
   "metadata": {},
   "outputs": [
    {
     "data": {
      "text/plain": [
       "array([[0., 0., 0., 0., 0.],\n",
       "       [0., 1., 1., 1., 0.],\n",
       "       [0., 1., 0., 1., 0.],\n",
       "       [0., 1., 1., 1., 0.],\n",
       "       [0., 0., 0., 0., 0.]])"
      ]
     },
     "execution_count": 16,
     "metadata": {},
     "output_type": "execute_result"
    }
   ],
   "source": [
    "np.pad(array, 1)"
   ]
  },
  {
   "cell_type": "markdown",
   "id": "d6ad1a9f",
   "metadata": {},
   "source": [
    "**17. What is the result of the following expression? (★☆☆)**\n",
    "```python\n",
    "0 * np.nan\n",
    "np.nan == np.nan\n",
    "np.inf > np.nan\n",
    "np.nan - np.nan\n",
    "np.nan in set([np.nan])\n",
    "0.3 == 3 * 0.1\n",
    "```"
   ]
  },
  {
   "cell_type": "code",
   "execution_count": 17,
   "id": "ee7ff0f3",
   "metadata": {},
   "outputs": [
    {
     "name": "stdout",
     "output_type": "stream",
     "text": [
      "nan\n",
      "nan\n",
      "False\n",
      "False\n",
      "False\n",
      "True\n"
     ]
    }
   ],
   "source": [
    "# Arithmetic operations propagate the nan values\n",
    "print(0 * np.nan)\n",
    "print(np.nan - np.nan)\n",
    "\n",
    "# np.nan is unordered with respect to any other number (itself included).\n",
    "# The following are always False\n",
    "print(np.nan == np.nan)\n",
    "print(np.inf > np.nan)\n",
    "\n",
    "# Rounding involved in the right hand side operation makes it False\n",
    "print(0.3 == 3 * 0.1)\n",
    "\n",
    "print(np.nan in set([np.nan]))"
   ]
  },
  {
   "cell_type": "markdown",
   "id": "e3a7ba7f",
   "metadata": {},
   "source": [
    "**18. Create a 5x5 matrix with values 1,2,3,4 just below the diagonal (★☆☆)**"
   ]
  },
  {
   "cell_type": "code",
   "execution_count": 18,
   "id": "01d8e257",
   "metadata": {},
   "outputs": [
    {
     "data": {
      "text/plain": [
       "array([[0, 0, 0, 0, 0],\n",
       "       [1, 0, 0, 0, 0],\n",
       "       [0, 2, 0, 0, 0],\n",
       "       [0, 0, 3, 0, 0],\n",
       "       [0, 0, 0, 4, 0]])"
      ]
     },
     "execution_count": 18,
     "metadata": {},
     "output_type": "execute_result"
    }
   ],
   "source": [
    "np.diag(np.arange(1,5), k=-1)"
   ]
  },
  {
   "cell_type": "markdown",
   "id": "6d17ab5d",
   "metadata": {},
   "source": [
    "**19. Create a 8x8 matrix and fill it with a checkerboard pattern (★☆☆)**"
   ]
  },
  {
   "cell_type": "code",
   "execution_count": 19,
   "id": "841373cd",
   "metadata": {},
   "outputs": [
    {
     "name": "stdout",
     "output_type": "stream",
     "text": [
      "[[0 1 0 1 0 1 0 1]\n",
      " [1 0 1 0 1 0 1 0]\n",
      " [0 1 0 1 0 1 0 1]\n",
      " [1 0 1 0 1 0 1 0]\n",
      " [0 1 0 1 0 1 0 1]\n",
      " [1 0 1 0 1 0 1 0]\n",
      " [0 1 0 1 0 1 0 1]\n",
      " [1 0 1 0 1 0 1 0]]\n"
     ]
    }
   ],
   "source": [
    "Z = np.zeros((8,8), dtype=int)\n",
    "Z[1::2,::2] = 1\n",
    "Z[::2,1::2] = 1\n",
    "print(Z)"
   ]
  },
  {
   "cell_type": "markdown",
   "id": "8837119b",
   "metadata": {},
   "source": [
    "**20. Consider a (6,7,8) shape array, what is the index (x,y,z) of the 100th element? (★☆☆)**"
   ]
  },
  {
   "cell_type": "code",
   "execution_count": 20,
   "id": "2c0d16f1",
   "metadata": {},
   "outputs": [
    {
     "data": {
      "text/plain": [
       "(1, 5, 3)"
      ]
     },
     "execution_count": 20,
     "metadata": {},
     "output_type": "execute_result"
    }
   ],
   "source": [
    "# numpy.unravel_index(indices, shape, order='C')\n",
    "# indices of the desired elements in a flattened array\n",
    "  # the 100th element has index 99!\n",
    "# order: style of the indices - 'C' for row-major, 'F' for column-major\n",
    "\n",
    "np.unravel_index(99, (6, 7, 8))"
   ]
  },
  {
   "cell_type": "code",
   "execution_count": 21,
   "id": "5ed5ed34",
   "metadata": {},
   "outputs": [],
   "source": [
    "# cheking the answer\n",
    "# np.arange(336).reshape(6,7,8)"
   ]
  },
  {
   "cell_type": "markdown",
   "id": "ec788c9f",
   "metadata": {},
   "source": [
    "**21. Create a checkerboard 8x8 matrix using the tile function (★☆☆)**"
   ]
  },
  {
   "cell_type": "code",
   "execution_count": 22,
   "id": "0a4f919f",
   "metadata": {},
   "outputs": [
    {
     "name": "stdout",
     "output_type": "stream",
     "text": [
      "[[1 0 1 0 1 0 1 0]\n",
      " [0 1 0 1 0 1 0 1]\n",
      " [1 0 1 0 1 0 1 0]\n",
      " [0 1 0 1 0 1 0 1]\n",
      " [1 0 1 0 1 0 1 0]\n",
      " [0 1 0 1 0 1 0 1]\n",
      " [1 0 1 0 1 0 1 0]\n",
      " [0 1 0 1 0 1 0 1]]\n"
     ]
    }
   ],
   "source": [
    "array = np.array([[1, 0], [0, 1]])\n",
    "\n",
    "Z = np.tile(array, (4, 4))\n",
    "print(Z)"
   ]
  },
  {
   "cell_type": "markdown",
   "id": "391791e0",
   "metadata": {},
   "source": [
    "**22. Normalize a 5x5 random matrix (★☆☆)**"
   ]
  },
  {
   "cell_type": "code",
   "execution_count": 23,
   "id": "f6533d39",
   "metadata": {},
   "outputs": [
    {
     "data": {
      "text/plain": [
       "array([[0.5488135 , 0.71518937, 0.60276338, 0.54488318, 0.4236548 ],\n",
       "       [0.64589411, 0.43758721, 0.891773  , 0.96366276, 0.38344152],\n",
       "       [0.79172504, 0.52889492, 0.56804456, 0.92559664, 0.07103606],\n",
       "       [0.0871293 , 0.0202184 , 0.83261985, 0.77815675, 0.87001215],\n",
       "       [0.97861834, 0.79915856, 0.46147936, 0.78052918, 0.11827443]])"
      ]
     },
     "execution_count": 23,
     "metadata": {},
     "output_type": "execute_result"
    }
   ],
   "source": [
    "np.random.seed(0)\n",
    "array = np.random.random(size=(5,5))\n",
    "array"
   ]
  },
  {
   "cell_type": "code",
   "execution_count": 24,
   "id": "7ba5522a",
   "metadata": {},
   "outputs": [
    {
     "data": {
      "text/plain": [
       "array([[-0.14854421,  0.44055117,  0.04247881, -0.1624605 , -0.59169993],\n",
       "       [ 0.19519398, -0.54236874,  1.06578972,  1.32033341, -0.73408512],\n",
       "       [ 0.71154487, -0.21907095, -0.08045184,  1.18555078, -1.84023484],\n",
       "       [-1.78325269, -2.02016749,  0.85634317,  0.66350295,  0.98873998],\n",
       "       [ 1.37328739,  0.73786513, -0.4577726 ,  0.67190312, -1.67297558]])"
      ]
     },
     "execution_count": 24,
     "metadata": {},
     "output_type": "execute_result"
    }
   ],
   "source": [
    "normalized_array = (array - np.mean(array)) / np.std(array)\n",
    "normalized_array"
   ]
  },
  {
   "cell_type": "markdown",
   "id": "1e74d39e",
   "metadata": {},
   "source": [
    "**23. Create a custom dtype that describes a color as four unsigned bytes (RGBA) (★☆☆)**"
   ]
  },
  {
   "cell_type": "code",
   "execution_count": 25,
   "id": "3f639d33",
   "metadata": {},
   "outputs": [],
   "source": [
    "# no idea"
   ]
  },
  {
   "cell_type": "markdown",
   "id": "78250c14",
   "metadata": {},
   "source": [
    "**24. Multiply a 5x3 matrix by a 3x2 matrix (real matrix product) (★☆☆)**"
   ]
  },
  {
   "cell_type": "code",
   "execution_count": 26,
   "id": "9fe729cb",
   "metadata": {},
   "outputs": [
    {
     "name": "stdout",
     "output_type": "stream",
     "text": [
      "[[0.5488135  0.71518937 0.60276338]\n",
      " [0.54488318 0.4236548  0.64589411]\n",
      " [0.43758721 0.891773   0.96366276]\n",
      " [0.38344152 0.79172504 0.52889492]\n",
      " [0.56804456 0.92559664 0.07103606]]\n",
      "\n",
      "[[0.0871293  0.0202184  0.83261985]\n",
      " [0.77815675 0.87001215 0.97861834]\n",
      " [0.79915856 0.46147936 0.78052918]]\n"
     ]
    }
   ],
   "source": [
    "np.random.seed(0)\n",
    "\n",
    "arr_1 = np.random.random(size=(5,3))\n",
    "arr_2 = np.random.random(size=(3,3))\n",
    "\n",
    "print(f'{arr_1}\\n')\n",
    "print(f'{arr_2}')"
   ]
  },
  {
   "cell_type": "code",
   "execution_count": 27,
   "id": "d73604fc",
   "metadata": {},
   "outputs": [
    {
     "data": {
      "text/plain": [
       "array([[1.08605068, 0.91148242, 1.62732485],\n",
       "       [0.89331694, 0.67766829, 1.37241611],\n",
       "       [1.5021852 , 1.22941113, 1.98921611],\n",
       "       [1.07216608, 0.94063706, 1.50687558],\n",
       "       [0.82652167, 0.84954695, 1.43421674]])"
      ]
     },
     "execution_count": 27,
     "metadata": {},
     "output_type": "execute_result"
    }
   ],
   "source": [
    "arr_1.dot(arr_2)"
   ]
  },
  {
   "cell_type": "markdown",
   "id": "51898680",
   "metadata": {},
   "source": [
    "**25. Given a 1D array, negate all elements which are between 3 and 8, in place. (★☆☆)**"
   ]
  },
  {
   "cell_type": "code",
   "execution_count": 28,
   "id": "51c90f2d",
   "metadata": {},
   "outputs": [
    {
     "data": {
      "text/plain": [
       "array([0, 1, 2, 9])"
      ]
     },
     "execution_count": 28,
     "metadata": {},
     "output_type": "execute_result"
    }
   ],
   "source": [
    "a = np.arange(10)\n",
    "a[(a < 3) | (a > 8)]"
   ]
  },
  {
   "cell_type": "markdown",
   "id": "2fabc7d3",
   "metadata": {},
   "source": [
    "## Optional"
   ]
  },
  {
   "cell_type": "markdown",
   "id": "89e78048",
   "metadata": {},
   "source": [
    "**26. What is the output of the following script? (★☆☆)**\n",
    "```python\n",
    "# Author: Jake VanderPlas\n",
    "\n",
    "print(sum(range(5),-1))\n",
    "from numpy import *\n",
    "print(sum(range(5),-1))\n",
    "```"
   ]
  },
  {
   "cell_type": "markdown",
   "id": "ffc045cb",
   "metadata": {},
   "source": [
    "When you import the functions of a library instead of the library itself, they can overwrite built-in fuctions with the same name. <br>\n",
    "In the script, `np.sum` takes the place of the built-in function `sum` and they behave differently."
   ]
  },
  {
   "cell_type": "code",
   "execution_count": 29,
   "id": "62f77426",
   "metadata": {},
   "outputs": [
    {
     "data": {
      "text/plain": [
       "9"
      ]
     },
     "execution_count": 29,
     "metadata": {},
     "output_type": "execute_result"
    }
   ],
   "source": [
    "# Here -1 is just another element\n",
    "sum(range(5), -1)"
   ]
  },
  {
   "cell_type": "code",
   "execution_count": 30,
   "id": "b62e9d1c",
   "metadata": {},
   "outputs": [
    {
     "data": {
      "text/plain": [
       "10"
      ]
     },
     "execution_count": 30,
     "metadata": {},
     "output_type": "execute_result"
    }
   ],
   "source": [
    "# Here -1 is interpreted as the axis parameter. If negative, counts from the last to the first axis.\n",
    "np.sum(range(5), -1)"
   ]
  },
  {
   "cell_type": "markdown",
   "id": "ebd10810",
   "metadata": {},
   "source": [
    "**27. Consider an integer vector Z, which of these expressions are legal? (★☆☆)**\n",
    "```python\n",
    "Z**Z\n",
    "2 << Z >> 2\n",
    "Z <- Z\n",
    "1j*Z\n",
    "Z/1/1\n",
    "Z<Z>Z\n",
    "```"
   ]
  },
  {
   "cell_type": "code",
   "execution_count": 31,
   "id": "6ada209f",
   "metadata": {},
   "outputs": [
    {
     "name": "stdout",
     "output_type": "stream",
     "text": [
      "4\n",
      "2\n",
      "False\n",
      "2j\n",
      "2.0\n",
      "False\n"
     ]
    }
   ],
   "source": [
    "Z = np.array(2)\n",
    "\n",
    "print(Z**Z)\n",
    "print(2 << Z >> 2)\n",
    "print(Z <- Z)\n",
    "print(1j*Z)\n",
    "print(Z/1/1)\n",
    "print(Z<Z>Z)"
   ]
  },
  {
   "cell_type": "markdown",
   "id": "c0e940f8",
   "metadata": {},
   "source": [
    "**28. What are the result of the following expressions? (★☆☆)**\n",
    "```python\n",
    "np.array(0) / np.array(0)\n",
    "np.array(0) // np.array(0)\n",
    "np.array([np.nan]).astype(int).astype(float)\n",
    "```"
   ]
  },
  {
   "cell_type": "markdown",
   "id": "22713c3f",
   "metadata": {},
   "source": [
    "**29. How to round away from zero a float array ? (★☆☆)**"
   ]
  },
  {
   "cell_type": "markdown",
   "id": "f1ae2c2d",
   "metadata": {},
   "source": [
    "**30. How to find common values between two arrays? (★☆☆)**"
   ]
  },
  {
   "cell_type": "markdown",
   "id": "34a7bdee",
   "metadata": {},
   "source": [
    "**31. How to ignore all numpy warnings (not recommended)? (★☆☆)**"
   ]
  },
  {
   "cell_type": "markdown",
   "id": "7a8022db",
   "metadata": {},
   "source": [
    "**32. Is the following expressions true? (★☆☆)**\n",
    "```python\n",
    "np.sqrt(-1) == np.emath.sqrt(-1)\n",
    "```"
   ]
  },
  {
   "cell_type": "markdown",
   "id": "25489393",
   "metadata": {},
   "source": [
    "**33. How to get the dates of yesterday, today and tomorrow? (★☆☆)**"
   ]
  },
  {
   "cell_type": "markdown",
   "id": "47e8b45d",
   "metadata": {},
   "source": [
    "**34. How to get all the dates corresponding to the month of July 2016? (★★☆)**"
   ]
  },
  {
   "cell_type": "markdown",
   "id": "d9c62a34",
   "metadata": {},
   "source": [
    "**35. How to compute ((A+B)*(-A/2)) in place (without copy)? (★★☆)**"
   ]
  },
  {
   "cell_type": "markdown",
   "id": "45866a16",
   "metadata": {},
   "source": [
    "**36. Extract the integer part of a random array of positive numbers using 4 different methods (★★☆)**"
   ]
  },
  {
   "cell_type": "markdown",
   "id": "33c53a9c",
   "metadata": {},
   "source": [
    "**37. Create a 5x5 matrix with row values ranging from 0 to 4 (★★☆)**"
   ]
  },
  {
   "cell_type": "markdown",
   "id": "d8649a54",
   "metadata": {},
   "source": [
    "**38. Consider a generator function that generates 10 integers and use it to build an array (★☆☆)**"
   ]
  },
  {
   "cell_type": "markdown",
   "id": "e3099666",
   "metadata": {},
   "source": [
    "**39. Create a vector of size 10 with values ranging from 0 to 1, both excluded (★★☆)**"
   ]
  },
  {
   "cell_type": "markdown",
   "id": "790ce211",
   "metadata": {},
   "source": [
    "**40. Create a random vector of size 10 and sort it (★★☆)**"
   ]
  },
  {
   "cell_type": "markdown",
   "id": "de1ec1b3",
   "metadata": {},
   "source": [
    "**41. How to sum a small array faster than np.sum? (★★☆)**"
   ]
  },
  {
   "cell_type": "markdown",
   "id": "ae3c35ad",
   "metadata": {},
   "source": [
    "**42. Consider two random array A and B, check if they are equal (★★☆)**"
   ]
  },
  {
   "cell_type": "markdown",
   "id": "97935a13",
   "metadata": {},
   "source": [
    "**43. Make an array immutable (read-only) (★★☆)**"
   ]
  },
  {
   "cell_type": "markdown",
   "id": "e1916649",
   "metadata": {},
   "source": [
    "**44. Consider a random 10x2 matrix representing cartesian coordinates, convert them to polar coordinates (★★☆)**"
   ]
  },
  {
   "cell_type": "markdown",
   "id": "f0b9defc",
   "metadata": {},
   "source": [
    "**45. Create random vector of size 10 and replace the maximum value by 0 (★★☆)**"
   ]
  },
  {
   "cell_type": "markdown",
   "id": "e2c95e8b",
   "metadata": {},
   "source": [
    "**46. Create a structured array with `x` and `y` coordinates covering the [0,1]x[0,1] area (★★☆)**"
   ]
  },
  {
   "cell_type": "markdown",
   "id": "526877b5",
   "metadata": {},
   "source": [
    "**47. Given two arrays, X and Y, construct the Cauchy matrix C (Cij =1/(xi - yj)) (★★☆)**"
   ]
  },
  {
   "cell_type": "markdown",
   "id": "5ce0fdc0",
   "metadata": {},
   "source": [
    "**48. Print the minimum and maximum representable value for each numpy scalar type (★★☆)**"
   ]
  },
  {
   "cell_type": "markdown",
   "id": "7c8d8eba",
   "metadata": {},
   "source": [
    "**49. How to print all the values of an array? (★★☆)**"
   ]
  },
  {
   "cell_type": "markdown",
   "id": "95f7856d",
   "metadata": {},
   "source": [
    "**50. How to find the closest value (to a given scalar) in a vector? (★★☆)**"
   ]
  },
  {
   "cell_type": "markdown",
   "id": "5fc221ad",
   "metadata": {},
   "source": [
    "**51. Create a structured array representing a position (x,y) and a color (r,g,b) (★★☆)**"
   ]
  },
  {
   "cell_type": "markdown",
   "id": "d95106d3",
   "metadata": {},
   "source": [
    "**52. Consider a random vector with shape (100,2) representing coordinates, find point by point distances (★★☆)**"
   ]
  },
  {
   "cell_type": "markdown",
   "id": "f07420f3",
   "metadata": {},
   "source": [
    "**53. How to convert a float (32 bits) array into an integer (32 bits) in place?**"
   ]
  },
  {
   "cell_type": "markdown",
   "id": "4f01342d",
   "metadata": {},
   "source": [
    "**54. How to read the following file? (★★☆)**\n",
    "```python\n",
    "1, 2, 3, 4, 5\n",
    "6,  ,  , 7, 8\n",
    " ,  , 9,10,11\n",
    "```"
   ]
  },
  {
   "cell_type": "markdown",
   "id": "640e1612",
   "metadata": {},
   "source": [
    "**55. What is the equivalent of enumerate for numpy arrays? (★★☆)**"
   ]
  },
  {
   "cell_type": "markdown",
   "id": "39e1675b",
   "metadata": {},
   "source": [
    "**56. Generate a generic 2D Gaussian-like array (★★☆)**"
   ]
  },
  {
   "cell_type": "markdown",
   "id": "6a1fc1c0",
   "metadata": {},
   "source": [
    "**57. How to randomly place p elements in a 2D array? (★★☆)**"
   ]
  },
  {
   "cell_type": "markdown",
   "id": "cc28254b",
   "metadata": {},
   "source": [
    "**58. Subtract the mean of each row of a matrix (★★☆)**"
   ]
  },
  {
   "cell_type": "markdown",
   "id": "9a2be04f",
   "metadata": {},
   "source": [
    "**59. How to sort an array by the nth column? (★★☆)**"
   ]
  },
  {
   "cell_type": "markdown",
   "id": "e9d34aaf",
   "metadata": {},
   "source": [
    "**60. How to tell if a given 2D array has null columns? (★★☆)**"
   ]
  },
  {
   "cell_type": "markdown",
   "id": "b7284bc9",
   "metadata": {},
   "source": [
    "**61. Find the nearest value from a given value in an array (★★☆)**"
   ]
  },
  {
   "cell_type": "markdown",
   "id": "e5bd6961",
   "metadata": {},
   "source": [
    "**62. Considering two arrays with shape (1,3) and (3,1), how to compute their sum using an iterator? (★★☆)**"
   ]
  },
  {
   "cell_type": "markdown",
   "id": "f7c34be0",
   "metadata": {},
   "source": [
    "**63. Create an array class that has a name attribute (★★☆)**"
   ]
  },
  {
   "cell_type": "markdown",
   "id": "2cb50917",
   "metadata": {},
   "source": [
    "**64. Consider a given vector, how to add 1 to each element indexed by a second vector (be careful with repeated indices)? (★★★)**"
   ]
  },
  {
   "cell_type": "markdown",
   "id": "72e5664d",
   "metadata": {},
   "source": [
    "**65. How to accumulate elements of a vector (X) to an array (F) based on an index list (I)? (★★★)**"
   ]
  },
  {
   "cell_type": "markdown",
   "id": "e3fc5950",
   "metadata": {},
   "source": [
    "**66. Considering a (w,h,3) image of (dtype=ubyte), compute the number of unique colors (★★☆)**"
   ]
  },
  {
   "cell_type": "markdown",
   "id": "7f52baca",
   "metadata": {},
   "source": [
    "**67. Considering a four dimensions array, how to get sum over the last two axis at once? (★★★)**"
   ]
  },
  {
   "cell_type": "markdown",
   "id": "fc6608c6",
   "metadata": {},
   "source": [
    "**68. Considering a one-dimensional vector D, how to compute means of subsets of D using a vector S of same size describing subset  indices? (★★★)**"
   ]
  },
  {
   "cell_type": "markdown",
   "id": "ec2f39cd",
   "metadata": {},
   "source": [
    "**69. How to get the diagonal of a dot product? (★★★)**"
   ]
  },
  {
   "cell_type": "markdown",
   "id": "7ba4eb7d",
   "metadata": {},
   "source": [
    "**70. Consider the vector [1, 2, 3, 4, 5], how to build a new vector with 3 consecutive zeros interleaved between each value? (★★★)**"
   ]
  },
  {
   "cell_type": "markdown",
   "id": "ce3f51e2",
   "metadata": {},
   "source": [
    "**71. Consider an array of dimension (5,5,3), how to mulitply it by an array with dimensions (5,5)? (★★★)**"
   ]
  },
  {
   "cell_type": "markdown",
   "id": "b936fecc",
   "metadata": {},
   "source": [
    "**72. How to swap two rows of an array? (★★★)**"
   ]
  },
  {
   "cell_type": "markdown",
   "id": "d89b1312",
   "metadata": {},
   "source": [
    "**73. Consider a set of 10 triplets describing 10 triangles (with shared vertices), find the set of unique line segments composing all the  triangles (★★★)**"
   ]
  },
  {
   "cell_type": "markdown",
   "id": "b11e0c93",
   "metadata": {},
   "source": [
    "**74. Given a sorted array C that corresponds to a bincount, how to produce an array A such that np.bincount(A) == C? (★★★)**"
   ]
  },
  {
   "cell_type": "markdown",
   "id": "18ba24eb",
   "metadata": {},
   "source": [
    "**75. How to compute averages using a sliding window over an array? (★★★)**"
   ]
  },
  {
   "cell_type": "markdown",
   "id": "3f989d64",
   "metadata": {},
   "source": [
    "**76. Consider a one-dimensional array Z, build a two-dimensional array whose first row is (Z[0],Z[1],Z[2]) and each subsequent row is  shifted by 1 (last row should be (Z[-3],Z[-2],Z[-1]) (★★★)**"
   ]
  },
  {
   "cell_type": "markdown",
   "id": "14131f93",
   "metadata": {},
   "source": [
    "**77. How to negate a boolean, or to change the sign of a float inplace? (★★★)**"
   ]
  },
  {
   "cell_type": "markdown",
   "id": "701ce8de",
   "metadata": {},
   "source": [
    "**78. Consider 2 sets of points P0,P1 describing lines (2d) and a point p, how to compute distance from p to each line i (P0[i],P1[i])? (★★★)**"
   ]
  },
  {
   "cell_type": "markdown",
   "id": "334ce7e5",
   "metadata": {},
   "source": [
    "**79. Consider 2 sets of points P0,P1 describing lines (2d) and a set of points P, how to compute distance from each point j (P[j]) to each line i (P0[i],P1[i])? (★★★)**"
   ]
  },
  {
   "cell_type": "markdown",
   "id": "c1247f90",
   "metadata": {},
   "source": [
    "**80. Consider an arbitrary array, write a function that extract a subpart with a fixed shape and centered on a given element (pad with a `fill` value when necessary) (★★★)**"
   ]
  },
  {
   "cell_type": "markdown",
   "id": "ffecbcf6",
   "metadata": {},
   "source": [
    "**81. Consider an array Z = [1,2,3,4,5,6,7,8,9,10,11,12,13,14], how to generate an array R = [[1,2,3,4], [2,3,4,5], [3,4,5,6], ..., [11,12,13,14]]? (★★★)**"
   ]
  },
  {
   "cell_type": "markdown",
   "id": "67c7c945",
   "metadata": {},
   "source": [
    "**82. Compute a matrix rank (★★★)**"
   ]
  },
  {
   "cell_type": "markdown",
   "id": "9cf6da62",
   "metadata": {},
   "source": [
    "**83. How to find the most frequent value in an array?**"
   ]
  },
  {
   "cell_type": "markdown",
   "id": "62e20b64",
   "metadata": {},
   "source": [
    "**84. Extract all the contiguous 3x3 blocks from a random 10x10 matrix (★★★)**"
   ]
  },
  {
   "cell_type": "markdown",
   "id": "77df2c7d",
   "metadata": {},
   "source": [
    "**85. Create a 2D array subclass such that Z[i,j] == Z[j,i] (★★★)**"
   ]
  },
  {
   "cell_type": "markdown",
   "id": "a0e0a7d3",
   "metadata": {},
   "source": [
    "**86. Consider a set of p matrices wich shape (n,n) and a set of p vectors with shape (n,1). How to compute the sum of of the p matrix products at once? (result has shape (n,1)) (★★★)**"
   ]
  },
  {
   "cell_type": "markdown",
   "id": "d0a6e7ab",
   "metadata": {},
   "source": [
    "**87. Consider a 16x16 array, how to get the block-sum (block size is 4x4)? (★★★)**"
   ]
  },
  {
   "cell_type": "markdown",
   "id": "4e6b58f7",
   "metadata": {},
   "source": [
    "**88. How to implement the Game of Life using numpy arrays? (★★★)**"
   ]
  },
  {
   "cell_type": "markdown",
   "id": "f56d2428",
   "metadata": {},
   "source": [
    "**89. How to get the n largest values of an array (★★★)**"
   ]
  },
  {
   "cell_type": "markdown",
   "id": "3dbbb7c4",
   "metadata": {},
   "source": [
    "**90. Given an arbitrary number of vectors, build the cartesian product (every combinations of every item) (★★★)**"
   ]
  },
  {
   "cell_type": "markdown",
   "id": "c22aa4e0",
   "metadata": {},
   "source": [
    "**91. How to create a record array from a regular array? (★★★)**"
   ]
  },
  {
   "cell_type": "markdown",
   "id": "48ded07e",
   "metadata": {},
   "source": [
    "**92. Consider a large vector Z, compute Z to the power of 3 using 3 different methods (★★★)**"
   ]
  },
  {
   "cell_type": "markdown",
   "id": "356abfcd",
   "metadata": {},
   "source": [
    "**93. Consider two arrays A and B of shape (8,3) and (2,2). How to find rows of A that contain elements of each row of B regardless of the order of the elements in B? (★★★)**"
   ]
  },
  {
   "cell_type": "markdown",
   "id": "33086df9",
   "metadata": {},
   "source": [
    "**94. Considering a 10x3 matrix, extract rows with unequal values (e.g. [2,2,3]) (★★★)**"
   ]
  },
  {
   "cell_type": "markdown",
   "id": "1010b52d",
   "metadata": {},
   "source": [
    "**95. Convert a vector of ints into a matrix binary representation (★★★)**"
   ]
  },
  {
   "cell_type": "markdown",
   "id": "4447db09",
   "metadata": {},
   "source": [
    "**96. Given a two dimensional array, how to extract unique rows? (★★★)**"
   ]
  },
  {
   "cell_type": "markdown",
   "id": "f6acac48",
   "metadata": {},
   "source": [
    "**97. Considering 2 vectors A & B, write the einsum equivalent of inner, outer, sum, and mul function (★★★)**"
   ]
  },
  {
   "cell_type": "markdown",
   "id": "a1ea8abb",
   "metadata": {},
   "source": [
    "**98. Considering a path described by two vectors (X,Y), how to sample it using equidistant samples (★★★)?**"
   ]
  },
  {
   "cell_type": "markdown",
   "id": "b3f65c1e",
   "metadata": {},
   "source": [
    "**99. Given an integer n and a 2D array X, select from X the rows which can be interpreted as draws from a multinomial distribution with n degrees, i.e., the rows which only contain integers and which sum to n. (★★★)**"
   ]
  },
  {
   "cell_type": "markdown",
   "id": "37bc0973",
   "metadata": {},
   "source": [
    "**100. Compute bootstrapped 95% confidence intervals for the mean of a 1D array X (i.e., resample the elements of an array with replacement N times, compute the mean of each sample, and then compute percentiles over the means). (★★★)**"
   ]
  },
  {
   "cell_type": "code",
   "execution_count": null,
   "id": "8bf3cc33",
   "metadata": {},
   "outputs": [],
   "source": []
  }
 ],
 "metadata": {
  "kernelspec": {
   "display_name": "Python 3 (ipykernel)",
   "language": "python",
   "name": "python3"
  },
  "language_info": {
   "codemirror_mode": {
    "name": "ipython",
    "version": 3
   },
   "file_extension": ".py",
   "mimetype": "text/x-python",
   "name": "python",
   "nbconvert_exporter": "python",
   "pygments_lexer": "ipython3",
   "version": "3.7.11"
  },
  "toc": {
   "base_numbering": 1,
   "nav_menu": {},
   "number_sections": true,
   "sideBar": true,
   "skip_h1_title": false,
   "title_cell": "Table of Contents",
   "title_sidebar": "Contents",
   "toc_cell": false,
   "toc_position": {},
   "toc_section_display": true,
   "toc_window_display": false
  }
 },
 "nbformat": 4,
 "nbformat_minor": 5
}
